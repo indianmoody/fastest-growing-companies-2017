{
 "cells": [
  {
   "cell_type": "code",
   "execution_count": 8,
   "metadata": {
    "collapsed": true
   },
   "outputs": [],
   "source": [
    "import numpy as np\n",
    "import pandas as pd\n",
    "import matplotlib.pyplot as plt\n",
    "import seaborn as sns\n",
    "% matplotlib inline"
   ]
  },
  {
   "cell_type": "code",
   "execution_count": 9,
   "metadata": {
    "collapsed": true
   },
   "outputs": [],
   "source": [
    "# Read cleaned data\n",
    "ind_df = pd.read_csv('inc_cleaned_data.csv', sep='|')"
   ]
  },
  {
   "cell_type": "code",
   "execution_count": 10,
   "metadata": {
    "collapsed": false
   },
   "outputs": [
    {
     "data": {
      "text/html": [
       "<div>\n",
       "<style>\n",
       "    .dataframe thead tr:only-child th {\n",
       "        text-align: right;\n",
       "    }\n",
       "\n",
       "    .dataframe thead th {\n",
       "        text-align: left;\n",
       "    }\n",
       "\n",
       "    .dataframe tbody tr th {\n",
       "        vertical-align: top;\n",
       "    }\n",
       "</style>\n",
       "<table border=\"1\" class=\"dataframe\">\n",
       "  <thead>\n",
       "    <tr style=\"text-align: right;\">\n",
       "      <th></th>\n",
       "      <th>rank</th>\n",
       "      <th>name</th>\n",
       "      <th>revenue</th>\n",
       "      <th>industry</th>\n",
       "      <th>employees</th>\n",
       "      <th>founded</th>\n",
       "      <th>growth</th>\n",
       "      <th>city</th>\n",
       "      <th>state</th>\n",
       "    </tr>\n",
       "  </thead>\n",
       "  <tbody>\n",
       "    <tr>\n",
       "      <th>0</th>\n",
       "      <td>1</td>\n",
       "      <td>Skillz</td>\n",
       "      <td>54.2</td>\n",
       "      <td>Software</td>\n",
       "      <td>58.0</td>\n",
       "      <td>2012.0</td>\n",
       "      <td>50059</td>\n",
       "      <td>San Francisco</td>\n",
       "      <td>CA</td>\n",
       "    </tr>\n",
       "    <tr>\n",
       "      <th>1</th>\n",
       "      <td>2</td>\n",
       "      <td>EnviroSolar Power</td>\n",
       "      <td>37.4</td>\n",
       "      <td>Energy</td>\n",
       "      <td>85.0</td>\n",
       "      <td>2012.0</td>\n",
       "      <td>36065</td>\n",
       "      <td>Fort Worth</td>\n",
       "      <td>TX</td>\n",
       "    </tr>\n",
       "    <tr>\n",
       "      <th>2</th>\n",
       "      <td>3</td>\n",
       "      <td>Gametime</td>\n",
       "      <td>48.8</td>\n",
       "      <td>Consumer Products &amp; Services</td>\n",
       "      <td>75.0</td>\n",
       "      <td>2013.0</td>\n",
       "      <td>34021</td>\n",
       "      <td>San Francisco</td>\n",
       "      <td>CA</td>\n",
       "    </tr>\n",
       "    <tr>\n",
       "      <th>3</th>\n",
       "      <td>4</td>\n",
       "      <td>Club Pilates Franchise</td>\n",
       "      <td>26.8</td>\n",
       "      <td>Consumer Products &amp; Services</td>\n",
       "      <td>31.0</td>\n",
       "      <td>2007.0</td>\n",
       "      <td>21319</td>\n",
       "      <td>Costa Mesa</td>\n",
       "      <td>CA</td>\n",
       "    </tr>\n",
       "    <tr>\n",
       "      <th>4</th>\n",
       "      <td>5</td>\n",
       "      <td>Halo Top Creamery</td>\n",
       "      <td>49.1</td>\n",
       "      <td>Food &amp; Beverage</td>\n",
       "      <td>10.0</td>\n",
       "      <td>2012.0</td>\n",
       "      <td>20944</td>\n",
       "      <td>Los Angeles</td>\n",
       "      <td>CA</td>\n",
       "    </tr>\n",
       "  </tbody>\n",
       "</table>\n",
       "</div>"
      ],
      "text/plain": [
       "   rank                    name  revenue                      industry  \\\n",
       "0     1                  Skillz     54.2                      Software   \n",
       "1     2       EnviroSolar Power     37.4                        Energy   \n",
       "2     3                Gametime     48.8  Consumer Products & Services   \n",
       "3     4  Club Pilates Franchise     26.8  Consumer Products & Services   \n",
       "4     5       Halo Top Creamery     49.1               Food & Beverage   \n",
       "\n",
       "   employees  founded  growth           city state  \n",
       "0       58.0   2012.0   50059  San Francisco    CA  \n",
       "1       85.0   2012.0   36065     Fort Worth    TX  \n",
       "2       75.0   2013.0   34021  San Francisco    CA  \n",
       "3       31.0   2007.0   21319     Costa Mesa    CA  \n",
       "4       10.0   2012.0   20944    Los Angeles    CA  "
      ]
     },
     "execution_count": 10,
     "metadata": {},
     "output_type": "execute_result"
    }
   ],
   "source": [
    "ind_df.head()"
   ]
  },
  {
   "cell_type": "code",
   "execution_count": 11,
   "metadata": {
    "collapsed": false
   },
   "outputs": [],
   "source": [
    "# Calculate previous revenue for companies based on on current revenue and growth values. Create separate column\n",
    "# in dataframe.\n",
    "ind_df.loc[:,('prev_revenue')] = ind_df.apply(lambda x: (100/(x['growth']+100)) * x['revenue'], axis=1).values"
   ]
  },
  {
   "cell_type": "code",
   "execution_count": 12,
   "metadata": {
    "collapsed": false
   },
   "outputs": [
    {
     "name": "stdout",
     "output_type": "stream",
     "text": [
      "<class 'pandas.core.frame.DataFrame'>\n",
      "RangeIndex: 4997 entries, 0 to 4996\n",
      "Data columns (total 10 columns):\n",
      "rank            4997 non-null int64\n",
      "name            4997 non-null object\n",
      "revenue         4997 non-null float64\n",
      "industry        4993 non-null object\n",
      "employees       4861 non-null float64\n",
      "founded         4994 non-null float64\n",
      "growth          4997 non-null int64\n",
      "city            4996 non-null object\n",
      "state           4997 non-null object\n",
      "prev_revenue    4997 non-null float64\n",
      "dtypes: float64(4), int64(2), object(4)\n",
      "memory usage: 390.5+ KB\n"
     ]
    }
   ],
   "source": [
    "ind_df.info()"
   ]
  },
  {
   "cell_type": "code",
   "execution_count": 38,
   "metadata": {
    "collapsed": false
   },
   "outputs": [
    {
     "data": {
      "text/html": [
       "<div>\n",
       "<style>\n",
       "    .dataframe thead tr:only-child th {\n",
       "        text-align: right;\n",
       "    }\n",
       "\n",
       "    .dataframe thead th {\n",
       "        text-align: left;\n",
       "    }\n",
       "\n",
       "    .dataframe tbody tr th {\n",
       "        vertical-align: top;\n",
       "    }\n",
       "</style>\n",
       "<table border=\"1\" class=\"dataframe\">\n",
       "  <thead>\n",
       "    <tr style=\"text-align: right;\">\n",
       "      <th></th>\n",
       "      <th>revenue</th>\n",
       "      <th>prev_revenue</th>\n",
       "    </tr>\n",
       "    <tr>\n",
       "      <th>industry</th>\n",
       "      <th></th>\n",
       "      <th></th>\n",
       "    </tr>\n",
       "  </thead>\n",
       "  <tbody>\n",
       "    <tr>\n",
       "      <th>Financial Services</th>\n",
       "      <td>43175.9</td>\n",
       "      <td>22145.623016</td>\n",
       "    </tr>\n",
       "    <tr>\n",
       "      <th>Health</th>\n",
       "      <td>24568.8</td>\n",
       "      <td>10757.583275</td>\n",
       "    </tr>\n",
       "    <tr>\n",
       "      <th>Business Products &amp; Services</th>\n",
       "      <td>19019.4</td>\n",
       "      <td>10261.731704</td>\n",
       "    </tr>\n",
       "    <tr>\n",
       "      <th>IT Services</th>\n",
       "      <td>15365.7</td>\n",
       "      <td>7241.802319</td>\n",
       "    </tr>\n",
       "    <tr>\n",
       "      <th>Construction</th>\n",
       "      <td>13009.3</td>\n",
       "      <td>6022.320729</td>\n",
       "    </tr>\n",
       "    <tr>\n",
       "      <th>Logistics &amp; Transportation</th>\n",
       "      <td>12832.9</td>\n",
       "      <td>6601.203021</td>\n",
       "    </tr>\n",
       "    <tr>\n",
       "      <th>Consumer Products &amp; Services</th>\n",
       "      <td>12296.3</td>\n",
       "      <td>5071.512327</td>\n",
       "    </tr>\n",
       "    <tr>\n",
       "      <th>Human Resources</th>\n",
       "      <td>12020.7</td>\n",
       "      <td>5645.312366</td>\n",
       "    </tr>\n",
       "    <tr>\n",
       "      <th>Government Services</th>\n",
       "      <td>10835.8</td>\n",
       "      <td>4552.813687</td>\n",
       "    </tr>\n",
       "    <tr>\n",
       "      <th>Advertising &amp; Marketing</th>\n",
       "      <td>8824.1</td>\n",
       "      <td>3478.792079</td>\n",
       "    </tr>\n",
       "    <tr>\n",
       "      <th>Retail</th>\n",
       "      <td>7239.5</td>\n",
       "      <td>3143.322713</td>\n",
       "    </tr>\n",
       "    <tr>\n",
       "      <th>Security</th>\n",
       "      <td>7172.4</td>\n",
       "      <td>2643.289928</td>\n",
       "    </tr>\n",
       "    <tr>\n",
       "      <th>Real Estate</th>\n",
       "      <td>6288.2</td>\n",
       "      <td>2347.898951</td>\n",
       "    </tr>\n",
       "    <tr>\n",
       "      <th>Manufacturing</th>\n",
       "      <td>5993.3</td>\n",
       "      <td>3147.437811</td>\n",
       "    </tr>\n",
       "    <tr>\n",
       "      <th>Insurance</th>\n",
       "      <td>5956.8</td>\n",
       "      <td>2803.725094</td>\n",
       "    </tr>\n",
       "    <tr>\n",
       "      <th>Software</th>\n",
       "      <td>5839.9</td>\n",
       "      <td>2493.470589</td>\n",
       "    </tr>\n",
       "    <tr>\n",
       "      <th>Food &amp; Beverage</th>\n",
       "      <td>5120.4</td>\n",
       "      <td>2118.716199</td>\n",
       "    </tr>\n",
       "    <tr>\n",
       "      <th>Energy</th>\n",
       "      <td>4119.5</td>\n",
       "      <td>1502.122450</td>\n",
       "    </tr>\n",
       "    <tr>\n",
       "      <th>Telecommunications</th>\n",
       "      <td>3659.0</td>\n",
       "      <td>1378.532165</td>\n",
       "    </tr>\n",
       "    <tr>\n",
       "      <th>Travel &amp; Hospitality</th>\n",
       "      <td>2609.3</td>\n",
       "      <td>867.106798</td>\n",
       "    </tr>\n",
       "    <tr>\n",
       "      <th>Engineering</th>\n",
       "      <td>1596.6</td>\n",
       "      <td>798.933646</td>\n",
       "    </tr>\n",
       "    <tr>\n",
       "      <th>Education</th>\n",
       "      <td>1382.5</td>\n",
       "      <td>547.588278</td>\n",
       "    </tr>\n",
       "    <tr>\n",
       "      <th>Environmental Services</th>\n",
       "      <td>1043.9</td>\n",
       "      <td>452.347636</td>\n",
       "    </tr>\n",
       "    <tr>\n",
       "      <th>Computer Hardware</th>\n",
       "      <td>1037.0</td>\n",
       "      <td>477.878631</td>\n",
       "    </tr>\n",
       "    <tr>\n",
       "      <th>Media</th>\n",
       "      <td>984.3</td>\n",
       "      <td>331.278176</td>\n",
       "    </tr>\n",
       "  </tbody>\n",
       "</table>\n",
       "</div>"
      ],
      "text/plain": [
       "                              revenue  prev_revenue\n",
       "industry                                           \n",
       "Financial Services            43175.9  22145.623016\n",
       "Health                        24568.8  10757.583275\n",
       "Business Products & Services  19019.4  10261.731704\n",
       "IT Services                   15365.7   7241.802319\n",
       "Construction                  13009.3   6022.320729\n",
       "Logistics & Transportation    12832.9   6601.203021\n",
       "Consumer Products & Services  12296.3   5071.512327\n",
       "Human Resources               12020.7   5645.312366\n",
       "Government Services           10835.8   4552.813687\n",
       "Advertising & Marketing        8824.1   3478.792079\n",
       "Retail                         7239.5   3143.322713\n",
       "Security                       7172.4   2643.289928\n",
       "Real Estate                    6288.2   2347.898951\n",
       "Manufacturing                  5993.3   3147.437811\n",
       "Insurance                      5956.8   2803.725094\n",
       "Software                       5839.9   2493.470589\n",
       "Food & Beverage                5120.4   2118.716199\n",
       "Energy                         4119.5   1502.122450\n",
       "Telecommunications             3659.0   1378.532165\n",
       "Travel & Hospitality           2609.3    867.106798\n",
       "Engineering                    1596.6    798.933646\n",
       "Education                      1382.5    547.588278\n",
       "Environmental Services         1043.9    452.347636\n",
       "Computer Hardware              1037.0    477.878631\n",
       "Media                           984.3    331.278176"
      ]
     },
     "execution_count": 38,
     "metadata": {},
     "output_type": "execute_result"
    }
   ],
   "source": [
    "ind_df.groupby('industry').sum().sort_values(by='revenue', ascending=False)[['revenue','prev_revenue']]"
   ]
  },
  {
   "cell_type": "code",
   "execution_count": 33,
   "metadata": {
    "collapsed": false
   },
   "outputs": [
    {
     "data": {
      "image/png": "[encoded data removed]",
      "text/plain": [
       "<matplotlib.figure.Figure at 0x11e0f8c88>"
      ]
     },
     "metadata": {},
     "output_type": "display_data"
    }
   ],
   "source": [
    "ind_revenue = ind_df.groupby('industry').sum().sort_values(by='revenue', ascending=False)\n",
    "plt.figure(figsize=(14,7))\n",
    "sns.set_style(\"whitegrid\")\n",
    "sns.barplot(ind_revenue.index, ind_revenue['revenue'])\n",
    "plt.tight_layout()"
   ]
  },
  {
   "cell_type": "code",
   "execution_count": 114,
   "metadata": {
    "collapsed": false
   },
   "outputs": [
    {
     "data": {
      "text/plain": [
       "industry\n",
       "Travel & Hospitality            200.920256\n",
       "Media                           197.121897\n",
       "Energy                          174.245285\n",
       "Security                        171.343674\n",
       "Real Estate                     167.822429\n",
       "Telecommunications              165.427249\n",
       "Advertising & Marketing         153.654136\n",
       "Education                       152.470708\n",
       "Consumer Products & Services    142.458249\n",
       "Food & Beverage                 141.674652\n",
       "Government Services             138.002272\n",
       "Software                        134.207695\n",
       "Environmental Services          130.773838\n",
       "Retail                          130.313610\n",
       "Health                          128.385869\n",
       "Computer Hardware               117.000705\n",
       "Construction                    116.018053\n",
       "Human Resources                 112.932416\n",
       "Insurance                       112.460202\n",
       "IT Services                     112.180605\n",
       "Engineering                      99.841377\n",
       "Financial Services               94.963583\n",
       "Logistics & Transportation       94.402444\n",
       "Manufacturing                    90.418377\n",
       "Business Products & Services     85.342986\n",
       "dtype: float64"
      ]
     },
     "execution_count": 114,
     "metadata": {},
     "output_type": "execute_result"
    }
   ],
   "source": [
    "# industry wise average growth\n",
    "ind_percent = ind_df.groupby('industry').apply(lambda x: ((x['revenue'].sum()-x['prev_revenue'].sum())/x['prev_revenue'].sum())*100).sort_values(ascending=False)\n",
    "ind_percent"
   ]
  },
  {
   "cell_type": "code",
   "execution_count": 116,
   "metadata": {
    "collapsed": false
   },
   "outputs": [
    {
     "data": {
      "text/plain": [
       "<matplotlib.axes._subplots.AxesSubplot at 0x11f981550>"
      ]
     },
     "execution_count": 116,
     "metadata": {},
     "output_type": "execute_result"
    },
    {
     "data": {
      "image/png": "[encoded data removed]",
      "text/plain": [
       "<matplotlib.figure.Figure at 0x11f981630>"
      ]
     },
     "metadata": {},
     "output_type": "display_data"
    }
   ],
   "source": [
    "plt.figure(figsize=(14,10))\n",
    "sns.barplot(ind_percent.index, ind_percent.values)"
   ]
  },
  {
   "cell_type": "code",
   "execution_count": 40,
   "metadata": {
    "collapsed": false
   },
   "outputs": [
    {
     "data": {
      "text/plain": [
       "IT Services                     598\n",
       "Advertising & Marketing         493\n",
       "Business Products & Services    474\n",
       "Health                          395\n",
       "Software                        328\n",
       "Construction                    301\n",
       "Financial Services              262\n",
       "Government Services             240\n",
       "Consumer Products & Services    239\n",
       "Real Estate                     197\n",
       "Human Resources                 186\n",
       "Retail                          168\n",
       "Logistics & Transportation      149\n",
       "Manufacturing                   145\n",
       "Food & Beverage                 137\n",
       "Energy                           91\n",
       "Insurance                        89\n",
       "Telecommunications               86\n",
       "Education                        74\n",
       "Security                         68\n",
       "Engineering                      67\n",
       "Media                            65\n",
       "Travel & Hospitality             63\n",
       "Environmental Services           42\n",
       "Computer Hardware                36\n",
       "Name: industry, dtype: int64"
      ]
     },
     "execution_count": 40,
     "metadata": {},
     "output_type": "execute_result"
    }
   ],
   "source": [
    "ind_df['industry'].value_counts()"
   ]
  },
  {
   "cell_type": "code",
   "execution_count": 56,
   "metadata": {
    "collapsed": false
   },
   "outputs": [
    {
     "data": {
      "text/plain": [
       "(-1.1020418539737087,\n",
       " 1.1000972312573223,\n",
       " -1.1008875166708314,\n",
       " 1.1052248176237449)"
      ]
     },
     "execution_count": 56,
     "metadata": {},
     "output_type": "execute_result"
    },
    {
     "data": {
      "image/png": "[encoded data removed]",
      "text/plain": [
       "<matplotlib.figure.Figure at 0x11dcd8128>"
      ]
     },
     "metadata": {},
     "output_type": "display_data"
    }
   ],
   "source": [
    "plt.figure(figsize=(10,10))\n",
    "ind_df['industry'].value_counts().plot(kind='pie', colormap='Dark2')\n",
    "plt.axis('equal')"
   ]
  },
  {
   "cell_type": "code",
   "execution_count": 110,
   "metadata": {
    "collapsed": false
   },
   "outputs": [
    {
     "data": {
      "image/png": "[encoded data removed]",
      "text/plain": [
       "<matplotlib.figure.Figure at 0x11f574be0>"
      ]
     },
     "metadata": {},
     "output_type": "display_data"
    }
   ],
   "source": [
    "from matplotlib import cm\n",
    "#plt.figure(figsize=(10,10))\n",
    "fig, ax = plt.subplots(figsize=(10,10))\n",
    "ax.set_prop_cycle(color=['#7F5A7E','#789594','#3E553F','#746C56','#A978A8','#92B4B3','#5B7E5D','#C189C0','#AFD7D6','#90A37C','#90866B','#DF9FDE','#C9F7F6','#B0CA94','#B4A785','#FAB4F9','#D1E9B7','#D4C49C','#B28B82','#DAABA1','#FAE8E1','#C4C48B','#EAEAA6','#FCFCB4','#44CBAE'])\n",
    "ind_growth = ind_df['industry'].value_counts()\n",
    "ax.pie(ind_growth, labels=ind_growth.index)\n",
    "ax.axis('equal')\n",
    "ax.set_title('Industry wise Growth')\n",
    "plt.tight_layout()\n"
   ]
  },
  {
   "cell_type": "code",
   "execution_count": 24,
   "metadata": {
    "collapsed": false
   },
   "outputs": [
    {
     "data": {
      "text/html": [
       "<div>\n",
       "<style>\n",
       "    .dataframe thead tr:only-child th {\n",
       "        text-align: right;\n",
       "    }\n",
       "\n",
       "    .dataframe thead th {\n",
       "        text-align: left;\n",
       "    }\n",
       "\n",
       "    .dataframe tbody tr th {\n",
       "        vertical-align: top;\n",
       "    }\n",
       "</style>\n",
       "<table border=\"1\" class=\"dataframe\">\n",
       "  <thead>\n",
       "    <tr style=\"text-align: right;\">\n",
       "      <th></th>\n",
       "      <th>count</th>\n",
       "      <th>mean</th>\n",
       "      <th>std</th>\n",
       "      <th>min</th>\n",
       "      <th>25%</th>\n",
       "      <th>50%</th>\n",
       "      <th>75%</th>\n",
       "      <th>max</th>\n",
       "    </tr>\n",
       "    <tr>\n",
       "      <th>industry</th>\n",
       "      <th></th>\n",
       "      <th></th>\n",
       "      <th></th>\n",
       "      <th></th>\n",
       "      <th></th>\n",
       "      <th></th>\n",
       "      <th></th>\n",
       "      <th></th>\n",
       "    </tr>\n",
       "  </thead>\n",
       "  <tbody>\n",
       "    <tr>\n",
       "      <th>Advertising &amp; Marketing</th>\n",
       "      <td>493.0</td>\n",
       "      <td>454.507099</td>\n",
       "      <td>1282.605860</td>\n",
       "      <td>41.0</td>\n",
       "      <td>85.00</td>\n",
       "      <td>152.0</td>\n",
       "      <td>346.00</td>\n",
       "      <td>16981.0</td>\n",
       "    </tr>\n",
       "    <tr>\n",
       "      <th>Business Products &amp; Services</th>\n",
       "      <td>474.0</td>\n",
       "      <td>431.320675</td>\n",
       "      <td>1086.115869</td>\n",
       "      <td>41.0</td>\n",
       "      <td>72.00</td>\n",
       "      <td>129.0</td>\n",
       "      <td>284.50</td>\n",
       "      <td>9935.0</td>\n",
       "    </tr>\n",
       "    <tr>\n",
       "      <th>Computer Hardware</th>\n",
       "      <td>36.0</td>\n",
       "      <td>342.638889</td>\n",
       "      <td>393.042139</td>\n",
       "      <td>44.0</td>\n",
       "      <td>89.75</td>\n",
       "      <td>183.5</td>\n",
       "      <td>376.75</td>\n",
       "      <td>1720.0</td>\n",
       "    </tr>\n",
       "    <tr>\n",
       "      <th>Construction</th>\n",
       "      <td>301.0</td>\n",
       "      <td>361.554817</td>\n",
       "      <td>725.911726</td>\n",
       "      <td>42.0</td>\n",
       "      <td>80.00</td>\n",
       "      <td>140.0</td>\n",
       "      <td>300.00</td>\n",
       "      <td>6611.0</td>\n",
       "    </tr>\n",
       "    <tr>\n",
       "      <th>Consumer Products &amp; Services</th>\n",
       "      <td>239.0</td>\n",
       "      <td>696.958159</td>\n",
       "      <td>2708.965457</td>\n",
       "      <td>41.0</td>\n",
       "      <td>87.50</td>\n",
       "      <td>169.0</td>\n",
       "      <td>401.00</td>\n",
       "      <td>34021.0</td>\n",
       "    </tr>\n",
       "    <tr>\n",
       "      <th>Education</th>\n",
       "      <td>74.0</td>\n",
       "      <td>443.108108</td>\n",
       "      <td>748.842258</td>\n",
       "      <td>42.0</td>\n",
       "      <td>90.50</td>\n",
       "      <td>158.5</td>\n",
       "      <td>437.75</td>\n",
       "      <td>4654.0</td>\n",
       "    </tr>\n",
       "    <tr>\n",
       "      <th>Energy</th>\n",
       "      <td>91.0</td>\n",
       "      <td>1562.450549</td>\n",
       "      <td>4376.897271</td>\n",
       "      <td>43.0</td>\n",
       "      <td>117.50</td>\n",
       "      <td>284.0</td>\n",
       "      <td>827.50</td>\n",
       "      <td>36065.0</td>\n",
       "    </tr>\n",
       "    <tr>\n",
       "      <th>Engineering</th>\n",
       "      <td>67.0</td>\n",
       "      <td>206.149254</td>\n",
       "      <td>314.386572</td>\n",
       "      <td>42.0</td>\n",
       "      <td>63.50</td>\n",
       "      <td>99.0</td>\n",
       "      <td>213.00</td>\n",
       "      <td>2196.0</td>\n",
       "    </tr>\n",
       "    <tr>\n",
       "      <th>Environmental Services</th>\n",
       "      <td>42.0</td>\n",
       "      <td>220.928571</td>\n",
       "      <td>226.399969</td>\n",
       "      <td>43.0</td>\n",
       "      <td>74.25</td>\n",
       "      <td>136.5</td>\n",
       "      <td>272.00</td>\n",
       "      <td>963.0</td>\n",
       "    </tr>\n",
       "    <tr>\n",
       "      <th>Financial Services</th>\n",
       "      <td>262.0</td>\n",
       "      <td>527.958015</td>\n",
       "      <td>1771.956047</td>\n",
       "      <td>41.0</td>\n",
       "      <td>76.50</td>\n",
       "      <td>141.0</td>\n",
       "      <td>285.75</td>\n",
       "      <td>19352.0</td>\n",
       "    </tr>\n",
       "    <tr>\n",
       "      <th>Food &amp; Beverage</th>\n",
       "      <td>137.0</td>\n",
       "      <td>743.364964</td>\n",
       "      <td>2271.434675</td>\n",
       "      <td>40.0</td>\n",
       "      <td>87.00</td>\n",
       "      <td>169.0</td>\n",
       "      <td>549.00</td>\n",
       "      <td>20944.0</td>\n",
       "    </tr>\n",
       "    <tr>\n",
       "      <th>Government Services</th>\n",
       "      <td>240.0</td>\n",
       "      <td>649.229167</td>\n",
       "      <td>1428.438742</td>\n",
       "      <td>40.0</td>\n",
       "      <td>97.50</td>\n",
       "      <td>201.0</td>\n",
       "      <td>447.50</td>\n",
       "      <td>10999.0</td>\n",
       "    </tr>\n",
       "    <tr>\n",
       "      <th>Health</th>\n",
       "      <td>395.0</td>\n",
       "      <td>440.878481</td>\n",
       "      <td>1160.531567</td>\n",
       "      <td>40.0</td>\n",
       "      <td>85.50</td>\n",
       "      <td>146.0</td>\n",
       "      <td>323.50</td>\n",
       "      <td>13462.0</td>\n",
       "    </tr>\n",
       "    <tr>\n",
       "      <th>Human Resources</th>\n",
       "      <td>186.0</td>\n",
       "      <td>314.161290</td>\n",
       "      <td>732.753058</td>\n",
       "      <td>42.0</td>\n",
       "      <td>76.25</td>\n",
       "      <td>107.0</td>\n",
       "      <td>220.00</td>\n",
       "      <td>6885.0</td>\n",
       "    </tr>\n",
       "    <tr>\n",
       "      <th>IT Services</th>\n",
       "      <td>598.0</td>\n",
       "      <td>306.220736</td>\n",
       "      <td>677.889261</td>\n",
       "      <td>41.0</td>\n",
       "      <td>73.00</td>\n",
       "      <td>114.0</td>\n",
       "      <td>249.75</td>\n",
       "      <td>9114.0</td>\n",
       "    </tr>\n",
       "    <tr>\n",
       "      <th>Insurance</th>\n",
       "      <td>89.0</td>\n",
       "      <td>397.561798</td>\n",
       "      <td>1265.280107</td>\n",
       "      <td>45.0</td>\n",
       "      <td>77.00</td>\n",
       "      <td>125.0</td>\n",
       "      <td>231.00</td>\n",
       "      <td>11369.0</td>\n",
       "    </tr>\n",
       "    <tr>\n",
       "      <th>Logistics &amp; Transportation</th>\n",
       "      <td>149.0</td>\n",
       "      <td>653.550336</td>\n",
       "      <td>1626.461324</td>\n",
       "      <td>40.0</td>\n",
       "      <td>87.00</td>\n",
       "      <td>140.0</td>\n",
       "      <td>397.00</td>\n",
       "      <td>13666.0</td>\n",
       "    </tr>\n",
       "    <tr>\n",
       "      <th>Manufacturing</th>\n",
       "      <td>145.0</td>\n",
       "      <td>248.000000</td>\n",
       "      <td>619.128218</td>\n",
       "      <td>40.0</td>\n",
       "      <td>57.00</td>\n",
       "      <td>91.0</td>\n",
       "      <td>161.00</td>\n",
       "      <td>6062.0</td>\n",
       "    </tr>\n",
       "    <tr>\n",
       "      <th>Media</th>\n",
       "      <td>65.0</td>\n",
       "      <td>708.046154</td>\n",
       "      <td>1717.138812</td>\n",
       "      <td>42.0</td>\n",
       "      <td>84.00</td>\n",
       "      <td>162.0</td>\n",
       "      <td>487.00</td>\n",
       "      <td>9396.0</td>\n",
       "    </tr>\n",
       "    <tr>\n",
       "      <th>Real Estate</th>\n",
       "      <td>197.0</td>\n",
       "      <td>398.142132</td>\n",
       "      <td>852.537485</td>\n",
       "      <td>41.0</td>\n",
       "      <td>89.00</td>\n",
       "      <td>176.0</td>\n",
       "      <td>319.00</td>\n",
       "      <td>8829.0</td>\n",
       "    </tr>\n",
       "    <tr>\n",
       "      <th>Retail</th>\n",
       "      <td>168.0</td>\n",
       "      <td>672.976190</td>\n",
       "      <td>1410.209353</td>\n",
       "      <td>40.0</td>\n",
       "      <td>102.25</td>\n",
       "      <td>201.5</td>\n",
       "      <td>646.25</td>\n",
       "      <td>12327.0</td>\n",
       "    </tr>\n",
       "    <tr>\n",
       "      <th>Security</th>\n",
       "      <td>68.0</td>\n",
       "      <td>328.602941</td>\n",
       "      <td>486.793135</td>\n",
       "      <td>47.0</td>\n",
       "      <td>89.75</td>\n",
       "      <td>153.0</td>\n",
       "      <td>325.00</td>\n",
       "      <td>2463.0</td>\n",
       "    </tr>\n",
       "    <tr>\n",
       "      <th>Software</th>\n",
       "      <td>328.0</td>\n",
       "      <td>625.692073</td>\n",
       "      <td>3003.612171</td>\n",
       "      <td>40.0</td>\n",
       "      <td>84.75</td>\n",
       "      <td>163.0</td>\n",
       "      <td>383.75</td>\n",
       "      <td>50059.0</td>\n",
       "    </tr>\n",
       "    <tr>\n",
       "      <th>Telecommunications</th>\n",
       "      <td>86.0</td>\n",
       "      <td>202.406977</td>\n",
       "      <td>341.686694</td>\n",
       "      <td>41.0</td>\n",
       "      <td>64.25</td>\n",
       "      <td>96.5</td>\n",
       "      <td>168.75</td>\n",
       "      <td>2123.0</td>\n",
       "    </tr>\n",
       "    <tr>\n",
       "      <th>Travel &amp; Hospitality</th>\n",
       "      <td>63.0</td>\n",
       "      <td>402.476190</td>\n",
       "      <td>773.013935</td>\n",
       "      <td>41.0</td>\n",
       "      <td>74.50</td>\n",
       "      <td>141.0</td>\n",
       "      <td>360.00</td>\n",
       "      <td>5379.0</td>\n",
       "    </tr>\n",
       "  </tbody>\n",
       "</table>\n",
       "</div>"
      ],
      "text/plain": [
       "                              count         mean          std   min     25%  \\\n",
       "industry                                                                      \n",
       "Advertising & Marketing       493.0   454.507099  1282.605860  41.0   85.00   \n",
       "Business Products & Services  474.0   431.320675  1086.115869  41.0   72.00   \n",
       "Computer Hardware              36.0   342.638889   393.042139  44.0   89.75   \n",
       "Construction                  301.0   361.554817   725.911726  42.0   80.00   \n",
       "Consumer Products & Services  239.0   696.958159  2708.965457  41.0   87.50   \n",
       "Education                      74.0   443.108108   748.842258  42.0   90.50   \n",
       "Energy                         91.0  1562.450549  4376.897271  43.0  117.50   \n",
       "Engineering                    67.0   206.149254   314.386572  42.0   63.50   \n",
       "Environmental Services         42.0   220.928571   226.399969  43.0   74.25   \n",
       "Financial Services            262.0   527.958015  1771.956047  41.0   76.50   \n",
       "Food & Beverage               137.0   743.364964  2271.434675  40.0   87.00   \n",
       "Government Services           240.0   649.229167  1428.438742  40.0   97.50   \n",
       "Health                        395.0   440.878481  1160.531567  40.0   85.50   \n",
       "Human Resources               186.0   314.161290   732.753058  42.0   76.25   \n",
       "IT Services                   598.0   306.220736   677.889261  41.0   73.00   \n",
       "Insurance                      89.0   397.561798  1265.280107  45.0   77.00   \n",
       "Logistics & Transportation    149.0   653.550336  1626.461324  40.0   87.00   \n",
       "Manufacturing                 145.0   248.000000   619.128218  40.0   57.00   \n",
       "Media                          65.0   708.046154  1717.138812  42.0   84.00   \n",
       "Real Estate                   197.0   398.142132   852.537485  41.0   89.00   \n",
       "Retail                        168.0   672.976190  1410.209353  40.0  102.25   \n",
       "Security                       68.0   328.602941   486.793135  47.0   89.75   \n",
       "Software                      328.0   625.692073  3003.612171  40.0   84.75   \n",
       "Telecommunications             86.0   202.406977   341.686694  41.0   64.25   \n",
       "Travel & Hospitality           63.0   402.476190   773.013935  41.0   74.50   \n",
       "\n",
       "                                50%     75%      max  \n",
       "industry                                              \n",
       "Advertising & Marketing       152.0  346.00  16981.0  \n",
       "Business Products & Services  129.0  284.50   9935.0  \n",
       "Computer Hardware             183.5  376.75   1720.0  \n",
       "Construction                  140.0  300.00   6611.0  \n",
       "Consumer Products & Services  169.0  401.00  34021.0  \n",
       "Education                     158.5  437.75   4654.0  \n",
       "Energy                        284.0  827.50  36065.0  \n",
       "Engineering                    99.0  213.00   2196.0  \n",
       "Environmental Services        136.5  272.00    963.0  \n",
       "Financial Services            141.0  285.75  19352.0  \n",
       "Food & Beverage               169.0  549.00  20944.0  \n",
       "Government Services           201.0  447.50  10999.0  \n",
       "Health                        146.0  323.50  13462.0  \n",
       "Human Resources               107.0  220.00   6885.0  \n",
       "IT Services                   114.0  249.75   9114.0  \n",
       "Insurance                     125.0  231.00  11369.0  \n",
       "Logistics & Transportation    140.0  397.00  13666.0  \n",
       "Manufacturing                  91.0  161.00   6062.0  \n",
       "Media                         162.0  487.00   9396.0  \n",
       "Real Estate                   176.0  319.00   8829.0  \n",
       "Retail                        201.5  646.25  12327.0  \n",
       "Security                      153.0  325.00   2463.0  \n",
       "Software                      163.0  383.75  50059.0  \n",
       "Telecommunications             96.5  168.75   2123.0  \n",
       "Travel & Hospitality          141.0  360.00   5379.0  "
      ]
     },
     "execution_count": 24,
     "metadata": {},
     "output_type": "execute_result"
    }
   ],
   "source": [
    "ind_df.groupby('industry').describe()['growth']"
   ]
  },
  {
   "cell_type": "code",
   "execution_count": 169,
   "metadata": {
    "collapsed": false
   },
   "outputs": [
    {
     "data": {
      "text/plain": [
       "array(['Consumer Products & Services', 'Food & Beverage',\n",
       "       'Government Services', 'Software', 'Environmental Services',\n",
       "       'Retail', 'Health', 'Computer Hardware', 'Construction',\n",
       "       'Human Resources', 'Insurance', 'IT Services', '--', '--', '--',\n",
       "       '--', '--'], dtype=object)"
      ]
     },
     "execution_count": 169,
     "metadata": {},
     "output_type": "execute_result"
    }
   ],
   "source": [
    "np.append(ind_percent[(ind_percent.values > 100) & (ind_percent.values < 150)].index.values)"
   ]
  },
  {
   "cell_type": "code",
   "execution_count": 165,
   "metadata": {
    "collapsed": true
   },
   "outputs": [],
   "source": [
    "# table/dataframe to categorize industries according to growth with window of 25%\n",
    "ind_tier_table = pd.DataFrame() #created empty dataframe"
   ]
  },
  {
   "cell_type": "code",
   "execution_count": 170,
   "metadata": {
    "collapsed": false
   },
   "outputs": [],
   "source": [
    "ind_tier_table['175-200'] = np.append(ind_percent[ind_percent.values > 175].index.values, [\" \"]*5)\n",
    "ind_tier_table['150-175'] = np.append(ind_percent[(ind_percent.values > 150) & (ind_percent.values < 175)].index.values, [\" \"])\n",
    "ind_tier_table['125-150'] = ind_percent[(ind_percent.values > 125) & (ind_percent.values < 150)].index\n",
    "ind_tier_table['100-125'] = np.append(ind_percent[(ind_percent.values > 100) & (ind_percent.values < 125)].index.values, [\" \"]*2)\n",
    "ind_tier_table['0-100'] = np.append(ind_percent[(ind_percent.values > 0) & (ind_percent.values < 100)].index.values, [\" \"]*2)"
   ]
  },
  {
   "cell_type": "code",
   "execution_count": 171,
   "metadata": {
    "collapsed": false
   },
   "outputs": [
    {
     "data": {
      "text/html": [
       "<div>\n",
       "<style>\n",
       "    .dataframe thead tr:only-child th {\n",
       "        text-align: right;\n",
       "    }\n",
       "\n",
       "    .dataframe thead th {\n",
       "        text-align: left;\n",
       "    }\n",
       "\n",
       "    .dataframe tbody tr th {\n",
       "        vertical-align: top;\n",
       "    }\n",
       "</style>\n",
       "<table border=\"1\" class=\"dataframe\">\n",
       "  <thead>\n",
       "    <tr style=\"text-align: right;\">\n",
       "      <th></th>\n",
       "      <th>175-200</th>\n",
       "      <th>150-175</th>\n",
       "      <th>125-150</th>\n",
       "      <th>100-125</th>\n",
       "      <th>0-100</th>\n",
       "    </tr>\n",
       "  </thead>\n",
       "  <tbody>\n",
       "    <tr>\n",
       "      <th>0</th>\n",
       "      <td>Travel &amp; Hospitality</td>\n",
       "      <td>Energy</td>\n",
       "      <td>Consumer Products &amp; Services</td>\n",
       "      <td>Computer Hardware</td>\n",
       "      <td>Engineering</td>\n",
       "    </tr>\n",
       "    <tr>\n",
       "      <th>1</th>\n",
       "      <td>Media</td>\n",
       "      <td>Security</td>\n",
       "      <td>Food &amp; Beverage</td>\n",
       "      <td>Construction</td>\n",
       "      <td>Financial Services</td>\n",
       "    </tr>\n",
       "    <tr>\n",
       "      <th>2</th>\n",
       "      <td></td>\n",
       "      <td>Real Estate</td>\n",
       "      <td>Government Services</td>\n",
       "      <td>Human Resources</td>\n",
       "      <td>Logistics &amp; Transportation</td>\n",
       "    </tr>\n",
       "    <tr>\n",
       "      <th>3</th>\n",
       "      <td></td>\n",
       "      <td>Telecommunications</td>\n",
       "      <td>Software</td>\n",
       "      <td>Insurance</td>\n",
       "      <td>Manufacturing</td>\n",
       "    </tr>\n",
       "    <tr>\n",
       "      <th>4</th>\n",
       "      <td></td>\n",
       "      <td>Advertising &amp; Marketing</td>\n",
       "      <td>Environmental Services</td>\n",
       "      <td>IT Services</td>\n",
       "      <td>Business Products &amp; Services</td>\n",
       "    </tr>\n",
       "    <tr>\n",
       "      <th>5</th>\n",
       "      <td></td>\n",
       "      <td>Education</td>\n",
       "      <td>Retail</td>\n",
       "      <td></td>\n",
       "      <td></td>\n",
       "    </tr>\n",
       "    <tr>\n",
       "      <th>6</th>\n",
       "      <td></td>\n",
       "      <td></td>\n",
       "      <td>Health</td>\n",
       "      <td></td>\n",
       "      <td></td>\n",
       "    </tr>\n",
       "  </tbody>\n",
       "</table>\n",
       "</div>"
      ],
      "text/plain": [
       "                175-200                  150-175  \\\n",
       "0  Travel & Hospitality                   Energy   \n",
       "1                 Media                 Security   \n",
       "2                                    Real Estate   \n",
       "3                             Telecommunications   \n",
       "4                        Advertising & Marketing   \n",
       "5                                      Education   \n",
       "6                                                  \n",
       "\n",
       "                        125-150            100-125  \\\n",
       "0  Consumer Products & Services  Computer Hardware   \n",
       "1               Food & Beverage       Construction   \n",
       "2           Government Services    Human Resources   \n",
       "3                      Software          Insurance   \n",
       "4        Environmental Services        IT Services   \n",
       "5                        Retail                      \n",
       "6                        Health                      \n",
       "\n",
       "                          0-100  \n",
       "0                   Engineering  \n",
       "1            Financial Services  \n",
       "2    Logistics & Transportation  \n",
       "3                 Manufacturing  \n",
       "4  Business Products & Services  \n",
       "5                                \n",
       "6                                "
      ]
     },
     "execution_count": 171,
     "metadata": {},
     "output_type": "execute_result"
    }
   ],
   "source": [
    "ind_tier_table"
   ]
  },
  {
   "cell_type": "code",
   "execution_count": null,
   "metadata": {
    "collapsed": false
   },
   "outputs": [],
   "source": []
  },
  {
   "cell_type": "code",
   "execution_count": 174,
   "metadata": {
    "collapsed": false
   },
   "outputs": [
    {
     "data": {
      "text/plain": [
       "industry\n",
       "Security                        2395.746269\n",
       "Human Resources                 1022.331492\n",
       "Education                        529.082192\n",
       "Food & Beverage                  384.197080\n",
       "Health                           360.934555\n",
       "Travel & Hospitality             359.803279\n",
       "Financial Services               274.274131\n",
       "Business Products & Services     272.166307\n",
       "Logistics & Transportation       228.194444\n",
       "Insurance                        221.568182\n",
       "IT Services                      213.652705\n",
       "Government Services              187.775424\n",
       "Telecommunications               171.144578\n",
       "Retail                           165.017857\n",
       "Manufacturing                    162.416667\n",
       "Media                            145.253968\n",
       "Engineering                      139.000000\n",
       "Energy                           130.112360\n",
       "Software                         124.820513\n",
       "Real Estate                      122.661538\n",
       "Environmental Services           120.463415\n",
       "Consumer Products & Services     114.576271\n",
       "Construction                      88.548822\n",
       "Advertising & Marketing           65.503226\n",
       "Computer Hardware                 52.257143\n",
       "Name: employees, dtype: float64"
      ]
     },
     "execution_count": 174,
     "metadata": {},
     "output_type": "execute_result"
    }
   ],
   "source": [
    "ind_df.groupby('industry').mean().sort_values(by='employees', ascending=False)['employees']"
   ]
  },
  {
   "cell_type": "code",
   "execution_count": 175,
   "metadata": {
    "collapsed": false
   },
   "outputs": [
    {
     "data": {
      "text/plain": [
       "industry\n",
       "Computer Hardware               2005.555556\n",
       "Media                           2005.461538\n",
       "Energy                          2005.351648\n",
       "Advertising & Marketing         2005.247465\n",
       "Retail                          2005.244048\n",
       "Software                        2005.179878\n",
       "Real Estate                     2005.055838\n",
       "Travel & Hospitality            2005.015873\n",
       "Government Services             2004.741667\n",
       "Health                          2004.601523\n",
       "Security                        2004.470588\n",
       "IT Services                     2004.342809\n",
       "Consumer Products & Services    2004.305439\n",
       "Education                       2004.189189\n",
       "Food & Beverage                 2003.810219\n",
       "Logistics & Transportation      2003.570470\n",
       "Financial Services              2002.720307\n",
       "Human Resources                 2002.650538\n",
       "Telecommunications              2001.313953\n",
       "Business Products & Services    2000.964135\n",
       "Insurance                       1999.886364\n",
       "Construction                    1999.438538\n",
       "Environmental Services          1999.333333\n",
       "Engineering                     1996.417910\n",
       "Manufacturing                   1993.917241\n",
       "Name: founded, dtype: float64"
      ]
     },
     "execution_count": 175,
     "metadata": {},
     "output_type": "execute_result"
    }
   ],
   "source": [
    "ind_df.groupby('industry').mean().sort_values(by='founded', ascending=False)['founded']"
   ]
  },
  {
   "cell_type": "code",
   "execution_count": 180,
   "metadata": {
    "collapsed": false
   },
   "outputs": [
    {
     "data": {
      "text/html": [
       "<div>\n",
       "<style>\n",
       "    .dataframe thead tr:only-child th {\n",
       "        text-align: right;\n",
       "    }\n",
       "\n",
       "    .dataframe thead th {\n",
       "        text-align: left;\n",
       "    }\n",
       "\n",
       "    .dataframe tbody tr th {\n",
       "        vertical-align: top;\n",
       "    }\n",
       "</style>\n",
       "<table border=\"1\" class=\"dataframe\">\n",
       "  <thead>\n",
       "    <tr style=\"text-align: right;\">\n",
       "      <th></th>\n",
       "      <th>count</th>\n",
       "      <th>mean</th>\n",
       "      <th>std</th>\n",
       "      <th>min</th>\n",
       "      <th>25%</th>\n",
       "      <th>50%</th>\n",
       "      <th>75%</th>\n",
       "      <th>max</th>\n",
       "    </tr>\n",
       "    <tr>\n",
       "      <th>industry</th>\n",
       "      <th></th>\n",
       "      <th></th>\n",
       "      <th></th>\n",
       "      <th></th>\n",
       "      <th></th>\n",
       "      <th></th>\n",
       "      <th></th>\n",
       "      <th></th>\n",
       "    </tr>\n",
       "  </thead>\n",
       "  <tbody>\n",
       "    <tr>\n",
       "      <th>Manufacturing</th>\n",
       "      <td>145.0</td>\n",
       "      <td>1993.917241</td>\n",
       "      <td>20.475088</td>\n",
       "      <td>1895.0</td>\n",
       "      <td>1990.00</td>\n",
       "      <td>2000.0</td>\n",
       "      <td>2007.0</td>\n",
       "      <td>2013.0</td>\n",
       "    </tr>\n",
       "    <tr>\n",
       "      <th>Engineering</th>\n",
       "      <td>67.0</td>\n",
       "      <td>1996.417910</td>\n",
       "      <td>15.149907</td>\n",
       "      <td>1953.0</td>\n",
       "      <td>1990.50</td>\n",
       "      <td>2002.0</td>\n",
       "      <td>2007.5</td>\n",
       "      <td>2013.0</td>\n",
       "    </tr>\n",
       "    <tr>\n",
       "      <th>Environmental Services</th>\n",
       "      <td>42.0</td>\n",
       "      <td>1999.333333</td>\n",
       "      <td>14.569709</td>\n",
       "      <td>1936.0</td>\n",
       "      <td>1994.00</td>\n",
       "      <td>2002.5</td>\n",
       "      <td>2008.0</td>\n",
       "      <td>2012.0</td>\n",
       "    </tr>\n",
       "    <tr>\n",
       "      <th>Construction</th>\n",
       "      <td>301.0</td>\n",
       "      <td>1999.438538</td>\n",
       "      <td>14.301994</td>\n",
       "      <td>1921.0</td>\n",
       "      <td>1992.00</td>\n",
       "      <td>2004.0</td>\n",
       "      <td>2010.0</td>\n",
       "      <td>2013.0</td>\n",
       "    </tr>\n",
       "    <tr>\n",
       "      <th>Insurance</th>\n",
       "      <td>88.0</td>\n",
       "      <td>1999.886364</td>\n",
       "      <td>17.845075</td>\n",
       "      <td>1869.0</td>\n",
       "      <td>1996.00</td>\n",
       "      <td>2005.0</td>\n",
       "      <td>2008.0</td>\n",
       "      <td>2013.0</td>\n",
       "    </tr>\n",
       "    <tr>\n",
       "      <th>Business Products &amp; Services</th>\n",
       "      <td>474.0</td>\n",
       "      <td>2000.964135</td>\n",
       "      <td>17.533802</td>\n",
       "      <td>1840.0</td>\n",
       "      <td>1999.00</td>\n",
       "      <td>2005.0</td>\n",
       "      <td>2010.0</td>\n",
       "      <td>2013.0</td>\n",
       "    </tr>\n",
       "    <tr>\n",
       "      <th>Telecommunications</th>\n",
       "      <td>86.0</td>\n",
       "      <td>2001.313953</td>\n",
       "      <td>8.035600</td>\n",
       "      <td>1970.0</td>\n",
       "      <td>1999.00</td>\n",
       "      <td>2002.0</td>\n",
       "      <td>2006.0</td>\n",
       "      <td>2013.0</td>\n",
       "    </tr>\n",
       "    <tr>\n",
       "      <th>Human Resources</th>\n",
       "      <td>186.0</td>\n",
       "      <td>2002.650538</td>\n",
       "      <td>9.192325</td>\n",
       "      <td>1947.0</td>\n",
       "      <td>1999.00</td>\n",
       "      <td>2004.5</td>\n",
       "      <td>2009.0</td>\n",
       "      <td>2013.0</td>\n",
       "    </tr>\n",
       "    <tr>\n",
       "      <th>Financial Services</th>\n",
       "      <td>261.0</td>\n",
       "      <td>2002.720307</td>\n",
       "      <td>10.216236</td>\n",
       "      <td>1933.0</td>\n",
       "      <td>2000.00</td>\n",
       "      <td>2006.0</td>\n",
       "      <td>2009.0</td>\n",
       "      <td>2013.0</td>\n",
       "    </tr>\n",
       "    <tr>\n",
       "      <th>Logistics &amp; Transportation</th>\n",
       "      <td>149.0</td>\n",
       "      <td>2003.570470</td>\n",
       "      <td>15.266221</td>\n",
       "      <td>1890.0</td>\n",
       "      <td>2002.00</td>\n",
       "      <td>2008.0</td>\n",
       "      <td>2011.0</td>\n",
       "      <td>2013.0</td>\n",
       "    </tr>\n",
       "    <tr>\n",
       "      <th>Food &amp; Beverage</th>\n",
       "      <td>137.0</td>\n",
       "      <td>2003.810219</td>\n",
       "      <td>12.606915</td>\n",
       "      <td>1914.0</td>\n",
       "      <td>2000.00</td>\n",
       "      <td>2008.0</td>\n",
       "      <td>2010.0</td>\n",
       "      <td>2013.0</td>\n",
       "    </tr>\n",
       "    <tr>\n",
       "      <th>Education</th>\n",
       "      <td>74.0</td>\n",
       "      <td>2004.189189</td>\n",
       "      <td>8.318449</td>\n",
       "      <td>1969.0</td>\n",
       "      <td>2002.00</td>\n",
       "      <td>2007.0</td>\n",
       "      <td>2009.0</td>\n",
       "      <td>2012.0</td>\n",
       "    </tr>\n",
       "    <tr>\n",
       "      <th>Consumer Products &amp; Services</th>\n",
       "      <td>239.0</td>\n",
       "      <td>2004.305439</td>\n",
       "      <td>10.608127</td>\n",
       "      <td>1947.0</td>\n",
       "      <td>2003.00</td>\n",
       "      <td>2008.0</td>\n",
       "      <td>2011.0</td>\n",
       "      <td>2013.0</td>\n",
       "    </tr>\n",
       "    <tr>\n",
       "      <th>IT Services</th>\n",
       "      <td>598.0</td>\n",
       "      <td>2004.342809</td>\n",
       "      <td>6.306085</td>\n",
       "      <td>1979.0</td>\n",
       "      <td>2001.00</td>\n",
       "      <td>2005.0</td>\n",
       "      <td>2009.0</td>\n",
       "      <td>2013.0</td>\n",
       "    </tr>\n",
       "    <tr>\n",
       "      <th>Security</th>\n",
       "      <td>68.0</td>\n",
       "      <td>2004.470588</td>\n",
       "      <td>7.462284</td>\n",
       "      <td>1965.0</td>\n",
       "      <td>2002.00</td>\n",
       "      <td>2005.0</td>\n",
       "      <td>2009.0</td>\n",
       "      <td>2013.0</td>\n",
       "    </tr>\n",
       "    <tr>\n",
       "      <th>Health</th>\n",
       "      <td>394.0</td>\n",
       "      <td>2004.601523</td>\n",
       "      <td>7.141328</td>\n",
       "      <td>1970.0</td>\n",
       "      <td>2001.00</td>\n",
       "      <td>2007.0</td>\n",
       "      <td>2010.0</td>\n",
       "      <td>2013.0</td>\n",
       "    </tr>\n",
       "    <tr>\n",
       "      <th>Government Services</th>\n",
       "      <td>240.0</td>\n",
       "      <td>2004.741667</td>\n",
       "      <td>6.350957</td>\n",
       "      <td>1963.0</td>\n",
       "      <td>2002.00</td>\n",
       "      <td>2006.0</td>\n",
       "      <td>2009.0</td>\n",
       "      <td>2013.0</td>\n",
       "    </tr>\n",
       "    <tr>\n",
       "      <th>Travel &amp; Hospitality</th>\n",
       "      <td>63.0</td>\n",
       "      <td>2005.015873</td>\n",
       "      <td>9.079385</td>\n",
       "      <td>1960.0</td>\n",
       "      <td>2003.00</td>\n",
       "      <td>2008.0</td>\n",
       "      <td>2011.0</td>\n",
       "      <td>2013.0</td>\n",
       "    </tr>\n",
       "    <tr>\n",
       "      <th>Real Estate</th>\n",
       "      <td>197.0</td>\n",
       "      <td>2005.055838</td>\n",
       "      <td>10.309592</td>\n",
       "      <td>1925.0</td>\n",
       "      <td>2005.00</td>\n",
       "      <td>2008.0</td>\n",
       "      <td>2010.0</td>\n",
       "      <td>2013.0</td>\n",
       "    </tr>\n",
       "    <tr>\n",
       "      <th>Software</th>\n",
       "      <td>328.0</td>\n",
       "      <td>2005.179878</td>\n",
       "      <td>6.937993</td>\n",
       "      <td>1976.0</td>\n",
       "      <td>2001.00</td>\n",
       "      <td>2007.0</td>\n",
       "      <td>2010.0</td>\n",
       "      <td>2013.0</td>\n",
       "    </tr>\n",
       "    <tr>\n",
       "      <th>Retail</th>\n",
       "      <td>168.0</td>\n",
       "      <td>2005.244048</td>\n",
       "      <td>9.541901</td>\n",
       "      <td>1945.0</td>\n",
       "      <td>2003.75</td>\n",
       "      <td>2008.0</td>\n",
       "      <td>2011.0</td>\n",
       "      <td>2013.0</td>\n",
       "    </tr>\n",
       "    <tr>\n",
       "      <th>Advertising &amp; Marketing</th>\n",
       "      <td>493.0</td>\n",
       "      <td>2005.247465</td>\n",
       "      <td>8.987097</td>\n",
       "      <td>1915.0</td>\n",
       "      <td>2003.00</td>\n",
       "      <td>2008.0</td>\n",
       "      <td>2010.0</td>\n",
       "      <td>2013.0</td>\n",
       "    </tr>\n",
       "    <tr>\n",
       "      <th>Energy</th>\n",
       "      <td>91.0</td>\n",
       "      <td>2005.351648</td>\n",
       "      <td>10.472582</td>\n",
       "      <td>1951.0</td>\n",
       "      <td>2004.50</td>\n",
       "      <td>2009.0</td>\n",
       "      <td>2011.0</td>\n",
       "      <td>2013.0</td>\n",
       "    </tr>\n",
       "    <tr>\n",
       "      <th>Media</th>\n",
       "      <td>65.0</td>\n",
       "      <td>2005.461538</td>\n",
       "      <td>9.046886</td>\n",
       "      <td>1948.0</td>\n",
       "      <td>2003.00</td>\n",
       "      <td>2008.0</td>\n",
       "      <td>2011.0</td>\n",
       "      <td>2013.0</td>\n",
       "    </tr>\n",
       "    <tr>\n",
       "      <th>Computer Hardware</th>\n",
       "      <td>36.0</td>\n",
       "      <td>2005.555556</td>\n",
       "      <td>7.473551</td>\n",
       "      <td>1980.0</td>\n",
       "      <td>2003.75</td>\n",
       "      <td>2008.5</td>\n",
       "      <td>2011.0</td>\n",
       "      <td>2013.0</td>\n",
       "    </tr>\n",
       "  </tbody>\n",
       "</table>\n",
       "</div>"
      ],
      "text/plain": [
       "                              count         mean        std     min      25%  \\\n",
       "industry                                                                       \n",
       "Manufacturing                 145.0  1993.917241  20.475088  1895.0  1990.00   \n",
       "Engineering                    67.0  1996.417910  15.149907  1953.0  1990.50   \n",
       "Environmental Services         42.0  1999.333333  14.569709  1936.0  1994.00   \n",
       "Construction                  301.0  1999.438538  14.301994  1921.0  1992.00   \n",
       "Insurance                      88.0  1999.886364  17.845075  1869.0  1996.00   \n",
       "Business Products & Services  474.0  2000.964135  17.533802  1840.0  1999.00   \n",
       "Telecommunications             86.0  2001.313953   8.035600  1970.0  1999.00   \n",
       "Human Resources               186.0  2002.650538   9.192325  1947.0  1999.00   \n",
       "Financial Services            261.0  2002.720307  10.216236  1933.0  2000.00   \n",
       "Logistics & Transportation    149.0  2003.570470  15.266221  1890.0  2002.00   \n",
       "Food & Beverage               137.0  2003.810219  12.606915  1914.0  2000.00   \n",
       "Education                      74.0  2004.189189   8.318449  1969.0  2002.00   \n",
       "Consumer Products & Services  239.0  2004.305439  10.608127  1947.0  2003.00   \n",
       "IT Services                   598.0  2004.342809   6.306085  1979.0  2001.00   \n",
       "Security                       68.0  2004.470588   7.462284  1965.0  2002.00   \n",
       "Health                        394.0  2004.601523   7.141328  1970.0  2001.00   \n",
       "Government Services           240.0  2004.741667   6.350957  1963.0  2002.00   \n",
       "Travel & Hospitality           63.0  2005.015873   9.079385  1960.0  2003.00   \n",
       "Real Estate                   197.0  2005.055838  10.309592  1925.0  2005.00   \n",
       "Software                      328.0  2005.179878   6.937993  1976.0  2001.00   \n",
       "Retail                        168.0  2005.244048   9.541901  1945.0  2003.75   \n",
       "Advertising & Marketing       493.0  2005.247465   8.987097  1915.0  2003.00   \n",
       "Energy                         91.0  2005.351648  10.472582  1951.0  2004.50   \n",
       "Media                          65.0  2005.461538   9.046886  1948.0  2003.00   \n",
       "Computer Hardware              36.0  2005.555556   7.473551  1980.0  2003.75   \n",
       "\n",
       "                                 50%     75%     max  \n",
       "industry                                              \n",
       "Manufacturing                 2000.0  2007.0  2013.0  \n",
       "Engineering                   2002.0  2007.5  2013.0  \n",
       "Environmental Services        2002.5  2008.0  2012.0  \n",
       "Construction                  2004.0  2010.0  2013.0  \n",
       "Insurance                     2005.0  2008.0  2013.0  \n",
       "Business Products & Services  2005.0  2010.0  2013.0  \n",
       "Telecommunications            2002.0  2006.0  2013.0  \n",
       "Human Resources               2004.5  2009.0  2013.0  \n",
       "Financial Services            2006.0  2009.0  2013.0  \n",
       "Logistics & Transportation    2008.0  2011.0  2013.0  \n",
       "Food & Beverage               2008.0  2010.0  2013.0  \n",
       "Education                     2007.0  2009.0  2012.0  \n",
       "Consumer Products & Services  2008.0  2011.0  2013.0  \n",
       "IT Services                   2005.0  2009.0  2013.0  \n",
       "Security                      2005.0  2009.0  2013.0  \n",
       "Health                        2007.0  2010.0  2013.0  \n",
       "Government Services           2006.0  2009.0  2013.0  \n",
       "Travel & Hospitality          2008.0  2011.0  2013.0  \n",
       "Real Estate                   2008.0  2010.0  2013.0  \n",
       "Software                      2007.0  2010.0  2013.0  \n",
       "Retail                        2008.0  2011.0  2013.0  \n",
       "Advertising & Marketing       2008.0  2010.0  2013.0  \n",
       "Energy                        2009.0  2011.0  2013.0  \n",
       "Media                         2008.0  2011.0  2013.0  \n",
       "Computer Hardware             2008.5  2011.0  2013.0  "
      ]
     },
     "execution_count": 180,
     "metadata": {},
     "output_type": "execute_result"
    }
   ],
   "source": [
    "ind_df.groupby('industry').describe()['founded'].sort_values('mean')"
   ]
  },
  {
   "cell_type": "code",
   "execution_count": null,
   "metadata": {
    "collapsed": true
   },
   "outputs": [],
   "source": []
  },
  {
   "cell_type": "code",
   "execution_count": 181,
   "metadata": {
    "collapsed": true
   },
   "outputs": [],
   "source": [
    "# growth of old vs new companies"
   ]
  },
  {
   "cell_type": "code",
   "execution_count": 183,
   "metadata": {
    "collapsed": false
   },
   "outputs": [
    {
     "data": {
      "text/plain": [
       "437"
      ]
     },
     "execution_count": 183,
     "metadata": {},
     "output_type": "execute_result"
    }
   ],
   "source": [
    "# number of companies founded before 1990\n",
    "len(ind_df[ind_df['founded']<=1990])"
   ]
  },
  {
   "cell_type": "code",
   "execution_count": 184,
   "metadata": {
    "collapsed": false
   },
   "outputs": [
    {
     "data": {
      "text/plain": [
       "3580"
      ]
     },
     "execution_count": 184,
     "metadata": {},
     "output_type": "execute_result"
    }
   ],
   "source": [
    "# number of companies founded between 1990 and 2010\n",
    "len(ind_df[(ind_df['founded']<=2010) & (ind_df['founded']>1990)])"
   ]
  },
  {
   "cell_type": "code",
   "execution_count": 186,
   "metadata": {
    "collapsed": false
   },
   "outputs": [
    {
     "data": {
      "text/plain": [
       "977"
      ]
     },
     "execution_count": 186,
     "metadata": {},
     "output_type": "execute_result"
    }
   ],
   "source": [
    "# number of companies founded after 2010\n",
    "len(ind_df[ind_df['founded']>2010])"
   ]
  },
  {
   "cell_type": "code",
   "execution_count": 187,
   "metadata": {
    "collapsed": false
   },
   "outputs": [
    {
     "data": {
      "text/plain": [
       "4994"
      ]
     },
     "execution_count": 187,
     "metadata": {},
     "output_type": "execute_result"
    }
   ],
   "source": [
    "437+3580+977"
   ]
  },
  {
   "cell_type": "code",
   "execution_count": 203,
   "metadata": {
    "collapsed": false
   },
   "outputs": [
    {
     "name": "stdout",
     "output_type": "stream",
     "text": [
      "percent growth: 84.18169465868372\trevenue: 40795.9\tprevious revenue: 22149.812485763538\n"
     ]
    }
   ],
   "source": [
    "# avg growth in companies founded before 1990\n",
    "rev1, prev1 = ind_df[ind_df['founded']<=1990].sum()[['revenue','prev_revenue']]\n",
    "growth1 = ((rev1 - prev1)/prev1)*100\n",
    "print(\"percent growth: {}\\trevenue: {}\\tprevious revenue: {}\".format(growth1, rev1, prev1))"
   ]
  },
  {
   "cell_type": "code",
   "execution_count": 204,
   "metadata": {
    "collapsed": false
   },
   "outputs": [
    {
     "name": "stdout",
     "output_type": "stream",
     "text": [
      "percent growth: 125.73586647365838\trevenue: 150322.7999999996\tprevious revenue: 66592.34190307153\n"
     ]
    }
   ],
   "source": [
    "# avg growth in companies founded between 1990 and 2010\n",
    "rev2, prev2 = ind_df[(ind_df['founded']<=2010) & (ind_df['founded']>1990)].sum()[['revenue','prev_revenue']]\n",
    "growth2 = ((rev2 - prev2)/prev2)*100\n",
    "print(\"percent growth: {}\\trevenue: {}\\tprevious revenue: {}\".format(growth2, rev2, prev2))"
   ]
  },
  {
   "cell_type": "code",
   "execution_count": 205,
   "metadata": {
    "collapsed": false
   },
   "outputs": [
    {
     "name": "stdout",
     "output_type": "stream",
     "text": [
      "percent growth: 125.0841198897658\trevenue: 41250.20000000001\tprevious revenue: 18326.570537362724\n"
     ]
    }
   ],
   "source": [
    "# avg growth in companies founded after 2010\n",
    "rev3, prev3 = ind_df[ind_df['founded']>2010].sum()[['revenue','prev_revenue']]\n",
    "growth3 = ((rev3 - prev3)/prev3)*100\n",
    "print(\"percent growth: {}\\trevenue: {}\\tprevious revenue: {}\".format(growth3, rev3, prev3))"
   ]
  },
  {
   "cell_type": "code",
   "execution_count": null,
   "metadata": {
    "collapsed": true
   },
   "outputs": [],
   "source": []
  },
  {
   "cell_type": "code",
   "execution_count": 224,
   "metadata": {
    "collapsed": false
   },
   "outputs": [
    {
     "data": {
      "text/plain": [
       "4534"
      ]
     },
     "execution_count": 224,
     "metadata": {},
     "output_type": "execute_result"
    }
   ],
   "source": [
    "len(ind_df[ind_df['employees'] <= 500])"
   ]
  },
  {
   "cell_type": "code",
   "execution_count": 230,
   "metadata": {
    "collapsed": false
   },
   "outputs": [
    {
     "data": {
      "text/plain": [
       "182"
      ]
     },
     "execution_count": 230,
     "metadata": {},
     "output_type": "execute_result"
    }
   ],
   "source": [
    "len(ind_df[(ind_df['employees'] > 500) & (ind_df['employees'] <= 1000)])"
   ]
  },
  {
   "cell_type": "code",
   "execution_count": 231,
   "metadata": {
    "collapsed": false
   },
   "outputs": [
    {
     "data": {
      "text/plain": [
       "133"
      ]
     },
     "execution_count": 231,
     "metadata": {},
     "output_type": "execute_result"
    }
   ],
   "source": [
    "len(ind_df[(ind_df['employees'] > 1000) & (ind_df['employees'] <= 10000)])"
   ]
  },
  {
   "cell_type": "code",
   "execution_count": 233,
   "metadata": {
    "collapsed": false
   },
   "outputs": [
    {
     "data": {
      "text/plain": [
       "12"
      ]
     },
     "execution_count": 233,
     "metadata": {},
     "output_type": "execute_result"
    }
   ],
   "source": [
    "len(ind_df[ind_df['employees'] > 10000])"
   ]
  },
  {
   "cell_type": "code",
   "execution_count": 221,
   "metadata": {
    "collapsed": false
   },
   "outputs": [
    {
     "data": {
      "text/plain": [
       "<matplotlib.axes._subplots.AxesSubplot at 0x120970a20>"
      ]
     },
     "execution_count": 221,
     "metadata": {},
     "output_type": "execute_result"
    },
    {
     "data": {
      "image/png": "[encoded data removed]",
      "text/plain": [
       "<matplotlib.figure.Figure at 0x11e33a358>"
      ]
     },
     "metadata": {},
     "output_type": "display_data"
    }
   ],
   "source": [
    "plt.figure(figsize=(14,10))\n",
    "sns.distplot(ind_df['employees'].dropna(), kde=False, bins=100)"
   ]
  },
  {
   "cell_type": "code",
   "execution_count": null,
   "metadata": {
    "collapsed": false
   },
   "outputs": [],
   "source": []
  },
  {
   "cell_type": "code",
   "execution_count": null,
   "metadata": {
    "collapsed": true
   },
   "outputs": [],
   "source": []
  }
 ],
 "metadata": {
  "kernelspec": {
   "display_name": "Python 3",
   "language": "python",
   "name": "python3"
  },
  "language_info": {
   "codemirror_mode": {
    "name": "ipython",
    "version": 3
   },
   "file_extension": ".py",
   "mimetype": "text/x-python",
   "name": "python",
   "nbconvert_exporter": "python",
   "pygments_lexer": "ipython3",
   "version": "3.6.0"
  }
 },
 "nbformat": 4,
 "nbformat_minor": 2
}
