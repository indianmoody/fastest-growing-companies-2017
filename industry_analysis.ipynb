{
 "cells": [
  {
   "cell_type": "markdown",
   "metadata": {},
   "source": [
    "## Factors in private companies' growth"
   ]
  },
  {
   "cell_type": "code",
   "execution_count": 57,
   "metadata": {
    "collapsed": true
   },
   "outputs": [],
   "source": [
    "import numpy as np\n",
    "import pandas as pd\n",
    "import matplotlib.pyplot as plt\n",
    "import seaborn as sns\n",
    "% matplotlib inline"
   ]
  },
  {
   "cell_type": "code",
   "execution_count": 72,
   "metadata": {
    "collapsed": true
   },
   "outputs": [],
   "source": [
    "sns.set_style(style='whitegrid')"
   ]
  },
  {
   "cell_type": "code",
   "execution_count": 73,
   "metadata": {
    "collapsed": true
   },
   "outputs": [],
   "source": [
    "# Read cleaned data\n",
    "ind_df = pd.read_csv('inc_cleaned_data.csv', sep='|')"
   ]
  },
  {
   "cell_type": "code",
   "execution_count": 74,
   "metadata": {
    "collapsed": false
   },
   "outputs": [
    {
     "data": {
      "text/html": [
       "<div>\n",
       "<style>\n",
       "    .dataframe thead tr:only-child th {\n",
       "        text-align: right;\n",
       "    }\n",
       "\n",
       "    .dataframe thead th {\n",
       "        text-align: left;\n",
       "    }\n",
       "\n",
       "    .dataframe tbody tr th {\n",
       "        vertical-align: top;\n",
       "    }\n",
       "</style>\n",
       "<table border=\"1\" class=\"dataframe\">\n",
       "  <thead>\n",
       "    <tr style=\"text-align: right;\">\n",
       "      <th></th>\n",
       "      <th>rank</th>\n",
       "      <th>name</th>\n",
       "      <th>revenue</th>\n",
       "      <th>industry</th>\n",
       "      <th>employees</th>\n",
       "      <th>founded</th>\n",
       "      <th>growth</th>\n",
       "      <th>city</th>\n",
       "      <th>state</th>\n",
       "    </tr>\n",
       "  </thead>\n",
       "  <tbody>\n",
       "    <tr>\n",
       "      <th>0</th>\n",
       "      <td>1</td>\n",
       "      <td>Skillz</td>\n",
       "      <td>54.2</td>\n",
       "      <td>Software</td>\n",
       "      <td>58.0</td>\n",
       "      <td>2012.0</td>\n",
       "      <td>50059</td>\n",
       "      <td>San Francisco</td>\n",
       "      <td>CA</td>\n",
       "    </tr>\n",
       "    <tr>\n",
       "      <th>1</th>\n",
       "      <td>2</td>\n",
       "      <td>EnviroSolar Power</td>\n",
       "      <td>37.4</td>\n",
       "      <td>Energy</td>\n",
       "      <td>85.0</td>\n",
       "      <td>2012.0</td>\n",
       "      <td>36065</td>\n",
       "      <td>Fort Worth</td>\n",
       "      <td>TX</td>\n",
       "    </tr>\n",
       "    <tr>\n",
       "      <th>2</th>\n",
       "      <td>3</td>\n",
       "      <td>Gametime</td>\n",
       "      <td>48.8</td>\n",
       "      <td>Consumer Products &amp; Services</td>\n",
       "      <td>75.0</td>\n",
       "      <td>2013.0</td>\n",
       "      <td>34021</td>\n",
       "      <td>San Francisco</td>\n",
       "      <td>CA</td>\n",
       "    </tr>\n",
       "    <tr>\n",
       "      <th>3</th>\n",
       "      <td>4</td>\n",
       "      <td>Club Pilates Franchise</td>\n",
       "      <td>26.8</td>\n",
       "      <td>Consumer Products &amp; Services</td>\n",
       "      <td>31.0</td>\n",
       "      <td>2007.0</td>\n",
       "      <td>21319</td>\n",
       "      <td>Costa Mesa</td>\n",
       "      <td>CA</td>\n",
       "    </tr>\n",
       "    <tr>\n",
       "      <th>4</th>\n",
       "      <td>5</td>\n",
       "      <td>Halo Top Creamery</td>\n",
       "      <td>49.1</td>\n",
       "      <td>Food &amp; Beverage</td>\n",
       "      <td>10.0</td>\n",
       "      <td>2012.0</td>\n",
       "      <td>20944</td>\n",
       "      <td>Los Angeles</td>\n",
       "      <td>CA</td>\n",
       "    </tr>\n",
       "  </tbody>\n",
       "</table>\n",
       "</div>"
      ],
      "text/plain": [
       "   rank                    name  revenue                      industry  \\\n",
       "0     1                  Skillz     54.2                      Software   \n",
       "1     2       EnviroSolar Power     37.4                        Energy   \n",
       "2     3                Gametime     48.8  Consumer Products & Services   \n",
       "3     4  Club Pilates Franchise     26.8  Consumer Products & Services   \n",
       "4     5       Halo Top Creamery     49.1               Food & Beverage   \n",
       "\n",
       "   employees  founded  growth           city state  \n",
       "0       58.0   2012.0   50059  San Francisco    CA  \n",
       "1       85.0   2012.0   36065     Fort Worth    TX  \n",
       "2       75.0   2013.0   34021  San Francisco    CA  \n",
       "3       31.0   2007.0   21319     Costa Mesa    CA  \n",
       "4       10.0   2012.0   20944    Los Angeles    CA  "
      ]
     },
     "execution_count": 74,
     "metadata": {},
     "output_type": "execute_result"
    }
   ],
   "source": [
    "ind_df.head()"
   ]
  },
  {
   "cell_type": "markdown",
   "metadata": {},
   "source": [
    "---"
   ]
  },
  {
   "cell_type": "markdown",
   "metadata": {},
   "source": [
    "Calculate previous revenue for companies based on on current revenue and growth values. Create separate column prev_revenue in dataframe."
   ]
  },
  {
   "cell_type": "code",
   "execution_count": 75,
   "metadata": {
    "collapsed": false
   },
   "outputs": [],
   "source": [
    "ind_df.loc[:,('prev_revenue')] = ind_df.apply(lambda x: (100/(x['growth']+100)) * x['revenue'], axis=1).values"
   ]
  },
  {
   "cell_type": "code",
   "execution_count": 76,
   "metadata": {
    "collapsed": false
   },
   "outputs": [
    {
     "name": "stdout",
     "output_type": "stream",
     "text": [
      "<class 'pandas.core.frame.DataFrame'>\n",
      "RangeIndex: 4997 entries, 0 to 4996\n",
      "Data columns (total 10 columns):\n",
      "rank            4997 non-null int64\n",
      "name            4997 non-null object\n",
      "revenue         4997 non-null float64\n",
      "industry        4993 non-null object\n",
      "employees       4861 non-null float64\n",
      "founded         4994 non-null float64\n",
      "growth          4997 non-null int64\n",
      "city            4996 non-null object\n",
      "state           4997 non-null object\n",
      "prev_revenue    4997 non-null float64\n",
      "dtypes: float64(4), int64(2), object(4)\n",
      "memory usage: 390.5+ KB\n"
     ]
    }
   ],
   "source": [
    "ind_df.info()"
   ]
  },
  {
   "cell_type": "code",
   "execution_count": 77,
   "metadata": {
    "collapsed": false
   },
   "outputs": [
    {
     "data": {
      "text/html": [
       "<div>\n",
       "<style>\n",
       "    .dataframe thead tr:only-child th {\n",
       "        text-align: right;\n",
       "    }\n",
       "\n",
       "    .dataframe thead th {\n",
       "        text-align: left;\n",
       "    }\n",
       "\n",
       "    .dataframe tbody tr th {\n",
       "        vertical-align: top;\n",
       "    }\n",
       "</style>\n",
       "<table border=\"1\" class=\"dataframe\">\n",
       "  <thead>\n",
       "    <tr style=\"text-align: right;\">\n",
       "      <th></th>\n",
       "      <th>rank</th>\n",
       "      <th>name</th>\n",
       "      <th>revenue</th>\n",
       "      <th>industry</th>\n",
       "      <th>employees</th>\n",
       "      <th>founded</th>\n",
       "      <th>growth</th>\n",
       "      <th>city</th>\n",
       "      <th>state</th>\n",
       "      <th>prev_revenue</th>\n",
       "    </tr>\n",
       "  </thead>\n",
       "  <tbody>\n",
       "    <tr>\n",
       "      <th>0</th>\n",
       "      <td>1</td>\n",
       "      <td>Skillz</td>\n",
       "      <td>54.2</td>\n",
       "      <td>Software</td>\n",
       "      <td>58.0</td>\n",
       "      <td>2012.0</td>\n",
       "      <td>50059</td>\n",
       "      <td>San Francisco</td>\n",
       "      <td>CA</td>\n",
       "      <td>0.108056</td>\n",
       "    </tr>\n",
       "    <tr>\n",
       "      <th>1</th>\n",
       "      <td>2</td>\n",
       "      <td>EnviroSolar Power</td>\n",
       "      <td>37.4</td>\n",
       "      <td>Energy</td>\n",
       "      <td>85.0</td>\n",
       "      <td>2012.0</td>\n",
       "      <td>36065</td>\n",
       "      <td>Fort Worth</td>\n",
       "      <td>TX</td>\n",
       "      <td>0.103415</td>\n",
       "    </tr>\n",
       "    <tr>\n",
       "      <th>2</th>\n",
       "      <td>3</td>\n",
       "      <td>Gametime</td>\n",
       "      <td>48.8</td>\n",
       "      <td>Consumer Products &amp; Services</td>\n",
       "      <td>75.0</td>\n",
       "      <td>2013.0</td>\n",
       "      <td>34021</td>\n",
       "      <td>San Francisco</td>\n",
       "      <td>CA</td>\n",
       "      <td>0.143020</td>\n",
       "    </tr>\n",
       "    <tr>\n",
       "      <th>3</th>\n",
       "      <td>4</td>\n",
       "      <td>Club Pilates Franchise</td>\n",
       "      <td>26.8</td>\n",
       "      <td>Consumer Products &amp; Services</td>\n",
       "      <td>31.0</td>\n",
       "      <td>2007.0</td>\n",
       "      <td>21319</td>\n",
       "      <td>Costa Mesa</td>\n",
       "      <td>CA</td>\n",
       "      <td>0.125123</td>\n",
       "    </tr>\n",
       "    <tr>\n",
       "      <th>4</th>\n",
       "      <td>5</td>\n",
       "      <td>Halo Top Creamery</td>\n",
       "      <td>49.1</td>\n",
       "      <td>Food &amp; Beverage</td>\n",
       "      <td>10.0</td>\n",
       "      <td>2012.0</td>\n",
       "      <td>20944</td>\n",
       "      <td>Los Angeles</td>\n",
       "      <td>CA</td>\n",
       "      <td>0.233321</td>\n",
       "    </tr>\n",
       "  </tbody>\n",
       "</table>\n",
       "</div>"
      ],
      "text/plain": [
       "   rank                    name  revenue                      industry  \\\n",
       "0     1                  Skillz     54.2                      Software   \n",
       "1     2       EnviroSolar Power     37.4                        Energy   \n",
       "2     3                Gametime     48.8  Consumer Products & Services   \n",
       "3     4  Club Pilates Franchise     26.8  Consumer Products & Services   \n",
       "4     5       Halo Top Creamery     49.1               Food & Beverage   \n",
       "\n",
       "   employees  founded  growth           city state  prev_revenue  \n",
       "0       58.0   2012.0   50059  San Francisco    CA      0.108056  \n",
       "1       85.0   2012.0   36065     Fort Worth    TX      0.103415  \n",
       "2       75.0   2013.0   34021  San Francisco    CA      0.143020  \n",
       "3       31.0   2007.0   21319     Costa Mesa    CA      0.125123  \n",
       "4       10.0   2012.0   20944    Los Angeles    CA      0.233321  "
      ]
     },
     "execution_count": 77,
     "metadata": {},
     "output_type": "execute_result"
    }
   ],
   "source": [
    "ind_df.head()"
   ]
  },
  {
   "cell_type": "markdown",
   "metadata": {},
   "source": [
    "---"
   ]
  },
  {
   "cell_type": "markdown",
   "metadata": {},
   "source": [
    "Evaluate state-wise revenues of 2016 and 2013 i.e. current and previous revenues."
   ]
  },
  {
   "cell_type": "code",
   "execution_count": 78,
   "metadata": {
    "collapsed": false
   },
   "outputs": [
    {
     "data": {
      "text/html": [
       "<div>\n",
       "<style>\n",
       "    .dataframe thead tr:only-child th {\n",
       "        text-align: right;\n",
       "    }\n",
       "\n",
       "    .dataframe thead th {\n",
       "        text-align: left;\n",
       "    }\n",
       "\n",
       "    .dataframe tbody tr th {\n",
       "        vertical-align: top;\n",
       "    }\n",
       "</style>\n",
       "<table border=\"1\" class=\"dataframe\">\n",
       "  <thead>\n",
       "    <tr style=\"text-align: right;\">\n",
       "      <th></th>\n",
       "      <th>revenue</th>\n",
       "      <th>prev_revenue</th>\n",
       "    </tr>\n",
       "    <tr>\n",
       "      <th>industry</th>\n",
       "      <th></th>\n",
       "      <th></th>\n",
       "    </tr>\n",
       "  </thead>\n",
       "  <tbody>\n",
       "    <tr>\n",
       "      <th>Financial Services</th>\n",
       "      <td>43175.9</td>\n",
       "      <td>22145.623016</td>\n",
       "    </tr>\n",
       "    <tr>\n",
       "      <th>Health</th>\n",
       "      <td>24568.8</td>\n",
       "      <td>10757.583275</td>\n",
       "    </tr>\n",
       "    <tr>\n",
       "      <th>Business Products &amp; Services</th>\n",
       "      <td>19019.4</td>\n",
       "      <td>10261.731704</td>\n",
       "    </tr>\n",
       "    <tr>\n",
       "      <th>IT Services</th>\n",
       "      <td>15365.7</td>\n",
       "      <td>7241.802319</td>\n",
       "    </tr>\n",
       "    <tr>\n",
       "      <th>Construction</th>\n",
       "      <td>13009.3</td>\n",
       "      <td>6022.320729</td>\n",
       "    </tr>\n",
       "    <tr>\n",
       "      <th>Logistics &amp; Transportation</th>\n",
       "      <td>12832.9</td>\n",
       "      <td>6601.203021</td>\n",
       "    </tr>\n",
       "    <tr>\n",
       "      <th>Consumer Products &amp; Services</th>\n",
       "      <td>12296.3</td>\n",
       "      <td>5071.512327</td>\n",
       "    </tr>\n",
       "    <tr>\n",
       "      <th>Human Resources</th>\n",
       "      <td>12020.7</td>\n",
       "      <td>5645.312366</td>\n",
       "    </tr>\n",
       "    <tr>\n",
       "      <th>Government Services</th>\n",
       "      <td>10835.8</td>\n",
       "      <td>4552.813687</td>\n",
       "    </tr>\n",
       "    <tr>\n",
       "      <th>Advertising &amp; Marketing</th>\n",
       "      <td>8824.1</td>\n",
       "      <td>3478.792079</td>\n",
       "    </tr>\n",
       "    <tr>\n",
       "      <th>Retail</th>\n",
       "      <td>7239.5</td>\n",
       "      <td>3143.322713</td>\n",
       "    </tr>\n",
       "    <tr>\n",
       "      <th>Security</th>\n",
       "      <td>7172.4</td>\n",
       "      <td>2643.289928</td>\n",
       "    </tr>\n",
       "    <tr>\n",
       "      <th>Real Estate</th>\n",
       "      <td>6288.2</td>\n",
       "      <td>2347.898951</td>\n",
       "    </tr>\n",
       "    <tr>\n",
       "      <th>Manufacturing</th>\n",
       "      <td>5993.3</td>\n",
       "      <td>3147.437811</td>\n",
       "    </tr>\n",
       "    <tr>\n",
       "      <th>Insurance</th>\n",
       "      <td>5956.8</td>\n",
       "      <td>2803.725094</td>\n",
       "    </tr>\n",
       "    <tr>\n",
       "      <th>Software</th>\n",
       "      <td>5839.9</td>\n",
       "      <td>2493.470589</td>\n",
       "    </tr>\n",
       "    <tr>\n",
       "      <th>Food &amp; Beverage</th>\n",
       "      <td>5120.4</td>\n",
       "      <td>2118.716199</td>\n",
       "    </tr>\n",
       "    <tr>\n",
       "      <th>Energy</th>\n",
       "      <td>4119.5</td>\n",
       "      <td>1502.122450</td>\n",
       "    </tr>\n",
       "    <tr>\n",
       "      <th>Telecommunications</th>\n",
       "      <td>3659.0</td>\n",
       "      <td>1378.532165</td>\n",
       "    </tr>\n",
       "    <tr>\n",
       "      <th>Travel &amp; Hospitality</th>\n",
       "      <td>2609.3</td>\n",
       "      <td>867.106798</td>\n",
       "    </tr>\n",
       "    <tr>\n",
       "      <th>Engineering</th>\n",
       "      <td>1596.6</td>\n",
       "      <td>798.933646</td>\n",
       "    </tr>\n",
       "    <tr>\n",
       "      <th>Education</th>\n",
       "      <td>1382.5</td>\n",
       "      <td>547.588278</td>\n",
       "    </tr>\n",
       "    <tr>\n",
       "      <th>Environmental Services</th>\n",
       "      <td>1043.9</td>\n",
       "      <td>452.347636</td>\n",
       "    </tr>\n",
       "    <tr>\n",
       "      <th>Computer Hardware</th>\n",
       "      <td>1037.0</td>\n",
       "      <td>477.878631</td>\n",
       "    </tr>\n",
       "    <tr>\n",
       "      <th>Media</th>\n",
       "      <td>984.3</td>\n",
       "      <td>331.278176</td>\n",
       "    </tr>\n",
       "  </tbody>\n",
       "</table>\n",
       "</div>"
      ],
      "text/plain": [
       "                              revenue  prev_revenue\n",
       "industry                                           \n",
       "Financial Services            43175.9  22145.623016\n",
       "Health                        24568.8  10757.583275\n",
       "Business Products & Services  19019.4  10261.731704\n",
       "IT Services                   15365.7   7241.802319\n",
       "Construction                  13009.3   6022.320729\n",
       "Logistics & Transportation    12832.9   6601.203021\n",
       "Consumer Products & Services  12296.3   5071.512327\n",
       "Human Resources               12020.7   5645.312366\n",
       "Government Services           10835.8   4552.813687\n",
       "Advertising & Marketing        8824.1   3478.792079\n",
       "Retail                         7239.5   3143.322713\n",
       "Security                       7172.4   2643.289928\n",
       "Real Estate                    6288.2   2347.898951\n",
       "Manufacturing                  5993.3   3147.437811\n",
       "Insurance                      5956.8   2803.725094\n",
       "Software                       5839.9   2493.470589\n",
       "Food & Beverage                5120.4   2118.716199\n",
       "Energy                         4119.5   1502.122450\n",
       "Telecommunications             3659.0   1378.532165\n",
       "Travel & Hospitality           2609.3    867.106798\n",
       "Engineering                    1596.6    798.933646\n",
       "Education                      1382.5    547.588278\n",
       "Environmental Services         1043.9    452.347636\n",
       "Computer Hardware              1037.0    477.878631\n",
       "Media                           984.3    331.278176"
      ]
     },
     "execution_count": 78,
     "metadata": {},
     "output_type": "execute_result"
    }
   ],
   "source": [
    "ind_df.groupby('industry').sum().sort_values(by='revenue', ascending=False)[['revenue','prev_revenue']]"
   ]
  },
  {
   "cell_type": "markdown",
   "metadata": {
    "collapsed": false
   },
   "source": [
    "---"
   ]
  },
  {
   "cell_type": "markdown",
   "metadata": {},
   "source": [
    "### Industry-wise growth in %"
   ]
  },
  {
   "cell_type": "code",
   "execution_count": 79,
   "metadata": {
    "collapsed": false
   },
   "outputs": [
    {
     "data": {
      "text/plain": [
       "industry\n",
       "Travel & Hospitality            200.920256\n",
       "Media                           197.121897\n",
       "Energy                          174.245285\n",
       "Security                        171.343674\n",
       "Real Estate                     167.822429\n",
       "Telecommunications              165.427249\n",
       "Advertising & Marketing         153.654136\n",
       "Education                       152.470708\n",
       "Consumer Products & Services    142.458249\n",
       "Food & Beverage                 141.674652\n",
       "Government Services             138.002272\n",
       "Software                        134.207695\n",
       "Environmental Services          130.773838\n",
       "Retail                          130.313610\n",
       "Health                          128.385869\n",
       "Computer Hardware               117.000705\n",
       "Construction                    116.018053\n",
       "Human Resources                 112.932416\n",
       "Insurance                       112.460202\n",
       "IT Services                     112.180605\n",
       "Engineering                      99.841377\n",
       "Financial Services               94.963583\n",
       "Logistics & Transportation       94.402444\n",
       "Manufacturing                    90.418377\n",
       "Business Products & Services     85.342986\n",
       "dtype: float64"
      ]
     },
     "execution_count": 79,
     "metadata": {},
     "output_type": "execute_result"
    }
   ],
   "source": [
    "ind_percent = ind_df.groupby('industry').apply(lambda x: ((x['revenue'].sum()-x['prev_revenue'].sum())/x['prev_revenue'].sum())*100).sort_values(ascending=False)\n",
    "ind_percent"
   ]
  },
  {
   "cell_type": "markdown",
   "metadata": {},
   "source": [
    "---"
   ]
  },
  {
   "cell_type": "markdown",
   "metadata": {
    "collapsed": false
   },
   "source": [
    "### Number of companies from each industry in inc 5000 list."
   ]
  },
  {
   "cell_type": "code",
   "execution_count": 80,
   "metadata": {
    "collapsed": false
   },
   "outputs": [
    {
     "data": {
      "text/plain": [
       "IT Services                     598\n",
       "Advertising & Marketing         493\n",
       "Business Products & Services    474\n",
       "Health                          395\n",
       "Software                        328\n",
       "Construction                    301\n",
       "Financial Services              262\n",
       "Government Services             240\n",
       "Consumer Products & Services    239\n",
       "Real Estate                     197\n",
       "Human Resources                 186\n",
       "Retail                          168\n",
       "Logistics & Transportation      149\n",
       "Manufacturing                   145\n",
       "Food & Beverage                 137\n",
       "Energy                           91\n",
       "Insurance                        89\n",
       "Telecommunications               86\n",
       "Education                        74\n",
       "Security                         68\n",
       "Engineering                      67\n",
       "Media                            65\n",
       "Travel & Hospitality             63\n",
       "Environmental Services           42\n",
       "Computer Hardware                36\n",
       "Name: industry, dtype: int64"
      ]
     },
     "execution_count": 80,
     "metadata": {},
     "output_type": "execute_result"
    }
   ],
   "source": [
    "ind_df['industry'].value_counts()"
   ]
  },
  {
   "cell_type": "markdown",
   "metadata": {
    "collapsed": false
   },
   "source": [
    "Number of companies from each industry in inc 5000 list : Pie Chart."
   ]
  },
  {
   "cell_type": "code",
   "execution_count": 81,
   "metadata": {
    "collapsed": false
   },
   "outputs": [
    {
     "data": {
      "image/png": "[encoded data removed]",
      "text/plain": [
       "<matplotlib.figure.Figure at 0x1211f73c8>"
      ]
     },
     "metadata": {},
     "output_type": "display_data"
    }
   ],
   "source": [
    "fig, ax = plt.subplots(figsize=(14,14))\n",
    "ax.set_prop_cycle(color=[\"#d96d8c\",\n",
    "\"#6ea35c\",\n",
    "\"#b68fcd\",\n",
    "\"#c8c441\",\n",
    "\"#be7ebf\",\n",
    "\"#6da746\",\n",
    "\"#7677d1\",\n",
    "\"#e3983e\",\n",
    "\"#936da0\",\n",
    "\"#61c994\",\n",
    "\"#dc70a7\",\n",
    "\"#7a9064\",\n",
    "\"#e86572\",\n",
    "\"#6fc0c8\",\n",
    "\"#e97553\",\n",
    "\"#6279a8\",\n",
    "\"#a38338\",\n",
    "\"#d296d1\",\n",
    "\"#b8bb8c\",\n",
    "\"#cd7560\",\n",
    "\"#94afd8\",\n",
    "\"#8e6b55\",\n",
    "\"#60857c\",\n",
    "\"#d89e94\",\n",
    "\"#866077\"])\n",
    "ind_growth = ind_df['industry'].value_counts()\n",
    "ax.pie(ind_growth, labels=ind_growth.index)\n",
    "ax.axis('equal')\n",
    "ax.set_title('Industry wise Growth')\n",
    "plt.tight_layout()\n"
   ]
  },
  {
   "cell_type": "markdown",
   "metadata": {
    "collapsed": false
   },
   "source": [
    "---"
   ]
  },
  {
   "cell_type": "markdown",
   "metadata": {
    "collapsed": false
   },
   "source": [
    "### Categorizing Industries into growth tiers."
   ]
  },
  {
   "cell_type": "code",
   "execution_count": 82,
   "metadata": {
    "collapsed": true
   },
   "outputs": [],
   "source": [
    "# table/dataframe to categorize industries according to growth with window of 25%\n",
    "ind_tier_table = pd.DataFrame() #created empty dataframe"
   ]
  },
  {
   "cell_type": "code",
   "execution_count": 83,
   "metadata": {
    "collapsed": false
   },
   "outputs": [],
   "source": [
    "ind_tier_table['175-200'] = np.append(ind_percent[ind_percent.values > 175].index.values, [\" \"]*5)\n",
    "ind_tier_table['150-175'] = np.append(ind_percent[(ind_percent.values > 150) & (ind_percent.values < 175)].index.values, [\" \"])\n",
    "ind_tier_table['125-150'] = ind_percent[(ind_percent.values > 125) & (ind_percent.values < 150)].index\n",
    "ind_tier_table['100-125'] = np.append(ind_percent[(ind_percent.values > 100) & (ind_percent.values < 125)].index.values, [\" \"]*2)\n",
    "ind_tier_table['0-100'] = np.append(ind_percent[(ind_percent.values > 0) & (ind_percent.values < 100)].index.values, [\" \"]*2)"
   ]
  },
  {
   "cell_type": "code",
   "execution_count": 84,
   "metadata": {
    "collapsed": false
   },
   "outputs": [
    {
     "data": {
      "text/html": [
       "<div>\n",
       "<style>\n",
       "    .dataframe thead tr:only-child th {\n",
       "        text-align: right;\n",
       "    }\n",
       "\n",
       "    .dataframe thead th {\n",
       "        text-align: left;\n",
       "    }\n",
       "\n",
       "    .dataframe tbody tr th {\n",
       "        vertical-align: top;\n",
       "    }\n",
       "</style>\n",
       "<table border=\"1\" class=\"dataframe\">\n",
       "  <thead>\n",
       "    <tr style=\"text-align: right;\">\n",
       "      <th></th>\n",
       "      <th>175-200</th>\n",
       "      <th>150-175</th>\n",
       "      <th>125-150</th>\n",
       "      <th>100-125</th>\n",
       "      <th>0-100</th>\n",
       "    </tr>\n",
       "  </thead>\n",
       "  <tbody>\n",
       "    <tr>\n",
       "      <th>0</th>\n",
       "      <td>Travel &amp; Hospitality</td>\n",
       "      <td>Energy</td>\n",
       "      <td>Consumer Products &amp; Services</td>\n",
       "      <td>Computer Hardware</td>\n",
       "      <td>Engineering</td>\n",
       "    </tr>\n",
       "    <tr>\n",
       "      <th>1</th>\n",
       "      <td>Media</td>\n",
       "      <td>Security</td>\n",
       "      <td>Food &amp; Beverage</td>\n",
       "      <td>Construction</td>\n",
       "      <td>Financial Services</td>\n",
       "    </tr>\n",
       "    <tr>\n",
       "      <th>2</th>\n",
       "      <td></td>\n",
       "      <td>Real Estate</td>\n",
       "      <td>Government Services</td>\n",
       "      <td>Human Resources</td>\n",
       "      <td>Logistics &amp; Transportation</td>\n",
       "    </tr>\n",
       "    <tr>\n",
       "      <th>3</th>\n",
       "      <td></td>\n",
       "      <td>Telecommunications</td>\n",
       "      <td>Software</td>\n",
       "      <td>Insurance</td>\n",
       "      <td>Manufacturing</td>\n",
       "    </tr>\n",
       "    <tr>\n",
       "      <th>4</th>\n",
       "      <td></td>\n",
       "      <td>Advertising &amp; Marketing</td>\n",
       "      <td>Environmental Services</td>\n",
       "      <td>IT Services</td>\n",
       "      <td>Business Products &amp; Services</td>\n",
       "    </tr>\n",
       "    <tr>\n",
       "      <th>5</th>\n",
       "      <td></td>\n",
       "      <td>Education</td>\n",
       "      <td>Retail</td>\n",
       "      <td></td>\n",
       "      <td></td>\n",
       "    </tr>\n",
       "    <tr>\n",
       "      <th>6</th>\n",
       "      <td></td>\n",
       "      <td></td>\n",
       "      <td>Health</td>\n",
       "      <td></td>\n",
       "      <td></td>\n",
       "    </tr>\n",
       "  </tbody>\n",
       "</table>\n",
       "</div>"
      ],
      "text/plain": [
       "                175-200                  150-175  \\\n",
       "0  Travel & Hospitality                   Energy   \n",
       "1                 Media                 Security   \n",
       "2                                    Real Estate   \n",
       "3                             Telecommunications   \n",
       "4                        Advertising & Marketing   \n",
       "5                                      Education   \n",
       "6                                                  \n",
       "\n",
       "                        125-150            100-125  \\\n",
       "0  Consumer Products & Services  Computer Hardware   \n",
       "1               Food & Beverage       Construction   \n",
       "2           Government Services    Human Resources   \n",
       "3                      Software          Insurance   \n",
       "4        Environmental Services        IT Services   \n",
       "5                        Retail                      \n",
       "6                        Health                      \n",
       "\n",
       "                          0-100  \n",
       "0                   Engineering  \n",
       "1            Financial Services  \n",
       "2    Logistics & Transportation  \n",
       "3                 Manufacturing  \n",
       "4  Business Products & Services  \n",
       "5                                \n",
       "6                                "
      ]
     },
     "execution_count": 84,
     "metadata": {},
     "output_type": "execute_result"
    }
   ],
   "source": [
    "ind_tier_table"
   ]
  },
  {
   "cell_type": "markdown",
   "metadata": {
    "collapsed": false
   },
   "source": [
    "---"
   ]
  },
  {
   "cell_type": "markdown",
   "metadata": {},
   "source": [
    "### No. of Employees vs Growth"
   ]
  },
  {
   "cell_type": "code",
   "execution_count": 85,
   "metadata": {
    "collapsed": false
   },
   "outputs": [
    {
     "data": {
      "text/plain": [
       "<matplotlib.axes._subplots.AxesSubplot at 0x1211c1588>"
      ]
     },
     "execution_count": 85,
     "metadata": {},
     "output_type": "execute_result"
    },
    {
     "data": {
      "image/png": "[encoded data removed]",
      "text/plain": [
       "<matplotlib.figure.Figure at 0x120983978>"
      ]
     },
     "metadata": {},
     "output_type": "display_data"
    }
   ],
   "source": [
    "# check distribution of number of employees\n",
    "plt.figure(figsize=(14,10))\n",
    "sns.distplot(ind_df['employees'].dropna(), kde=False, bins=100)"
   ]
  },
  {
   "cell_type": "markdown",
   "metadata": {},
   "source": [
    "Looks like most of the companies are of size under 1000 or 500."
   ]
  },
  {
   "cell_type": "code",
   "execution_count": 86,
   "metadata": {
    "collapsed": false
   },
   "outputs": [
    {
     "data": {
      "text/plain": [
       "<matplotlib.axes._subplots.AxesSubplot at 0x118031518>"
      ]
     },
     "execution_count": 86,
     "metadata": {},
     "output_type": "execute_result"
    },
    {
     "data": {
      "image/png": "[encoded data removed]",
      "text/plain": [
       "<matplotlib.figure.Figure at 0x11fe97390>"
      ]
     },
     "metadata": {},
     "output_type": "display_data"
    }
   ],
   "source": [
    "plt.figure(figsize=(14,10))\n",
    "sns.distplot(ind_df[ind_df['employees'] < 1000]['employees'].dropna(), kde=False, bins=50)"
   ]
  },
  {
   "cell_type": "code",
   "execution_count": 87,
   "metadata": {
    "collapsed": false
   },
   "outputs": [
    {
     "data": {
      "text/plain": [
       "349"
      ]
     },
     "execution_count": 87,
     "metadata": {},
     "output_type": "execute_result"
    }
   ],
   "source": [
    "# Companies of size under or equal to 10\n",
    "len(ind_df[ind_df['employees'] <= 10])"
   ]
  },
  {
   "cell_type": "code",
   "execution_count": 88,
   "metadata": {
    "collapsed": false
   },
   "outputs": [
    {
     "data": {
      "text/plain": [
       "2507"
      ]
     },
     "execution_count": 88,
     "metadata": {},
     "output_type": "execute_result"
    }
   ],
   "source": [
    "# Companies of size under or equal to 50\n",
    "len(ind_df[ind_df['employees'] <= 50])"
   ]
  },
  {
   "cell_type": "markdown",
   "metadata": {},
   "source": [
    "More than half of the companies in list have less than or equal to 50 employees"
   ]
  },
  {
   "cell_type": "code",
   "execution_count": 89,
   "metadata": {
    "collapsed": false
   },
   "outputs": [
    {
     "data": {
      "text/plain": [
       "4534"
      ]
     },
     "execution_count": 89,
     "metadata": {},
     "output_type": "execute_result"
    }
   ],
   "source": [
    "# Companies of size under or equal to 500\n",
    "len(ind_df[ind_df['employees'] <= 500])"
   ]
  },
  {
   "cell_type": "code",
   "execution_count": 90,
   "metadata": {
    "collapsed": false
   },
   "outputs": [
    {
     "data": {
      "text/plain": [
       "182"
      ]
     },
     "execution_count": 90,
     "metadata": {},
     "output_type": "execute_result"
    }
   ],
   "source": [
    "len(ind_df[(ind_df['employees'] > 500) & (ind_df['employees'] <= 1000)])"
   ]
  },
  {
   "cell_type": "code",
   "execution_count": 91,
   "metadata": {
    "collapsed": false
   },
   "outputs": [
    {
     "data": {
      "text/plain": [
       "133"
      ]
     },
     "execution_count": 91,
     "metadata": {},
     "output_type": "execute_result"
    }
   ],
   "source": [
    "len(ind_df[(ind_df['employees'] > 1000) & (ind_df['employees'] <= 10000)])"
   ]
  },
  {
   "cell_type": "code",
   "execution_count": 92,
   "metadata": {
    "collapsed": false
   },
   "outputs": [
    {
     "data": {
      "text/plain": [
       "12"
      ]
     },
     "execution_count": 92,
     "metadata": {},
     "output_type": "execute_result"
    }
   ],
   "source": [
    "len(ind_df[ind_df['employees'] > 10000])"
   ]
  },
  {
   "cell_type": "markdown",
   "metadata": {},
   "source": [
    "More than 90 percent of the companies have less than or equal to 500 employees. Companies can be categorized under 3 categories based on number of employees.\n",
    "1. 0 to 50\n",
    "2. 50 to 500\n",
    "3. more than 500"
   ]
  },
  {
   "cell_type": "code",
   "execution_count": 93,
   "metadata": {
    "collapsed": true
   },
   "outputs": [],
   "source": [
    "x = ['< 50', '50 - 500', '> 500']\n",
    "y = [len(ind_df[ind_df['employees'] <= 50]), len(ind_df[(ind_df['employees'] > 50) & (ind_df['employees'] <= 500)]), len(ind_df[ind_df['employees'] > 500])]"
   ]
  },
  {
   "cell_type": "code",
   "execution_count": 94,
   "metadata": {
    "collapsed": false
   },
   "outputs": [],
   "source": [
    "emp_num_df = pd.DataFrame(y, index=x, columns=['No_of_Companies'])\n",
    "emp_num_df.index.name = 'Company_Size'"
   ]
  },
  {
   "cell_type": "code",
   "execution_count": 95,
   "metadata": {
    "collapsed": false
   },
   "outputs": [
    {
     "data": {
      "text/html": [
       "<div>\n",
       "<style>\n",
       "    .dataframe thead tr:only-child th {\n",
       "        text-align: right;\n",
       "    }\n",
       "\n",
       "    .dataframe thead th {\n",
       "        text-align: left;\n",
       "    }\n",
       "\n",
       "    .dataframe tbody tr th {\n",
       "        vertical-align: top;\n",
       "    }\n",
       "</style>\n",
       "<table border=\"1\" class=\"dataframe\">\n",
       "  <thead>\n",
       "    <tr style=\"text-align: right;\">\n",
       "      <th></th>\n",
       "      <th>No_of_Companies</th>\n",
       "    </tr>\n",
       "    <tr>\n",
       "      <th>Company_Size</th>\n",
       "      <th></th>\n",
       "    </tr>\n",
       "  </thead>\n",
       "  <tbody>\n",
       "    <tr>\n",
       "      <th>&lt; 50</th>\n",
       "      <td>2507</td>\n",
       "    </tr>\n",
       "    <tr>\n",
       "      <th>50 - 500</th>\n",
       "      <td>2027</td>\n",
       "    </tr>\n",
       "    <tr>\n",
       "      <th>&gt; 500</th>\n",
       "      <td>327</td>\n",
       "    </tr>\n",
       "  </tbody>\n",
       "</table>\n",
       "</div>"
      ],
      "text/plain": [
       "              No_of_Companies\n",
       "Company_Size                 \n",
       "< 50                     2507\n",
       "50 - 500                 2027\n",
       "> 500                     327"
      ]
     },
     "execution_count": 95,
     "metadata": {},
     "output_type": "execute_result"
    }
   ],
   "source": [
    "emp_num_df"
   ]
  },
  {
   "cell_type": "code",
   "execution_count": 96,
   "metadata": {
    "collapsed": false
   },
   "outputs": [
    {
     "data": {
      "text/plain": [
       "<matplotlib.axes._subplots.AxesSubplot at 0x117f56358>"
      ]
     },
     "execution_count": 96,
     "metadata": {},
     "output_type": "execute_result"
    },
    {
     "data": {
      "image/png": "[encoded data removed]",
      "text/plain": [
       "<matplotlib.figure.Figure at 0x11fef1dd8>"
      ]
     },
     "metadata": {},
     "output_type": "display_data"
    }
   ],
   "source": [
    "\n",
    "emp_num_df.plot(kind='bar', title='Company Size vs Growth', figsize=(10,6))"
   ]
  },
  {
   "cell_type": "markdown",
   "metadata": {},
   "source": [
    "---"
   ]
  },
  {
   "cell_type": "markdown",
   "metadata": {},
   "source": [
    "### Average founding year for each industry"
   ]
  },
  {
   "cell_type": "code",
   "execution_count": 97,
   "metadata": {
    "collapsed": false
   },
   "outputs": [
    {
     "data": {
      "text/plain": [
       "industry\n",
       "Computer Hardware               2005.555556\n",
       "Media                           2005.461538\n",
       "Energy                          2005.351648\n",
       "Advertising & Marketing         2005.247465\n",
       "Retail                          2005.244048\n",
       "Software                        2005.179878\n",
       "Real Estate                     2005.055838\n",
       "Travel & Hospitality            2005.015873\n",
       "Government Services             2004.741667\n",
       "Health                          2004.601523\n",
       "Security                        2004.470588\n",
       "IT Services                     2004.342809\n",
       "Consumer Products & Services    2004.305439\n",
       "Education                       2004.189189\n",
       "Food & Beverage                 2003.810219\n",
       "Logistics & Transportation      2003.570470\n",
       "Financial Services              2002.720307\n",
       "Human Resources                 2002.650538\n",
       "Telecommunications              2001.313953\n",
       "Business Products & Services    2000.964135\n",
       "Insurance                       1999.886364\n",
       "Construction                    1999.438538\n",
       "Environmental Services          1999.333333\n",
       "Engineering                     1996.417910\n",
       "Manufacturing                   1993.917241\n",
       "Name: founded, dtype: float64"
      ]
     },
     "execution_count": 97,
     "metadata": {},
     "output_type": "execute_result"
    }
   ],
   "source": [
    "ind_df.groupby('industry').mean().sort_values(by='founded', ascending=False)['founded']"
   ]
  },
  {
   "cell_type": "code",
   "execution_count": 98,
   "metadata": {
    "collapsed": false
   },
   "outputs": [
    {
     "data": {
      "text/html": [
       "<div>\n",
       "<style>\n",
       "    .dataframe thead tr:only-child th {\n",
       "        text-align: right;\n",
       "    }\n",
       "\n",
       "    .dataframe thead th {\n",
       "        text-align: left;\n",
       "    }\n",
       "\n",
       "    .dataframe tbody tr th {\n",
       "        vertical-align: top;\n",
       "    }\n",
       "</style>\n",
       "<table border=\"1\" class=\"dataframe\">\n",
       "  <thead>\n",
       "    <tr style=\"text-align: right;\">\n",
       "      <th></th>\n",
       "      <th>count</th>\n",
       "      <th>mean</th>\n",
       "      <th>std</th>\n",
       "      <th>min</th>\n",
       "      <th>25%</th>\n",
       "      <th>50%</th>\n",
       "      <th>75%</th>\n",
       "      <th>max</th>\n",
       "    </tr>\n",
       "    <tr>\n",
       "      <th>industry</th>\n",
       "      <th></th>\n",
       "      <th></th>\n",
       "      <th></th>\n",
       "      <th></th>\n",
       "      <th></th>\n",
       "      <th></th>\n",
       "      <th></th>\n",
       "      <th></th>\n",
       "    </tr>\n",
       "  </thead>\n",
       "  <tbody>\n",
       "    <tr>\n",
       "      <th>Manufacturing</th>\n",
       "      <td>145.0</td>\n",
       "      <td>1993.917241</td>\n",
       "      <td>20.475088</td>\n",
       "      <td>1895.0</td>\n",
       "      <td>1990.00</td>\n",
       "      <td>2000.0</td>\n",
       "      <td>2007.0</td>\n",
       "      <td>2013.0</td>\n",
       "    </tr>\n",
       "    <tr>\n",
       "      <th>Engineering</th>\n",
       "      <td>67.0</td>\n",
       "      <td>1996.417910</td>\n",
       "      <td>15.149907</td>\n",
       "      <td>1953.0</td>\n",
       "      <td>1990.50</td>\n",
       "      <td>2002.0</td>\n",
       "      <td>2007.5</td>\n",
       "      <td>2013.0</td>\n",
       "    </tr>\n",
       "    <tr>\n",
       "      <th>Environmental Services</th>\n",
       "      <td>42.0</td>\n",
       "      <td>1999.333333</td>\n",
       "      <td>14.569709</td>\n",
       "      <td>1936.0</td>\n",
       "      <td>1994.00</td>\n",
       "      <td>2002.5</td>\n",
       "      <td>2008.0</td>\n",
       "      <td>2012.0</td>\n",
       "    </tr>\n",
       "    <tr>\n",
       "      <th>Construction</th>\n",
       "      <td>301.0</td>\n",
       "      <td>1999.438538</td>\n",
       "      <td>14.301994</td>\n",
       "      <td>1921.0</td>\n",
       "      <td>1992.00</td>\n",
       "      <td>2004.0</td>\n",
       "      <td>2010.0</td>\n",
       "      <td>2013.0</td>\n",
       "    </tr>\n",
       "    <tr>\n",
       "      <th>Insurance</th>\n",
       "      <td>88.0</td>\n",
       "      <td>1999.886364</td>\n",
       "      <td>17.845075</td>\n",
       "      <td>1869.0</td>\n",
       "      <td>1996.00</td>\n",
       "      <td>2005.0</td>\n",
       "      <td>2008.0</td>\n",
       "      <td>2013.0</td>\n",
       "    </tr>\n",
       "    <tr>\n",
       "      <th>Business Products &amp; Services</th>\n",
       "      <td>474.0</td>\n",
       "      <td>2000.964135</td>\n",
       "      <td>17.533802</td>\n",
       "      <td>1840.0</td>\n",
       "      <td>1999.00</td>\n",
       "      <td>2005.0</td>\n",
       "      <td>2010.0</td>\n",
       "      <td>2013.0</td>\n",
       "    </tr>\n",
       "    <tr>\n",
       "      <th>Telecommunications</th>\n",
       "      <td>86.0</td>\n",
       "      <td>2001.313953</td>\n",
       "      <td>8.035600</td>\n",
       "      <td>1970.0</td>\n",
       "      <td>1999.00</td>\n",
       "      <td>2002.0</td>\n",
       "      <td>2006.0</td>\n",
       "      <td>2013.0</td>\n",
       "    </tr>\n",
       "    <tr>\n",
       "      <th>Human Resources</th>\n",
       "      <td>186.0</td>\n",
       "      <td>2002.650538</td>\n",
       "      <td>9.192325</td>\n",
       "      <td>1947.0</td>\n",
       "      <td>1999.00</td>\n",
       "      <td>2004.5</td>\n",
       "      <td>2009.0</td>\n",
       "      <td>2013.0</td>\n",
       "    </tr>\n",
       "    <tr>\n",
       "      <th>Financial Services</th>\n",
       "      <td>261.0</td>\n",
       "      <td>2002.720307</td>\n",
       "      <td>10.216236</td>\n",
       "      <td>1933.0</td>\n",
       "      <td>2000.00</td>\n",
       "      <td>2006.0</td>\n",
       "      <td>2009.0</td>\n",
       "      <td>2013.0</td>\n",
       "    </tr>\n",
       "    <tr>\n",
       "      <th>Logistics &amp; Transportation</th>\n",
       "      <td>149.0</td>\n",
       "      <td>2003.570470</td>\n",
       "      <td>15.266221</td>\n",
       "      <td>1890.0</td>\n",
       "      <td>2002.00</td>\n",
       "      <td>2008.0</td>\n",
       "      <td>2011.0</td>\n",
       "      <td>2013.0</td>\n",
       "    </tr>\n",
       "    <tr>\n",
       "      <th>Food &amp; Beverage</th>\n",
       "      <td>137.0</td>\n",
       "      <td>2003.810219</td>\n",
       "      <td>12.606915</td>\n",
       "      <td>1914.0</td>\n",
       "      <td>2000.00</td>\n",
       "      <td>2008.0</td>\n",
       "      <td>2010.0</td>\n",
       "      <td>2013.0</td>\n",
       "    </tr>\n",
       "    <tr>\n",
       "      <th>Education</th>\n",
       "      <td>74.0</td>\n",
       "      <td>2004.189189</td>\n",
       "      <td>8.318449</td>\n",
       "      <td>1969.0</td>\n",
       "      <td>2002.00</td>\n",
       "      <td>2007.0</td>\n",
       "      <td>2009.0</td>\n",
       "      <td>2012.0</td>\n",
       "    </tr>\n",
       "    <tr>\n",
       "      <th>Consumer Products &amp; Services</th>\n",
       "      <td>239.0</td>\n",
       "      <td>2004.305439</td>\n",
       "      <td>10.608127</td>\n",
       "      <td>1947.0</td>\n",
       "      <td>2003.00</td>\n",
       "      <td>2008.0</td>\n",
       "      <td>2011.0</td>\n",
       "      <td>2013.0</td>\n",
       "    </tr>\n",
       "    <tr>\n",
       "      <th>IT Services</th>\n",
       "      <td>598.0</td>\n",
       "      <td>2004.342809</td>\n",
       "      <td>6.306085</td>\n",
       "      <td>1979.0</td>\n",
       "      <td>2001.00</td>\n",
       "      <td>2005.0</td>\n",
       "      <td>2009.0</td>\n",
       "      <td>2013.0</td>\n",
       "    </tr>\n",
       "    <tr>\n",
       "      <th>Security</th>\n",
       "      <td>68.0</td>\n",
       "      <td>2004.470588</td>\n",
       "      <td>7.462284</td>\n",
       "      <td>1965.0</td>\n",
       "      <td>2002.00</td>\n",
       "      <td>2005.0</td>\n",
       "      <td>2009.0</td>\n",
       "      <td>2013.0</td>\n",
       "    </tr>\n",
       "    <tr>\n",
       "      <th>Health</th>\n",
       "      <td>394.0</td>\n",
       "      <td>2004.601523</td>\n",
       "      <td>7.141328</td>\n",
       "      <td>1970.0</td>\n",
       "      <td>2001.00</td>\n",
       "      <td>2007.0</td>\n",
       "      <td>2010.0</td>\n",
       "      <td>2013.0</td>\n",
       "    </tr>\n",
       "    <tr>\n",
       "      <th>Government Services</th>\n",
       "      <td>240.0</td>\n",
       "      <td>2004.741667</td>\n",
       "      <td>6.350957</td>\n",
       "      <td>1963.0</td>\n",
       "      <td>2002.00</td>\n",
       "      <td>2006.0</td>\n",
       "      <td>2009.0</td>\n",
       "      <td>2013.0</td>\n",
       "    </tr>\n",
       "    <tr>\n",
       "      <th>Travel &amp; Hospitality</th>\n",
       "      <td>63.0</td>\n",
       "      <td>2005.015873</td>\n",
       "      <td>9.079385</td>\n",
       "      <td>1960.0</td>\n",
       "      <td>2003.00</td>\n",
       "      <td>2008.0</td>\n",
       "      <td>2011.0</td>\n",
       "      <td>2013.0</td>\n",
       "    </tr>\n",
       "    <tr>\n",
       "      <th>Real Estate</th>\n",
       "      <td>197.0</td>\n",
       "      <td>2005.055838</td>\n",
       "      <td>10.309592</td>\n",
       "      <td>1925.0</td>\n",
       "      <td>2005.00</td>\n",
       "      <td>2008.0</td>\n",
       "      <td>2010.0</td>\n",
       "      <td>2013.0</td>\n",
       "    </tr>\n",
       "    <tr>\n",
       "      <th>Software</th>\n",
       "      <td>328.0</td>\n",
       "      <td>2005.179878</td>\n",
       "      <td>6.937993</td>\n",
       "      <td>1976.0</td>\n",
       "      <td>2001.00</td>\n",
       "      <td>2007.0</td>\n",
       "      <td>2010.0</td>\n",
       "      <td>2013.0</td>\n",
       "    </tr>\n",
       "    <tr>\n",
       "      <th>Retail</th>\n",
       "      <td>168.0</td>\n",
       "      <td>2005.244048</td>\n",
       "      <td>9.541901</td>\n",
       "      <td>1945.0</td>\n",
       "      <td>2003.75</td>\n",
       "      <td>2008.0</td>\n",
       "      <td>2011.0</td>\n",
       "      <td>2013.0</td>\n",
       "    </tr>\n",
       "    <tr>\n",
       "      <th>Advertising &amp; Marketing</th>\n",
       "      <td>493.0</td>\n",
       "      <td>2005.247465</td>\n",
       "      <td>8.987097</td>\n",
       "      <td>1915.0</td>\n",
       "      <td>2003.00</td>\n",
       "      <td>2008.0</td>\n",
       "      <td>2010.0</td>\n",
       "      <td>2013.0</td>\n",
       "    </tr>\n",
       "    <tr>\n",
       "      <th>Energy</th>\n",
       "      <td>91.0</td>\n",
       "      <td>2005.351648</td>\n",
       "      <td>10.472582</td>\n",
       "      <td>1951.0</td>\n",
       "      <td>2004.50</td>\n",
       "      <td>2009.0</td>\n",
       "      <td>2011.0</td>\n",
       "      <td>2013.0</td>\n",
       "    </tr>\n",
       "    <tr>\n",
       "      <th>Media</th>\n",
       "      <td>65.0</td>\n",
       "      <td>2005.461538</td>\n",
       "      <td>9.046886</td>\n",
       "      <td>1948.0</td>\n",
       "      <td>2003.00</td>\n",
       "      <td>2008.0</td>\n",
       "      <td>2011.0</td>\n",
       "      <td>2013.0</td>\n",
       "    </tr>\n",
       "    <tr>\n",
       "      <th>Computer Hardware</th>\n",
       "      <td>36.0</td>\n",
       "      <td>2005.555556</td>\n",
       "      <td>7.473551</td>\n",
       "      <td>1980.0</td>\n",
       "      <td>2003.75</td>\n",
       "      <td>2008.5</td>\n",
       "      <td>2011.0</td>\n",
       "      <td>2013.0</td>\n",
       "    </tr>\n",
       "  </tbody>\n",
       "</table>\n",
       "</div>"
      ],
      "text/plain": [
       "                              count         mean        std     min      25%  \\\n",
       "industry                                                                       \n",
       "Manufacturing                 145.0  1993.917241  20.475088  1895.0  1990.00   \n",
       "Engineering                    67.0  1996.417910  15.149907  1953.0  1990.50   \n",
       "Environmental Services         42.0  1999.333333  14.569709  1936.0  1994.00   \n",
       "Construction                  301.0  1999.438538  14.301994  1921.0  1992.00   \n",
       "Insurance                      88.0  1999.886364  17.845075  1869.0  1996.00   \n",
       "Business Products & Services  474.0  2000.964135  17.533802  1840.0  1999.00   \n",
       "Telecommunications             86.0  2001.313953   8.035600  1970.0  1999.00   \n",
       "Human Resources               186.0  2002.650538   9.192325  1947.0  1999.00   \n",
       "Financial Services            261.0  2002.720307  10.216236  1933.0  2000.00   \n",
       "Logistics & Transportation    149.0  2003.570470  15.266221  1890.0  2002.00   \n",
       "Food & Beverage               137.0  2003.810219  12.606915  1914.0  2000.00   \n",
       "Education                      74.0  2004.189189   8.318449  1969.0  2002.00   \n",
       "Consumer Products & Services  239.0  2004.305439  10.608127  1947.0  2003.00   \n",
       "IT Services                   598.0  2004.342809   6.306085  1979.0  2001.00   \n",
       "Security                       68.0  2004.470588   7.462284  1965.0  2002.00   \n",
       "Health                        394.0  2004.601523   7.141328  1970.0  2001.00   \n",
       "Government Services           240.0  2004.741667   6.350957  1963.0  2002.00   \n",
       "Travel & Hospitality           63.0  2005.015873   9.079385  1960.0  2003.00   \n",
       "Real Estate                   197.0  2005.055838  10.309592  1925.0  2005.00   \n",
       "Software                      328.0  2005.179878   6.937993  1976.0  2001.00   \n",
       "Retail                        168.0  2005.244048   9.541901  1945.0  2003.75   \n",
       "Advertising & Marketing       493.0  2005.247465   8.987097  1915.0  2003.00   \n",
       "Energy                         91.0  2005.351648  10.472582  1951.0  2004.50   \n",
       "Media                          65.0  2005.461538   9.046886  1948.0  2003.00   \n",
       "Computer Hardware              36.0  2005.555556   7.473551  1980.0  2003.75   \n",
       "\n",
       "                                 50%     75%     max  \n",
       "industry                                              \n",
       "Manufacturing                 2000.0  2007.0  2013.0  \n",
       "Engineering                   2002.0  2007.5  2013.0  \n",
       "Environmental Services        2002.5  2008.0  2012.0  \n",
       "Construction                  2004.0  2010.0  2013.0  \n",
       "Insurance                     2005.0  2008.0  2013.0  \n",
       "Business Products & Services  2005.0  2010.0  2013.0  \n",
       "Telecommunications            2002.0  2006.0  2013.0  \n",
       "Human Resources               2004.5  2009.0  2013.0  \n",
       "Financial Services            2006.0  2009.0  2013.0  \n",
       "Logistics & Transportation    2008.0  2011.0  2013.0  \n",
       "Food & Beverage               2008.0  2010.0  2013.0  \n",
       "Education                     2007.0  2009.0  2012.0  \n",
       "Consumer Products & Services  2008.0  2011.0  2013.0  \n",
       "IT Services                   2005.0  2009.0  2013.0  \n",
       "Security                      2005.0  2009.0  2013.0  \n",
       "Health                        2007.0  2010.0  2013.0  \n",
       "Government Services           2006.0  2009.0  2013.0  \n",
       "Travel & Hospitality          2008.0  2011.0  2013.0  \n",
       "Real Estate                   2008.0  2010.0  2013.0  \n",
       "Software                      2007.0  2010.0  2013.0  \n",
       "Retail                        2008.0  2011.0  2013.0  \n",
       "Advertising & Marketing       2008.0  2010.0  2013.0  \n",
       "Energy                        2009.0  2011.0  2013.0  \n",
       "Media                         2008.0  2011.0  2013.0  \n",
       "Computer Hardware             2008.5  2011.0  2013.0  "
      ]
     },
     "execution_count": 98,
     "metadata": {},
     "output_type": "execute_result"
    }
   ],
   "source": [
    "ind_df.groupby('industry').describe()['founded'].sort_values('mean')"
   ]
  },
  {
   "cell_type": "code",
   "execution_count": 136,
   "metadata": {
    "collapsed": false
   },
   "outputs": [
    {
     "data": {
      "text/plain": [
       "437"
      ]
     },
     "execution_count": 136,
     "metadata": {},
     "output_type": "execute_result"
    }
   ],
   "source": [
    "# number of companies founded before 1990\n",
    "len(ind_df[ind_df['founded']<=1990])"
   ]
  },
  {
   "cell_type": "code",
   "execution_count": 137,
   "metadata": {
    "collapsed": false
   },
   "outputs": [
    {
     "data": {
      "text/plain": [
       "3580"
      ]
     },
     "execution_count": 137,
     "metadata": {},
     "output_type": "execute_result"
    }
   ],
   "source": [
    "# number of companies founded between 1990 and 2010\n",
    "len(ind_df[(ind_df['founded']<=2010) & (ind_df['founded']>1990)])"
   ]
  },
  {
   "cell_type": "code",
   "execution_count": 138,
   "metadata": {
    "collapsed": false
   },
   "outputs": [
    {
     "data": {
      "text/plain": [
       "977"
      ]
     },
     "execution_count": 138,
     "metadata": {},
     "output_type": "execute_result"
    }
   ],
   "source": [
    "# number of companies founded after 2010\n",
    "len(ind_df[ind_df['founded']>2010])"
   ]
  },
  {
   "cell_type": "code",
   "execution_count": 139,
   "metadata": {
    "collapsed": false
   },
   "outputs": [
    {
     "data": {
      "text/plain": [
       "4994"
      ]
     },
     "execution_count": 139,
     "metadata": {},
     "output_type": "execute_result"
    }
   ],
   "source": [
    "437+3580+977"
   ]
  },
  {
   "cell_type": "code",
   "execution_count": 140,
   "metadata": {
    "collapsed": false
   },
   "outputs": [
    {
     "name": "stdout",
     "output_type": "stream",
     "text": [
      "percent growth: 84.18169465868372\trevenue: 40795.9\tprevious revenue: 22149.812485763538\n"
     ]
    }
   ],
   "source": [
    "# avg growth in companies founded before 1990\n",
    "rev1, prev1 = ind_df[ind_df['founded']<=1990].sum()[['revenue','prev_revenue']]\n",
    "growth1 = ((rev1 - prev1)/prev1)*100\n",
    "print(\"percent growth: {}\\trevenue: {}\\tprevious revenue: {}\".format(growth1, rev1, prev1))"
   ]
  },
  {
   "cell_type": "code",
   "execution_count": 141,
   "metadata": {
    "collapsed": false
   },
   "outputs": [
    {
     "name": "stdout",
     "output_type": "stream",
     "text": [
      "percent growth: 125.73586647365838\trevenue: 150322.7999999996\tprevious revenue: 66592.34190307153\n"
     ]
    }
   ],
   "source": [
    "# avg growth in companies founded between 1990 and 2010\n",
    "rev2, prev2 = ind_df[(ind_df['founded']<=2010) & (ind_df['founded']>1990)].sum()[['revenue','prev_revenue']]\n",
    "growth2 = ((rev2 - prev2)/prev2)*100\n",
    "print(\"percent growth: {}\\trevenue: {}\\tprevious revenue: {}\".format(growth2, rev2, prev2))"
   ]
  },
  {
   "cell_type": "code",
   "execution_count": 142,
   "metadata": {
    "collapsed": false
   },
   "outputs": [
    {
     "name": "stdout",
     "output_type": "stream",
     "text": [
      "percent growth: 125.0841198897658\trevenue: 41250.20000000001\tprevious revenue: 18326.570537362724\n"
     ]
    }
   ],
   "source": [
    "# avg growth in companies founded after 2010\n",
    "rev3, prev3 = ind_df[ind_df['founded']>2010].sum()[['revenue','prev_revenue']]\n",
    "growth3 = ((rev3 - prev3)/prev3)*100\n",
    "print(\"percent growth: {}\\trevenue: {}\\tprevious revenue: {}\".format(growth3, rev3, prev3))"
   ]
  },
  {
   "cell_type": "markdown",
   "metadata": {},
   "source": [
    "More than 90% companies in list were founded before 1990. Almost 20% were founded after 2010. "
   ]
  },
  {
   "cell_type": "markdown",
   "metadata": {
    "collapsed": true
   },
   "source": [
    "---"
   ]
  },
  {
   "cell_type": "markdown",
   "metadata": {},
   "source": [
    "### Revenue vs Growth"
   ]
  },
  {
   "cell_type": "markdown",
   "metadata": {},
   "source": [
    "Distribution of revenue of companies in list:"
   ]
  },
  {
   "cell_type": "code",
   "execution_count": 99,
   "metadata": {
    "collapsed": false
   },
   "outputs": [
    {
     "data": {
      "text/plain": [
       "<matplotlib.axes._subplots.AxesSubplot at 0x11fefe898>"
      ]
     },
     "execution_count": 99,
     "metadata": {},
     "output_type": "execute_result"
    },
    {
     "data": {
      "image/png": "[encoded data removed]",
      "text/plain": [
       "<matplotlib.figure.Figure at 0x11fefe518>"
      ]
     },
     "metadata": {},
     "output_type": "display_data"
    }
   ],
   "source": [
    "plt.figure(figsize=(14,10))\n",
    "sns.distplot(ind_df['revenue'], kde=False, bins=25)"
   ]
  },
  {
   "cell_type": "markdown",
   "metadata": {},
   "source": [
    "Almost companies are under USD 1 billion."
   ]
  },
  {
   "cell_type": "code",
   "execution_count": 100,
   "metadata": {
    "collapsed": false
   },
   "outputs": [
    {
     "data": {
      "text/plain": [
       "4970"
      ]
     },
     "execution_count": 100,
     "metadata": {},
     "output_type": "execute_result"
    }
   ],
   "source": [
    "# Companies with revenue under 1 billion USD.\n",
    "len(ind_df[ind_df['revenue']<1000])"
   ]
  },
  {
   "cell_type": "markdown",
   "metadata": {},
   "source": [
    "99.4 % companies have less than 1 billion USD revenue. "
   ]
  },
  {
   "cell_type": "code",
   "execution_count": 111,
   "metadata": {
    "collapsed": false
   },
   "outputs": [
    {
     "data": {
      "text/plain": [
       "4833"
      ]
     },
     "execution_count": 111,
     "metadata": {},
     "output_type": "execute_result"
    }
   ],
   "source": [
    "# Companies with revenue under 200 million USD.\n",
    "len(ind_df[ind_df['revenue']<200])"
   ]
  },
  {
   "cell_type": "code",
   "execution_count": 101,
   "metadata": {
    "collapsed": false
   },
   "outputs": [
    {
     "data": {
      "text/plain": [
       "26011.700000000001"
      ]
     },
     "execution_count": 101,
     "metadata": {},
     "output_type": "execute_result"
    }
   ],
   "source": [
    "# Maximum revenue for a company\n",
    "ind_df['revenue'].max()"
   ]
  },
  {
   "cell_type": "code",
   "execution_count": 102,
   "metadata": {
    "collapsed": false
   },
   "outputs": [
    {
     "data": {
      "text/plain": [
       "27"
      ]
     },
     "execution_count": 102,
     "metadata": {},
     "output_type": "execute_result"
    }
   ],
   "source": [
    "# Companies with above billion USD revenue.\n",
    "len(ind_df[ind_df['revenue']>=1000])"
   ]
  },
  {
   "cell_type": "markdown",
   "metadata": {},
   "source": [
    "Analyze affect of revenue on growth for under-billion companies"
   ]
  },
  {
   "cell_type": "code",
   "execution_count": 107,
   "metadata": {
    "collapsed": false
   },
   "outputs": [
    {
     "data": {
      "text/plain": [
       "<matplotlib.axes._subplots.AxesSubplot at 0x11fb80d68>"
      ]
     },
     "execution_count": 107,
     "metadata": {},
     "output_type": "execute_result"
    },
    {
     "data": {
      "image/png": "[encoded data removed]",
      "text/plain": [
       "<matplotlib.figure.Figure at 0x1227570f0>"
      ]
     },
     "metadata": {},
     "output_type": "display_data"
    }
   ],
   "source": [
    "plt.figure(figsize=(14,10))\n",
    "sns.distplot(ind_df[ind_df['revenue']<1000]['revenue'], kde=False, bins=20)"
   ]
  },
  {
   "cell_type": "code",
   "execution_count": 112,
   "metadata": {
    "collapsed": false
   },
   "outputs": [
    {
     "data": {
      "text/plain": [
       "<matplotlib.axes._subplots.AxesSubplot at 0x12264b4a8>"
      ]
     },
     "execution_count": 112,
     "metadata": {},
     "output_type": "execute_result"
    },
    {
     "data": {
      "image/png": "[encoded data removed]",
      "text/plain": [
       "<matplotlib.figure.Figure at 0x123202c88>"
      ]
     },
     "metadata": {},
     "output_type": "display_data"
    }
   ],
   "source": [
    "plt.figure(figsize=(14,10))\n",
    "sns.distplot(ind_df[ind_df['revenue']<200]['revenue'], kde=False, bins=20)"
   ]
  },
  {
   "cell_type": "code",
   "execution_count": 135,
   "metadata": {
    "collapsed": false
   },
   "outputs": [
    {
     "data": {
      "text/plain": [
       "<seaborn.axisgrid.JointGrid at 0x11fbedd68>"
      ]
     },
     "execution_count": 135,
     "metadata": {},
     "output_type": "execute_result"
    },
    {
     "data": {
      "image/png": "[encoded data removed]",
      "text/plain": [
       "<matplotlib.figure.Figure at 0x11fbed978>"
      ]
     },
     "metadata": {},
     "output_type": "display_data"
    }
   ],
   "source": [
    "rev_df = ind_df[ind_df['revenue']<200]\n",
    "sns.jointplot(rev_df['revenue'], rev_df['growth'], kind='scatter', ylim=5000, size=10, joint_kws={\"s\": 5})"
   ]
  },
  {
   "cell_type": "markdown",
   "metadata": {},
   "source": [
    "As expected, Companies with less revenue are more likely to show higher growth. "
   ]
  },
  {
   "cell_type": "code",
   "execution_count": null,
   "metadata": {
    "collapsed": true
   },
   "outputs": [],
   "source": []
  },
  {
   "cell_type": "code",
   "execution_count": null,
   "metadata": {
    "collapsed": true
   },
   "outputs": [],
   "source": []
  }
 ],
 "metadata": {
  "kernelspec": {
   "display_name": "Python 3",
   "language": "python",
   "name": "python3"
  },
  "language_info": {
   "codemirror_mode": {
    "name": "ipython",
    "version": 3
   },
   "file_extension": ".py",
   "mimetype": "text/x-python",
   "name": "python",
   "nbconvert_exporter": "python",
   "pygments_lexer": "ipython3",
   "version": "3.6.0"
  }
 },
 "nbformat": 4,
 "nbformat_minor": 2
}
