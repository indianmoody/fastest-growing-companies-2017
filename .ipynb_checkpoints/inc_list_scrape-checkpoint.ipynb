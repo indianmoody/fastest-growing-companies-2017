{
 "cells": [
  {
   "cell_type": "code",
   "execution_count": 3,
   "metadata": {
    "collapsed": true
   },
   "outputs": [],
   "source": [
    "from bs4 import BeautifulSoup #for HTML parsing\n",
    "from selenium import webdriver #to scrape javascript code of page, 'requests' fails to scrap required data\n",
    "from selenium.common.exceptions import TimeoutException\n",
    "from selenium.webdriver.support.ui import WebDriverWait # available since 2.4.0\n",
    "from selenium.webdriver.common.by import By\n",
    "from selenium.webdriver.support import expected_conditions as EC\n",
    "import time"
   ]
  },
  {
   "cell_type": "code",
   "execution_count": null,
   "metadata": {
    "collapsed": true
   },
   "outputs": [],
   "source": [
    "url1 = \"https://www.inc.com/profile/skillz\"\n",
    "url2 = \"https://www.inc.com/profile/givingtons\"\n",
    "url3 = \"https://www.inc.com/profile/ruby-has-fulfillment\"\n",
    "url4 = \"https://www.inc.com/profile/stream-logistics\"\n"
   ]
  },
  {
   "cell_type": "code",
   "execution_count": 6,
   "metadata": {
    "collapsed": false
   },
   "outputs": [
    {
     "name": "stdout",
     "output_type": "stream",
     "text": [
      "[<div class=\"PreviewText\">Givington's</div>]\n"
     ]
    }
   ],
   "source": [
    "inc_url = \"https://www.inc.com/profile/skillz\"\n",
    "browser = webdriver.Safari()  # object for Safari browser\n",
    "browser.get(inc_url)       # navigate to the page\n",
    "wait = WebDriverWait(browser, 100)\n",
    "\n",
    "try:\n",
    "    wait.until(EC.element_to_be_clickable((By.CLASS_NAME,'NextButton')))    \n",
    "    \n",
    "    time.sleep(30)\n",
    "    for i in range(1,60):\n",
    "        if i%40 == 0:\n",
    "            time.sleep(30)\n",
    "        wait.until(EC.element_to_be_clickable((By.CLASS_NAME,'NextButton')))    \n",
    "        browser.find_element_by_class_name(\"NextButton\").click()\n",
    "        time.sleep(3)\n",
    "    \n",
    "    inhtml = browser.execute_script(\"return document.body.innerHTML\") # extract inner HTML of the page as str\n",
    "    soup3 = BeautifulSoup(inhtml, 'html.parser') # parse with BeautifulSoup\n",
    "    details = soup3.select(\"div[class='NextButton'] div[class='PreviewText']\")\n",
    "    print(details)\n",
    "    \n",
    "finally:\n",
    "    browser.quit()"
   ]
  },
  {
   "cell_type": "code",
   "execution_count": 38,
   "metadata": {
    "collapsed": false
   },
   "outputs": [
    {
     "data": {
      "text/plain": [
       "'Provo, UT'"
      ]
     },
     "execution_count": 38,
     "metadata": {},
     "output_type": "execute_result"
    }
   ],
   "source": [
    "soup3.select(\"article dl[class='address'] dd br\")[2].text"
   ]
  },
  {
   "cell_type": "code",
   "execution_count": 43,
   "metadata": {
    "collapsed": false
   },
   "outputs": [
    {
     "data": {
      "text/plain": [
       "'laurenjames.com'"
      ]
     },
     "execution_count": 43,
     "metadata": {},
     "output_type": "execute_result"
    }
   ],
   "source": [
    "soup3.select(\"article dd[class='website']\")[52].text.strip()"
   ]
  },
  {
   "cell_type": "code",
   "execution_count": 49,
   "metadata": {
    "collapsed": false
   },
   "outputs": [
    {
     "data": {
      "text/plain": [
       "'James Moore'"
      ]
     },
     "execution_count": 49,
     "metadata": {},
     "output_type": "execute_result"
    }
   ],
   "source": [
    "#leadership\n",
    "soup3.select(\"article dl[class='leadership'] dd\")[5].text"
   ]
  },
  {
   "cell_type": "code",
   "execution_count": 51,
   "metadata": {
    "collapsed": false
   },
   "outputs": [
    {
     "data": {
      "text/plain": [
       "'$19.7 M'"
      ]
     },
     "execution_count": 51,
     "metadata": {},
     "output_type": "execute_result"
    }
   ],
   "source": [
    "#revenue\n",
    "soup3.select(\"article dl[class='revenue'] dd\")[5].text"
   ]
  },
  {
   "cell_type": "code",
   "execution_count": 53,
   "metadata": {
    "collapsed": false
   },
   "outputs": [
    {
     "data": {
      "text/plain": [
       "'6'"
      ]
     },
     "execution_count": 53,
     "metadata": {},
     "output_type": "execute_result"
    }
   ],
   "source": [
    "#rank\n",
    "soup3.select(\"article dl[class='rank'] dd\")[5].text[1:]"
   ]
  },
  {
   "cell_type": "code",
   "execution_count": 56,
   "metadata": {
    "collapsed": false
   },
   "outputs": [
    {
     "data": {
      "text/plain": [
       "'19,352'"
      ]
     },
     "execution_count": 56,
     "metadata": {},
     "output_type": "execute_result"
    }
   ],
   "source": [
    "#growth in %\n",
    "soup3.select(\"article dl[class='growth'] dd\")[5].text[:-1]"
   ]
  },
  {
   "cell_type": "code",
   "execution_count": 57,
   "metadata": {
    "collapsed": false
   },
   "outputs": [
    {
     "data": {
      "text/plain": [
       "'Financial Services'"
      ]
     },
     "execution_count": 57,
     "metadata": {},
     "output_type": "execute_result"
    }
   ],
   "source": [
    "#industry\n",
    "soup3.select(\"article dl[class='ifi_industry'] dd\")[5].text"
   ]
  },
  {
   "cell_type": "code",
   "execution_count": 62,
   "metadata": {
    "collapsed": false
   },
   "outputs": [
    {
     "data": {
      "text/plain": [
       "'2011'"
      ]
     },
     "execution_count": 62,
     "metadata": {},
     "output_type": "execute_result"
    }
   ],
   "source": [
    "#founded\n",
    "soup3.select(\"article dl[class='ifc_founded'] dd\")[5].text"
   ]
  },
  {
   "cell_type": "code",
   "execution_count": 64,
   "metadata": {
    "collapsed": false
   },
   "outputs": [
    {
     "data": {
      "text/plain": [
       "59"
      ]
     },
     "execution_count": 64,
     "metadata": {},
     "output_type": "execute_result"
    }
   ],
   "source": [
    "#employees\n",
    "len(soup3.select(\"article dl[class='employees'] dd\"))"
   ]
  },
  {
   "cell_type": "code",
   "execution_count": null,
   "metadata": {
    "collapsed": false
   },
   "outputs": [],
   "source": []
  },
  {
   "cell_type": "code",
   "execution_count": 76,
   "metadata": {
    "collapsed": false
   },
   "outputs": [
    {
     "data": {
      "text/plain": [
       "<dd>#61</dd>"
      ]
     },
     "execution_count": 76,
     "metadata": {},
     "output_type": "execute_result"
    }
   ],
   "source": [
    "soup3.select(\"article dl[class='rank'] dd\")[60]"
   ]
  },
  {
   "cell_type": "code",
   "execution_count": 79,
   "metadata": {
    "collapsed": false
   },
   "outputs": [
    {
     "data": {
      "text/plain": [
       "\"Small Business Owners of America started in 2011 as a consulting firm, offering practical assistance to entrepreneurs for everything from writing business plans to incorporating startups. In 2013, founder James Moore added a financing wing to his business--offering alternative lending services along with investing directly in some client companies. That's when things really started to take off. In its first year of offering funding, the company bankrolled about $400,000 in deals. Last year, it funded over $15 million to more than 100 small businesses.\""
      ]
     },
     "execution_count": 79,
     "metadata": {},
     "output_type": "execute_result"
    }
   ],
   "source": [
    "#description\n",
    "soup3.select(\"article div[class='description'] p\")[5].text"
   ]
  },
  {
   "cell_type": "code",
   "execution_count": 80,
   "metadata": {
    "collapsed": true
   },
   "outputs": [],
   "source": [
    "articles = soup3.select(\"article\")"
   ]
  },
  {
   "cell_type": "code",
   "execution_count": 86,
   "metadata": {
    "collapsed": false
   },
   "outputs": [
    {
     "name": "stdout",
     "output_type": "stream",
     "text": [
      "Skillz\n",
      "EnviroSolar Power\n",
      "Gametime\n",
      "Club Pilates Franchise\n",
      "Halo Top Creamery\n",
      "Small Business Owners of America\n",
      "AutomotiveMastermind\n",
      "Liftoff\n",
      "Greenspire\n",
      "FormulaFolio Investments\n",
      "Single Serve Beverage Distribution\n",
      "ShipHawk\n",
      "Adva-Net\n",
      "DashBid\n",
      "Forward Financing\n",
      "Solera Specialty Pharmacy\n",
      "Strike Social\n",
      "Reverb.com\n",
      "Excel Impact\n",
      "DGC International\n",
      "Shofur\n",
      "GrowthPlay\n",
      "CalCom Solar\n",
      "ION Solar\n",
      "The Penny Hoarder\n",
      "Matterport\n",
      "Legend Solar\n",
      "SaviLinx\n",
      "TechAnax\n",
      "Spar Information Systems\n",
      "Big Block Realty\n",
      "RelationEdge\n",
      "Globalization Partners\n",
      "Carvana\n",
      "Axe Wellness\n",
      "Interactive Government Holdings\n",
      "Bay State Search\n",
      "Enhanced Veterans Solutions\n",
      "Dealer Inspire\n",
      "Na Ali'i Consulting and Sales\n",
      "Dyla\n",
      "BlackRock Construction\n",
      "MM.LaFleur\n",
      "Lever1\n",
      "TrackR\n",
      "ByteCubed\n",
      "Avant\n",
      "iBenzer\n",
      "Boost Marketing Group\n",
      "FedBiz IT Solutions\n",
      "BASX Solutions\n",
      "Discount Power Texas\n",
      "Lauren James Enterprises\n",
      "Boomsourcing\n",
      "ClearView\n",
      "Samba TV\n",
      "Thought Logic Consulting\n",
      "Chef's Cut Real Jerky\n",
      "InfoScout\n",
      "Infusion Express\n",
      "Givington's\n"
     ]
    }
   ],
   "source": [
    "for article in articles[20:]:\n",
    "    print(article.select(\"header h1\")[0].text)"
   ]
  },
  {
   "cell_type": "code",
   "execution_count": null,
   "metadata": {
    "collapsed": true
   },
   "outputs": [],
   "source": []
  },
  {
   "cell_type": "code",
   "execution_count": null,
   "metadata": {
    "collapsed": true
   },
   "outputs": [],
   "source": []
  },
  {
   "cell_type": "code",
   "execution_count": null,
   "metadata": {
    "collapsed": true
   },
   "outputs": [],
   "source": []
  },
  {
   "cell_type": "code",
   "execution_count": null,
   "metadata": {
    "collapsed": true
   },
   "outputs": [],
   "source": []
  },
  {
   "cell_type": "code",
   "execution_count": null,
   "metadata": {
    "collapsed": true
   },
   "outputs": [],
   "source": []
  },
  {
   "cell_type": "code",
   "execution_count": null,
   "metadata": {
    "collapsed": true
   },
   "outputs": [],
   "source": []
  },
  {
   "cell_type": "code",
   "execution_count": 68,
   "metadata": {
    "collapsed": true
   },
   "outputs": [],
   "source": [
    "#if browser.find_element_by_class_name(\"NextButton\").is_enabled():\n",
    "    #    browser.find_element_by_class_name(\"NextButton\").click()"
   ]
  },
  {
   "cell_type": "code",
   "execution_count": 87,
   "metadata": {
    "collapsed": true
   },
   "outputs": [],
   "source": [
    "import csv"
   ]
  },
  {
   "cell_type": "code",
   "execution_count": 88,
   "metadata": {
    "collapsed": true
   },
   "outputs": [],
   "source": [
    "cols = [\"col1\", \"col2\", \"col3\"]"
   ]
  },
  {
   "cell_type": "code",
   "execution_count": 91,
   "metadata": {
    "collapsed": false
   },
   "outputs": [],
   "source": [
    "with open('selen.csv', 'w') as f:\n",
    "    f.write(\"|\".join(cols) + \"\\n\")"
   ]
  },
  {
   "cell_type": "code",
   "execution_count": 92,
   "metadata": {
    "collapsed": true
   },
   "outputs": [],
   "source": [
    "row1 = [\"apple\", \"ball\", \"cat\"]\n",
    "row2 = [\"ain't nothing\", \"usa, england\", \"tour\"]"
   ]
  },
  {
   "cell_type": "code",
   "execution_count": 93,
   "metadata": {
    "collapsed": true
   },
   "outputs": [],
   "source": [
    "with open('selen.csv', 'a') as f:\n",
    "    f.write(\"|\".join(row1) + \"\\n\")\n",
    "    f.write(\"|\".join(row2) + \"\\n\")"
   ]
  },
  {
   "cell_type": "code",
   "execution_count": 95,
   "metadata": {
    "collapsed": false
   },
   "outputs": [
    {
     "name": "stdout",
     "output_type": "stream",
     "text": [
      "col1\n",
      "col2\n",
      "col3\n",
      "apple\n",
      "ball\n",
      "cat\n",
      "ain't nothing\n",
      "usa, england\n",
      "tour\n"
     ]
    }
   ],
   "source": [
    "with open('selen.csv', 'r') as f:\n",
    "    reader = csv.reader(f, delimiter=\"|\")\n",
    "    for row in reader:\n",
    "        for r in row:\n",
    "            print(r)"
   ]
  },
  {
   "cell_type": "code",
   "execution_count": null,
   "metadata": {
    "collapsed": true
   },
   "outputs": [],
   "source": []
  }
 ],
 "metadata": {
  "kernelspec": {
   "display_name": "Python 3",
   "language": "python",
   "name": "python3"
  },
  "language_info": {
   "codemirror_mode": {
    "name": "ipython",
    "version": 3
   },
   "file_extension": ".py",
   "mimetype": "text/x-python",
   "name": "python",
   "nbconvert_exporter": "python",
   "pygments_lexer": "ipython3",
   "version": "3.6.0"
  }
 },
 "nbformat": 4,
 "nbformat_minor": 2
}
