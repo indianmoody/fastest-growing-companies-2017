{
 "cells": [
  {
   "cell_type": "code",
   "execution_count": 2,
   "metadata": {
    "collapsed": true
   },
   "outputs": [],
   "source": [
    "from bs4 import BeautifulSoup #for HTML parsing\n",
    "from selenium import webdriver #to scrape javascript code of page, 'requests' fails to scrap required data\n",
    "from selenium.common.exceptions import TimeoutException\n",
    "from selenium.webdriver.support.ui import WebDriverWait # available since 2.4.0\n",
    "from selenium.webdriver.common.by import By\n",
    "from selenium.webdriver.support import expected_conditions as EC\n",
    "import time"
   ]
  },
  {
   "cell_type": "code",
   "execution_count": 3,
   "metadata": {
    "collapsed": false
   },
   "outputs": [],
   "source": [
    "urls = []\n",
    "#60 per url\n",
    "urls.append(\"https://www.inc.com/profile/skillz\")\n",
    "urls.append(\"https://www.inc.com/profile/givingtons\")\n",
    "urls.append(\"https://www.inc.com/profile/ruby-has-fulfillment\")\n",
    "urls.append(\"https://www.inc.com/profile/stream-logistics\")\n",
    "urls.append(\"https://www.inc.com/profile/palmisano\")\n",
    "urls.append(\"https://www.inc.com/profile/cylance\")\n",
    "urls.append(\"https://www.inc.com/profile/ncino\")\n",
    "urls.append(\"https://www.inc.com/profile/midwest-corporate-credit\")\n",
    "urls.append(\"https://www.inc.com/profile/bahfed\")\n",
    "urls.append(\"https://www.inc.com/profile/auric-solar\") \n",
    "urls.append(\"https://www.inc.com/profile/black-book-research\") #upto 660 rank\n",
    "\n",
    "#120\n",
    "urls.append(\"https://www.inc.com/profile/whim-hospitality\") #780\n",
    "#60\n",
    "urls.append(\"https://www.inc.com/profile/easy-media\") #840\n",
    "urls.append(\"https://www.inc.com/profile/evoke-neuroscience\")\n",
    "urls.append(\"https://www.inc.com/profile/tara-wilson-agency\")\n",
    "urls.append(\"https://www.inc.com/profile/digital-media-solutions\")\n",
    "urls.append(\"https://www.inc.com/profile/smartsheet\") #1080\n",
    "urls.append(\"https://www.inc.com/profile/dgdean\")\n",
    "urls.append(\"https://www.inc.com/profile/smarterhq\")#1200\n",
    "urls.append(\"https://www.inc.com/profile/marksys\")\n",
    "urls.append(\"https://www.inc.com/profile/topsteptrader\")\n",
    "urls.append(\"https://www.inc.com/profile/auben-realty\")\n",
    "urls.append(\"https://www.inc.com/profile/premier-private-jets\")#1440\n",
    "urls.append(\"https://www.inc.com/profile/the-kenjya-trusant-group\")\n",
    "urls.append(\"https://www.inc.com/profile/track5media\")\n",
    "urls.append(\"https://www.inc.com/profile/festivals-unlimited\")\n",
    "urls.append(\"https://www.inc.com/profile/bolay-enterprises\")#1680\n",
    "urls.append(\"https://www.inc.com/profile/netrush\")\n",
    "urls.append(\"https://www.inc.com/profile/24hrsdeals\")#1820\n",
    "urls.append(\"https://www.inc.com/profile/worksite-medical\")#1741-1760 (missed earlier)\n",
    "# to be done\n",
    "urls.append(\"https://www.inc.com/profile/bayfirst-solutions\") #1821 30\n",
    "urls.append(\"https://www.inc.com/profile/savan-group\") #1851\n",
    "urls.append(\"https://www.inc.com/profile/popular-ink\") #1881\n",
    "urls.append(\"https://www.inc.com/profile/realmart-realty\") #1910\n",
    "urls.append(\"https://www.inc.com/profile/taoti-creative\") #1941\n",
    "urls.append(\"https://www.inc.com/profile/strategic-holdings-group\") #1971 done\n",
    "urls.append(\"https://www.inc.com/profile/universal-plant-services\") #2001\n",
    "urls.append(\"https://www.inc.com/profile/merritt-communications\") #2031\n",
    "urls.append(\"https://www.inc.com/profile/c2g-partners\") #2061\n",
    "urls.append(\"https://www.inc.com/profile/homefix-custom-remodeling\") #2091 done till 2120 39\n",
    "urls.append(\"https://www.inc.com/profile/gadellnet-it-consulting\") #2121 40\n",
    "urls.append(\"https://www.inc.com/profile/developertown\") #2151\n",
    "urls.append(\"https://www.inc.com/profile/staff-smart\") #2181\n",
    "urls.append(\"https://www.inc.com/profile/prosperity-organic-foods\") #2211\n",
    "urls.append(\"https://www.inc.com/profile/selling-simplified\") #2241\n",
    "urls.append(\"https://www.inc.com/profile/mid-atlantic-protel\") #2271\n",
    "urls.append(\"https://www.inc.com/profile/emazinglights-iheartraves-intotheam\") #2301\n",
    "urls.append(\"https://www.inc.com/profile/accountable-healthcare-staffing\") #2331\n",
    "urls.append(\"https://www.inc.com/profile/carson-group\") #2361\n",
    "urls.append(\"https://www.inc.com/profile/janus-international-group\") #2391\n",
    "urls.append(\"https://www.inc.com/profile/3-blind-mice-window-coverings\") #2421 50\n",
    "urls.append(\"https://www.inc.com/profile/kuykendall-solar\") #2451\n",
    "urls.append(\"https://www.inc.com/profile/chantel-ray-real-estate\") #2481"
   ]
  },
  {
   "cell_type": "code",
   "execution_count": 4,
   "metadata": {
    "collapsed": true
   },
   "outputs": [],
   "source": [
    "import csv"
   ]
  },
  {
   "cell_type": "code",
   "execution_count": 5,
   "metadata": {
    "collapsed": false
   },
   "outputs": [
    {
     "data": {
      "text/plain": [
       "'\\ncols = [\"Rank_2017\",\"Company_Name\",\"Revenue_2016\",\"Industry\",\"Employees\",\"Founded\",\"Growth_3_yrs\",\"Brief_Desc\",\"Leadership\",\"City\",\"State\",\"Website\",\"Description\"]\\nwith open(\\'inc_data.csv\\', \\'w\\') as f:\\n    f.write(\"|\".join(cols) + \"\\n\")\\n'"
      ]
     },
     "execution_count": 5,
     "metadata": {},
     "output_type": "execute_result"
    }
   ],
   "source": [
    "'''\n",
    "cols = [\"Rank_2017\",\"Company_Name\",\"Revenue_2016\",\"Industry\",\"Employees\",\"Founded\",\"Growth_3_yrs\",\"Brief_Desc\",\"Leadership\",\"City\",\"State\",\"Website\",\"Description\"]\n",
    "with open('inc_data.csv', 'w') as f:\n",
    "    f.write(\"|\".join(cols) + \"\\n\")\n",
    "'''"
   ]
  },
  {
   "cell_type": "code",
   "execution_count": 21,
   "metadata": {
    "collapsed": false
   },
   "outputs": [],
   "source": [
    "curr_url = \"https://www.inc.com/profile/nina-hale\"\n",
    "for j in range(15):\n",
    "    #curr_url = urls[j]\n",
    "    browser = webdriver.Safari()\n",
    "    browser.get(curr_url)\n",
    "    wait = WebDriverWait(browser, 100)\n",
    "    time.sleep(3)\n",
    "    browser.maximize_window()\n",
    "    \n",
    "    try:\n",
    "        #wait.until(EC.element_to_be_clickable((By.CLASS_NAME,'NextButton')))\n",
    "        time.sleep(30)\n",
    "        \n",
    "        for i in range(1,30):\n",
    "            if i%15 == 0:\n",
    "                time.sleep(5)\n",
    "            wait.until(EC.element_to_be_clickable((By.CLASS_NAME,'NextButton')))\n",
    "            browser.find_element_by_class_name(\"NextButton\").click()\n",
    "            time.sleep(3)\n",
    "           \n",
    "        inhtml = browser.execute_script(\"return document.body.innerHTML\") # extract inner HTML of the page as str\n",
    "        soup = BeautifulSoup(inhtml, 'html.parser') # parse with BeautifulSoup\n",
    "        \n",
    "        articles = soup.select(\"article\")\n",
    "        \n",
    "        chunk_list = [] #list of lists corresponding to each company details\n",
    "        for article in articles[20:-1]:\n",
    "            row_list = []\n",
    "            #rank\n",
    "            row_list.append(article.select(\"dl[class='rank'] dd\")[0].text[1:])\n",
    "            #company name\n",
    "            row_list.append(article.select(\"header h1\")[0].text.strip())\n",
    "            #revenue\n",
    "            revenue = article.select(\"dl[class='revenue'] dd\")\n",
    "            if len(revenue) == 0:\n",
    "                row_list.append('')\n",
    "            else:\n",
    "                row_list.append(revenue[0].text.strip())\n",
    "            #industry\n",
    "            industry = article.select(\"dl[class='ifi_industry'] dd\")\n",
    "            if len(industry) == 0:\n",
    "                row_list.append('')\n",
    "            else:\n",
    "                row_list.append(industry[0].text.strip())\n",
    "            #employees\n",
    "            employees = article.select(\"dl[class='employees'] dd\")\n",
    "            if len(employees) == 0:\n",
    "                row_list.append('')\n",
    "            else:\n",
    "                row_list.append(employees[0].text.strip())\n",
    "            #founded\n",
    "            founded = article.select(\"dl[class='ifc_founded'] dd\")\n",
    "            if len(founded) == 0:\n",
    "                row_list.append('')\n",
    "            else:\n",
    "                row_list.append(founded[0].text.strip())\n",
    "            #growth\n",
    "            growth = article.select(\"dl[class='growth'] dd\")\n",
    "            if len(growth) == 0:\n",
    "                row_list.append('')\n",
    "            else:\n",
    "                row_list.append(growth[0].text.strip())\n",
    "            #brief description\n",
    "            brief_desc = article.select(\"header p\")\n",
    "            if len(brief_desc) == 0:\n",
    "                row_list.append('')\n",
    "            else:\n",
    "                row_list.append(brief_desc[0].text.strip())\n",
    "            #leadership\n",
    "            leadership = article.select(\"dl[class='leadership'] dd\")\n",
    "            if len(leadership) == 0:\n",
    "                row_list.append('')\n",
    "            else:\n",
    "                row_list.append(leadership[0].text.strip())\n",
    "            #city and state\n",
    "            location = article.select(\"dl[class='location'] dd\")\n",
    "            if len(location) == 0:\n",
    "                location = article.select(\"dl[class='address'] dd br\")\n",
    "            locss = location[0].text.strip().split(',')\n",
    "            city = locss[-2]\n",
    "            state = locss[-1]\n",
    "            city = city.strip()\n",
    "            state = state.strip()\n",
    "            row_list.append(city)\n",
    "            row_list.append(state)\n",
    "            #website\n",
    "            website = article.select(\"dd[class='website']\")\n",
    "            if len(website) == 0:\n",
    "                row_list.append('')\n",
    "            else:\n",
    "                row_list.append(website[0].text.strip())\n",
    "            #description\n",
    "            desc = article.select(\"div[class='description'] p\")\n",
    "            if len(desc) == 0:\n",
    "                row_list.append('')\n",
    "            else:\n",
    "                row_list.append(desc[0].text.strip())\n",
    "            \n",
    "            chunk_list.append(row_list)\n",
    "            \n",
    "        with open('inc_data.csv', 'a') as f:\n",
    "            for row in chunk_list:\n",
    "                f.write(\"|\".join(row) + \"\\n\")\n",
    "        \n",
    "        #get url for next page load from last article element\n",
    "        next_company = articles[-1].select(\"header h1\")[0].text.strip()\n",
    "        curr_url = \"https://www.inc.com/profile/\" + \"-\".join(next_company.split())\n",
    "        \n",
    "    finally:\n",
    "        browser.quit()\n",
    "        time.sleep(30)\n"
   ]
  },
  {
   "cell_type": "code",
   "execution_count": 20,
   "metadata": {
    "collapsed": false
   },
   "outputs": [
    {
     "data": {
      "text/plain": [
       "<article class=\"profile nina-hale\"> <div class=\"profile nina-hale\">\n",
       "<style type=\"text/css\"></style>\n",
       "<header>\n",
       "<h1>Nina Hale</h1>\n",
       "<p>Employs online brand marketing strategies to increase client revenue, including pay-per-click, social media and content marketing.</p>\n",
       "</header>\n",
       "<div class=\"profile-content\" style=\"position: relative;\">\n",
       "<section class=\"responsive company-profile-data\" id=\"company23916\" style=\"display:inline-block;\">\n",
       "<section class=\"panel panel-address\" data-bottom=\"0\" data-middle=\"7\" data-top=\"3\">\n",
       "<div class=\"badge-column\">\n",
       "<div class=\"logo-wrapper\">\n",
       "<svg height=\"148px\" width=\"639px\" xmlns=\"http://www.w3.org/2000/svg\" xmlns:xlink=\"http://www.w3.org/1999/xlink\">\n",
       "<defs>\n",
       "<lineargradient id=\"PSgrad_0\">\n",
       "<stop offset=\"0%\" stop-color=\"#e1e1e1\" stop-opacity=\"0\"></stop>\n",
       "<stop offset=\"37%\" stop-color=\"#e1e1e1\" stop-opacity=\"1\"></stop>\n",
       "<stop offset=\"63%\" stop-color=\"#e1e1e1\" stop-opacity=\"1\"></stop>\n",
       "<stop offset=\"100%\" stop-color=\"#e1e1e1\" stop-opacity=\"0\"></stop>\n",
       "</lineargradient>\n",
       "</defs>\n",
       "<path d=\"M638.998,36.120 L355.372,30.996 L355.372,31.016 L283.627,31.016 L283.627,30.996 L0.001,36.120 L0.001,36.137 L284.392,41.111 L0.001,46.085 L0.001,46.102 L284.392,51.076 L0.001,56.050 L0.001,56.067 L284.392,61.041 L0.001,66.015 L0.001,66.032 L284.391,71.006 L0.001,75.980 L0.001,75.997 L284.390,80.971 L0.001,85.945 L0.001,85.962 L284.392,90.936 L0.001,95.910 L0.001,95.926 L284.392,100.900 L0.001,105.875 L0.001,105.891 L284.392,110.865 L0.001,115.839 L0.001,115.856 L284.857,120.979 L284.857,120.990 L355.423,120.990 L355.423,120.980 L638.998,115.856 L638.998,115.839 L354.607,110.865 L638.998,105.891 L638.998,105.875 L354.607,100.900 L638.998,95.926 L638.998,95.910 L354.607,90.936 L638.998,85.962 L638.998,85.945 L354.610,80.971 L638.998,75.997 L638.998,75.980 L354.609,71.006 L638.998,66.032 L638.998,66.015 L354.607,61.041 L638.998,56.067 L638.998,56.050 L354.607,51.076 L638.998,46.102 L638.998,46.085 L354.607,41.111 L638.998,36.137 L638.998,36.120 Z\" fill=\"rgb(255, 255, 255)\"></path>\n",
       "<path d=\"M638.998,36.120 L355.372,30.996 L355.372,31.016 L283.627,31.016 L283.627,30.996 L0.001,36.120 L0.001,36.137 L284.392,41.111 L0.001,46.085 L0.001,46.102 L284.392,51.076 L0.001,56.050 L0.001,56.067 L284.392,61.041 L0.001,66.015 L0.001,66.032 L284.391,71.006 L0.001,75.980 L0.001,75.997 L284.390,80.971 L0.001,85.945 L0.001,85.962 L284.392,90.936 L0.001,95.910 L0.001,95.926 L284.392,100.900 L0.001,105.875 L0.001,105.891 L284.392,110.865 L0.001,115.839 L0.001,115.856 L284.857,120.979 L284.857,120.990 L355.423,120.990 L355.423,120.980 L638.998,115.856 L638.998,115.839 L354.607,110.865 L638.998,105.891 L638.998,105.875 L354.607,100.900 L638.998,95.926 L638.998,95.910 L354.607,90.936 L638.998,85.962 L638.998,85.945 L354.610,80.971 L638.998,75.997 L638.998,75.980 L354.609,71.006 L638.998,66.032 L638.998,66.015 L354.607,61.041 L638.998,56.067 L638.998,56.050 L354.607,51.076 L638.998,46.102 L638.998,46.085 L354.607,41.111 L638.998,36.137 L638.998,36.120 Z\" fill=\"url(#PSgrad_0)\"></path>\n",
       "<path d=\"M318.000,0.088 C358.821,0.088 391.912,33.179 391.912,74.000 C391.912,114.821 358.821,147.913 318.000,147.913 C277.179,147.913 244.087,114.821 244.087,74.000 C244.087,33.179 277.179,0.088 318.000,0.088 Z\" fill=\"rgb(255, 255, 255)\"></path>\n",
       "</svg>\n",
       "<a class=\"logo\" href=\"\n",
       "              \n",
       "                https://www.inc.com/inc5000\n",
       "              \" target=\"_blank\">\n",
       "<img class=\"logo\" src=\"https://www.incimages.com/img_gen/inc5000_2017/inc5000_num_3549.png\">\n",
       "</img></a>\n",
       "</div>\n",
       "</div>\n",
       "<div class=\"top\">\n",
       "<dl class=\"rank\">\n",
       "<dt>2017 Rank</dt>\n",
       "<dd>#3549</dd>\n",
       "</dl>\n",
       "<dl class=\"leadership\">\n",
       "<dt>CEO</dt>\n",
       "<dd>Donna Robinson</dd>\n",
       "</dl>\n",
       "<dl class=\"ifc_revenue_year\">\n",
       "<dt>2016  Revenue  Range </dt>\n",
       "<dd>$5M-$10M</dd>\n",
       "</dl>\n",
       "</div>\n",
       "<div class=\"middle columns\">\n",
       "<dl class=\"revenue\">\n",
       "<dt>2016 Revenue</dt>\n",
       "<dd>$9.2 M</dd>\n",
       "</dl>\n",
       "<dl class=\"growth\">\n",
       "<dt>3-Year Growth</dt>\n",
       "<dd>87%</dd>\n",
       "</dl>\n",
       "<dl class=\"ifi_industry\">\n",
       "<dt>Industry</dt>\n",
       "<dd>Advertising &amp; Marketing</dd>\n",
       "</dl>\n",
       "<dl class=\"location\">\n",
       "<dt>Location</dt>\n",
       "<dd>Minneapolis, MN</dd>\n",
       "</dl>\n",
       "<dl class=\"ifc_founded\">\n",
       "<dt>Founded</dt>\n",
       "<dd>2005</dd>\n",
       "</dl>\n",
       "<dl class=\"ifc_company_size\">\n",
       "<dt>Workforce size</dt>\n",
       "<dd>Medium  (50 - 99)</dd>\n",
       "</dl>\n",
       "<dl class=\"share\">\n",
       "<dt>Share</dt>\n",
       "<dd><style>div.landerBody>div:not(.promo-panel)>*{padding-left:0;}</style><div class=\"ShareContainer landerBody\" id=\"share23916\" style=\"padding-bottom: 0;\"><div class=\"ShareBox PageShareBox\" id=\"ShareBox-61\"><div class=\"DisabledMask\"></div><div class=\"ShareBoxButtons\" style=\"padding-left:0\"><div class=\"ShareButton FacebookShareButton\" id=\"ShareButton-62\"></div><div class=\"ShareButton TwitterShareButton\" id=\"ShareButton-63\"><a class=\"ShareButtonAnchor\" href=\"https://twitter.com/intent/tweet?url=https%3A%2F%2Fwww.inc.com%2Fprofile%2Fnina-hale&amp;via=Inc&amp;text=The%20votes%20are%20in%2C%20and%20Nina%20Hale%20is%20one%20of%20America's%20Best%20Workplaces%20of%202017!&amp;related=Inc\"></a></div><div class=\"ShareButton LinkedInShareButton\" id=\"ShareButton-64\" onclick=\"window.open('http://www.linkedin.com/shareArticle?mini=true&amp;url=https%3A%2F%2Fwww.inc.com%2Fprofile%2Fnina-hale&amp;title=The%20votes%20are%20in%2C%20and%20Nina%20Hale%20is%20one%20of%20America\\'s%20Best%20Workplaces%20of%202017!&amp;summary=&amp;source=Inc.com','LinkedIn','width=750,height=465,location=no,menubar=no,status=no,toolbar=no');\"></div><div class=\"ShareButton RedditShareButton\" id=\"ShareButton-65\" onclick=\"window.open('//www.reddit.com/submit?url=&amp;title=','Reddit','width=800,height=400,location=no,menubar=no,status=no,toolbar=no');\"></div><div class=\"ShareButton StumbleuponShareButton\" id=\"ShareButton-66\" onclick=\"window.open('https://www.stumbleupon.com/submit?url=https%3A%2F%2Fwww.inc.com%2Fprofile%2Fnina-hale','Stumbleupon','width=800,height=400,location=no,menubar=no,status=no,toolbar=no');\"></div><i class=\"fa fa-envelope ShareButton MailShareButton\" id=\"ShareButton-67\"></i></div><div class=\"ShareBoxLabel\"></div></div></div></dd>\n",
       "</dl>\n",
       "</div>\n",
       "</section>\n",
       "<section class=\"panel panel-video\">\n",
       "<div class=\"description\" data-imageabove=\"false\">\n",
       "<h2>WHY WE THINK WE'RE A GREAT PLACE TO WORK</h2>\n",
       "<p>Nina Hale is one of the largest digital marketing agencies in the Midwest. Because we're employee-owned, our people are serious about getting it right every time. We put our people first, and place great importance on supporting employees, both professionally and personally. Our shared PTO policy allows employees to gift each other PTO days in situations where coworkers simply need more time for personal matters. One of the most significant things that Nina Hale offers is the employee stock ownership plan (ESOP), which makes the agency 100% employee-owned. The agency offers a three-year cliff-vesting schedule to ensure that employees don't have to wait years to benefit from this plan. Voices are heard, whether to celebrate a promotion or to register a complaint about fridge space. We celebrate each other's achievements both professionally (during our weekly recognition awards during the all-staff meeting) and personally (during our office-wide events like baby showers and bridal celebrations). To say our company culture is unique is an understatement, and we foster this spirit every chance we get. At least once a month we sponsor an all-company field trip or event to give employees the chance to unwind and get to know each other outside of work.</p>\n",
       "</div>\n",
       "</section>\n",
       "<section class=\"panel panel-honors\">\n",
       "<header><h2 class=\"inc-5000-honors\">Inc. 5000 Honors</h2></header>\n",
       "<ul class=\"honors\">\n",
       "<li class=\"honoree_badge\">\n",
       "<a class=\"rank\">\n",
       "<div class=\"text\">\n",
       "<span class=\"numberSymbol\">#</span>undefined\n",
       "                </div>\n",
       "</a>\n",
       "<div class=\"descriptionWrapper\">\n",
       "<div class=\"description\">\n",
       "<a>5-Time Inc. 5000 Honoree</a>\n",
       "</div>\n",
       "</div>\n",
       "</li>\n",
       "</ul>\n",
       "</section>\n",
       "<section class=\"panel panel-prevrankings\" data-yearcount=\"4\">\n",
       "<header><h2 class=\"version-1\">Previous Inc. 5000 Rankings </h2></header>\n",
       "<dl>\n",
       "<dt class=\"year\">2016</dt>\n",
       "<dd class=\"rank\">#2974</dd>\n",
       "</dl>\n",
       "<dl>\n",
       "<dt class=\"year\">2015</dt>\n",
       "<dd class=\"rank\">#3426</dd>\n",
       "</dl>\n",
       "<dl>\n",
       "<dt class=\"year\">2014</dt>\n",
       "<dd class=\"rank\">#2405</dd>\n",
       "</dl>\n",
       "<dl>\n",
       "<dt class=\"year\">2013</dt>\n",
       "<dd class=\"rank\">#2244</dd>\n",
       "</dl>\n",
       "</section>\n",
       "<!-- in template twice, actually this version is much different -->\n",
       "<section class=\"panel panel-otherrecognitions\">\n",
       "<header><h2 class=\"version-1\">Other Inc. Honors</h2></header>\n",
       "<ol>\n",
       "<li class=\"best-workplaces\">\n",
       "<a href=\"https://www.inc.com/best-workplaces\" target=\"_blank\">\n",
       "<img src=\"https://www.incimages.com/uploaded_files/inc5000list/best-workplaces-badge-2017_51.png\">\n",
       "<span class=\"list-year\">2017</span>\n",
       "<!-- Inc. Verified Profile --> <!--Best Workplaces 2017-->\n",
       "</img></a>\n",
       "</li>\n",
       "</ol>\n",
       "</section>\n",
       "<section class=\"panel panel-contact\" style=\"border-bottom:0px solid #e1e1e1\">\n",
       "<header>\n",
       "<h2 class=\"more-company-information\">MORE COMPANY INFORMATION <i aria-hidden=\"true\" class=\"fa fa-chevron-down\"></i></h2>\n",
       "</header>\n",
       "<dl style=\"display:none\">\n",
       "<dt class=\"facebook\">Facebook</dt>\n",
       "<dd class=\"facebook\"><a href=\"https://www.facebook.com/NinaHaleInc\" target=\"_blank\">NinaHaleInc</a></dd>\n",
       "<dt class=\"instagram\">Instagram</dt>\n",
       "<dd class=\"instagram\"><a href=\"https://www.instagram.com/ninahaleinc/\" target=\"_blank\">ninahaleinc</a></dd>\n",
       "<dt class=\"linkedin\">LinkedIn</dt>\n",
       "<dd class=\"linkedin\">\n",
       "<a href=\"http://www.linkedin.com/company/nina-hale-inc\" target=\"_blank\">\n",
       "              company/nina-hale-inc\n",
       "            </a>\n",
       "</dd>\n",
       "<dt class=\"website\">Website</dt>\n",
       "<dd class=\"website\">\n",
       "<a href=\"http://ninahale.com\" target=\"_blank\">\n",
       "              ninahale.com\n",
       "            </a>\n",
       "</dd>\n",
       "</dl>\n",
       "</section>\n",
       "</section>\n",
       "<section class=\"sidebar \" style=\"\">\n",
       "<div class=\"sidebar_inner\">\n",
       "<div class=\"sidebar_upper\"><div class=\"WideAdTile PatternTile j40-imu FlexibleBillboardConfiguration\" id=\"Tile-419\">\n",
       "<div data-google-query-id=\"CIHit9285tYCFUsvlgodhU0FDg\" id=\"fixedrectangle-55\"><div style=\"width:86px;height:250px;position:absolute;max-width:100%;max-height:100%;pointer-events:none;image-rendering:pixelated;z-index:2147483647;background-image:url('data:image/png;base64,iVBORw0KGgoAAAANSUhEUgAAACsAAAAWBAMAAACrl3iAAAAABlBMVEUAAAD+AciWmZzWAAAAAnRSTlMAApidrBQAAAB9SURBVBjTbVEJDsAwCNIf8P/XbpWjLlm7JhgR0VX9n+YhWhEmCwFHTVYNuNGbAVBzcSPnc8O2JnnSVu9w5SQHh31927LhItGA/RxIy0Pz11sSLj6oW3vRgmrqlxFNzC7xrR4utHBGLHw3KEvJiUjD0g47pj9/Z2tvJ5yA7wFy/AXCtNZRSQAAAABJRU5ErkJggg==');pointer-events:none !important\"></div><div id=\"google_ads_iframe_/4160/mv.inc/lead/workplaces/workplaces/fixedrectangle_0__container__\" style=\"border: 0pt none;\"><iframe frameborder=\"0\" height=\"250\" id=\"google_ads_iframe_/4160/mv.inc/lead/workplaces/workplaces/fixedrectangle_0\" marginheight=\"0\" marginwidth=\"0\" name=\"google_ads_iframe_/4160/mv.inc/lead/workplaces/workplaces/fixedrectangle_0\" scrolling=\"no\" srcdoc=\"\" style=\"border: 0px; vertical-align: bottom;\" title=\"3rd party ad content\" width=\"300\"></iframe></div></div>\n",
       "</div></div>\n",
       "<div class=\"sidebar_middle\" style=\"position: absolute; top: auto; left: 0px; bottom: 0px;\">\n",
       "<div class=\"sidebar-video-placeholder header-bar\"></div>\n",
       "</div>\n",
       "</div>\n",
       "</section> <!-- End: Sidebar -->\n",
       "</div></div><div class=\"sidebarFixedRectangle bottomLeader Ad undefined\" id=\"Tile-419\">\n",
       "<div class=\"wideAdSubContainer\">\n",
       "<div class=\"wideAdSubSubContainer\">\n",
       "<div data-google-query-id=\"CICX29y85tYCFYlolgodFQkPIQ\" id=\"fixedleaderboard-54\"><div id=\"google_ads_iframe_/4160/mv.inc/lead/workplaces/workplaces/fixedleaderboard_0__container__\" style=\"border: 0pt none;\"><iframe frameborder=\"0\" height=\"90\" id=\"google_ads_iframe_/4160/mv.inc/lead/workplaces/workplaces/fixedleaderboard_0\" marginheight=\"0\" marginwidth=\"0\" name=\"google_ads_iframe_/4160/mv.inc/lead/workplaces/workplaces/fixedleaderboard_0\" scrolling=\"no\" srcdoc=\"\" style=\"border: 0px; vertical-align: bottom;\" title=\"3rd party ad content\" width=\"728\"></iframe></div></div>\n",
       "</div>\n",
       "</div>\n",
       "</div><div class=\"mobileIMU sidebarFixedRectangle bottomMobile Ad undefined\" id=\"Tile-420\">\n",
       "<div id=\"mobilerectangle-56\">\n",
       "<script type=\"text/javascript\">\n",
       "\t\t\tinc.adManager.displayAdSlot('scroll0','j40-imu-mobile','adInPattern60');\n",
       "\t\t</script>\n",
       "<div id=\"google_ads_iframe_/4160/mv.inc/lead/workplaces/workplaces/mobilerectangle_0__container__\" style=\"border: 0pt none;\"><iframe frameborder=\"0\" height=\"250\" id=\"google_ads_iframe_/4160/mv.inc/lead/workplaces/workplaces/mobilerectangle_0\" marginheight=\"0\" marginwidth=\"0\" name=\"google_ads_iframe_/4160/mv.inc/lead/workplaces/workplaces/mobilerectangle_0\" scrolling=\"no\" srcdoc=\"\" style=\"border: 0px; vertical-align: bottom;\" title=\"3rd party ad content\" width=\"320\"></iframe></div></div>\n",
       "</div></article>"
      ]
     },
     "execution_count": 20,
     "metadata": {},
     "output_type": "execute_result"
    }
   ],
   "source": [
    "articles[12]"
   ]
  },
  {
   "cell_type": "code",
   "execution_count": 45,
   "metadata": {
    "collapsed": false
   },
   "outputs": [
    {
     "data": {
      "text/plain": [
       "'https://www.inc.com/profile/Atlantic-Tape-&-Packaging'"
      ]
     },
     "execution_count": 45,
     "metadata": {},
     "output_type": "execute_result"
    }
   ],
   "source": [
    "curr_url"
   ]
  },
  {
   "cell_type": "code",
   "execution_count": null,
   "metadata": {
    "collapsed": true
   },
   "outputs": [],
   "source": []
  },
  {
   "cell_type": "code",
   "execution_count": null,
   "metadata": {
    "collapsed": true
   },
   "outputs": [],
   "source": []
  },
  {
   "cell_type": "code",
   "execution_count": null,
   "metadata": {
    "collapsed": true
   },
   "outputs": [],
   "source": []
  },
  {
   "cell_type": "code",
   "execution_count": 9,
   "metadata": {
    "collapsed": false
   },
   "outputs": [
    {
     "data": {
      "text/plain": [
       "81"
      ]
     },
     "execution_count": 9,
     "metadata": {},
     "output_type": "execute_result"
    }
   ],
   "source": [
    "len(soup.select(\"article\"))"
   ]
  },
  {
   "cell_type": "code",
   "execution_count": 38,
   "metadata": {
    "collapsed": false
   },
   "outputs": [
    {
     "data": {
      "text/plain": [
       "'Provo, UT'"
      ]
     },
     "execution_count": 38,
     "metadata": {},
     "output_type": "execute_result"
    }
   ],
   "source": [
    "soup.select(\"article dl[class='address'] dd br\")[2].text"
   ]
  },
  {
   "cell_type": "code",
   "execution_count": 43,
   "metadata": {
    "collapsed": false
   },
   "outputs": [
    {
     "data": {
      "text/plain": [
       "'laurenjames.com'"
      ]
     },
     "execution_count": 43,
     "metadata": {},
     "output_type": "execute_result"
    }
   ],
   "source": [
    "soup.select(\"article dd[class='website']\")[52].text.strip()"
   ]
  },
  {
   "cell_type": "code",
   "execution_count": 49,
   "metadata": {
    "collapsed": false
   },
   "outputs": [
    {
     "data": {
      "text/plain": [
       "'James Moore'"
      ]
     },
     "execution_count": 49,
     "metadata": {},
     "output_type": "execute_result"
    }
   ],
   "source": [
    "#leadership\n",
    "soup.select(\"article dl[class='leadership'] dd\")[5].text"
   ]
  },
  {
   "cell_type": "code",
   "execution_count": 51,
   "metadata": {
    "collapsed": false
   },
   "outputs": [
    {
     "data": {
      "text/plain": [
       "'$19.7 M'"
      ]
     },
     "execution_count": 51,
     "metadata": {},
     "output_type": "execute_result"
    }
   ],
   "source": [
    "#revenue\n",
    "soup.select(\"article dl[class='revenue'] dd\")[5].text"
   ]
  },
  {
   "cell_type": "code",
   "execution_count": 53,
   "metadata": {
    "collapsed": false
   },
   "outputs": [
    {
     "data": {
      "text/plain": [
       "'6'"
      ]
     },
     "execution_count": 53,
     "metadata": {},
     "output_type": "execute_result"
    }
   ],
   "source": [
    "#rank\n",
    "soup.select(\"article dl[class='rank'] dd\")[5].text[1:]"
   ]
  },
  {
   "cell_type": "code",
   "execution_count": 56,
   "metadata": {
    "collapsed": false
   },
   "outputs": [
    {
     "data": {
      "text/plain": [
       "'19,352'"
      ]
     },
     "execution_count": 56,
     "metadata": {},
     "output_type": "execute_result"
    }
   ],
   "source": [
    "#growth in %\n",
    "soup3.select(\"article dl[class='growth'] dd\")[5].text[:-1]"
   ]
  },
  {
   "cell_type": "code",
   "execution_count": 57,
   "metadata": {
    "collapsed": false
   },
   "outputs": [
    {
     "data": {
      "text/plain": [
       "'Financial Services'"
      ]
     },
     "execution_count": 57,
     "metadata": {},
     "output_type": "execute_result"
    }
   ],
   "source": [
    "#industry\n",
    "soup.select(\"article dl[class='ifi_industry'] dd\")[5].text"
   ]
  },
  {
   "cell_type": "code",
   "execution_count": 62,
   "metadata": {
    "collapsed": false
   },
   "outputs": [
    {
     "data": {
      "text/plain": [
       "'2011'"
      ]
     },
     "execution_count": 62,
     "metadata": {},
     "output_type": "execute_result"
    }
   ],
   "source": [
    "#founded\n",
    "soup.select(\"article dl[class='ifc_founded'] dd\")[5].text"
   ]
  },
  {
   "cell_type": "code",
   "execution_count": 64,
   "metadata": {
    "collapsed": false
   },
   "outputs": [
    {
     "data": {
      "text/plain": [
       "59"
      ]
     },
     "execution_count": 64,
     "metadata": {},
     "output_type": "execute_result"
    }
   ],
   "source": [
    "#employees\n",
    "len(soup.select(\"article dl[class='employees'] dd\"))"
   ]
  },
  {
   "cell_type": "code",
   "execution_count": null,
   "metadata": {
    "collapsed": false
   },
   "outputs": [],
   "source": []
  },
  {
   "cell_type": "code",
   "execution_count": 76,
   "metadata": {
    "collapsed": false
   },
   "outputs": [
    {
     "data": {
      "text/plain": [
       "<dd>#61</dd>"
      ]
     },
     "execution_count": 76,
     "metadata": {},
     "output_type": "execute_result"
    }
   ],
   "source": [
    "soup.select(\"article dl[class='rank'] dd\")[60]"
   ]
  },
  {
   "cell_type": "code",
   "execution_count": 79,
   "metadata": {
    "collapsed": false
   },
   "outputs": [
    {
     "data": {
      "text/plain": [
       "\"Small Business Owners of America started in 2011 as a consulting firm, offering practical assistance to entrepreneurs for everything from writing business plans to incorporating startups. In 2013, founder James Moore added a financing wing to his business--offering alternative lending services along with investing directly in some client companies. That's when things really started to take off. In its first year of offering funding, the company bankrolled about $400,000 in deals. Last year, it funded over $15 million to more than 100 small businesses.\""
      ]
     },
     "execution_count": 79,
     "metadata": {},
     "output_type": "execute_result"
    }
   ],
   "source": [
    "#description\n",
    "soup.select(\"article div[class='description'] p\")[5].text"
   ]
  },
  {
   "cell_type": "code",
   "execution_count": 80,
   "metadata": {
    "collapsed": true
   },
   "outputs": [],
   "source": [
    "articles = soup.select(\"article\")"
   ]
  },
  {
   "cell_type": "code",
   "execution_count": 86,
   "metadata": {
    "collapsed": false
   },
   "outputs": [
    {
     "name": "stdout",
     "output_type": "stream",
     "text": [
      "Skillz\n",
      "EnviroSolar Power\n",
      "Gametime\n",
      "Club Pilates Franchise\n",
      "Halo Top Creamery\n",
      "Small Business Owners of America\n",
      "AutomotiveMastermind\n",
      "Liftoff\n",
      "Greenspire\n",
      "FormulaFolio Investments\n",
      "Single Serve Beverage Distribution\n",
      "ShipHawk\n",
      "Adva-Net\n",
      "DashBid\n",
      "Forward Financing\n",
      "Solera Specialty Pharmacy\n",
      "Strike Social\n",
      "Reverb.com\n",
      "Excel Impact\n",
      "DGC International\n",
      "Shofur\n",
      "GrowthPlay\n",
      "CalCom Solar\n",
      "ION Solar\n",
      "The Penny Hoarder\n",
      "Matterport\n",
      "Legend Solar\n",
      "SaviLinx\n",
      "TechAnax\n",
      "Spar Information Systems\n",
      "Big Block Realty\n",
      "RelationEdge\n",
      "Globalization Partners\n",
      "Carvana\n",
      "Axe Wellness\n",
      "Interactive Government Holdings\n",
      "Bay State Search\n",
      "Enhanced Veterans Solutions\n",
      "Dealer Inspire\n",
      "Na Ali'i Consulting and Sales\n",
      "Dyla\n",
      "BlackRock Construction\n",
      "MM.LaFleur\n",
      "Lever1\n",
      "TrackR\n",
      "ByteCubed\n",
      "Avant\n",
      "iBenzer\n",
      "Boost Marketing Group\n",
      "FedBiz IT Solutions\n",
      "BASX Solutions\n",
      "Discount Power Texas\n",
      "Lauren James Enterprises\n",
      "Boomsourcing\n",
      "ClearView\n",
      "Samba TV\n",
      "Thought Logic Consulting\n",
      "Chef's Cut Real Jerky\n",
      "InfoScout\n",
      "Infusion Express\n",
      "Givington's\n"
     ]
    }
   ],
   "source": [
    "for article in articles[20:]:\n",
    "    print(article.select(\"header h1\")[0].text)"
   ]
  },
  {
   "cell_type": "code",
   "execution_count": null,
   "metadata": {
    "collapsed": true
   },
   "outputs": [],
   "source": []
  },
  {
   "cell_type": "code",
   "execution_count": null,
   "metadata": {
    "collapsed": true
   },
   "outputs": [],
   "source": []
  },
  {
   "cell_type": "code",
   "execution_count": null,
   "metadata": {
    "collapsed": true
   },
   "outputs": [],
   "source": []
  },
  {
   "cell_type": "code",
   "execution_count": null,
   "metadata": {
    "collapsed": true
   },
   "outputs": [],
   "source": []
  },
  {
   "cell_type": "code",
   "execution_count": null,
   "metadata": {
    "collapsed": true
   },
   "outputs": [],
   "source": []
  },
  {
   "cell_type": "code",
   "execution_count": null,
   "metadata": {
    "collapsed": true
   },
   "outputs": [],
   "source": []
  },
  {
   "cell_type": "code",
   "execution_count": 68,
   "metadata": {
    "collapsed": true
   },
   "outputs": [],
   "source": [
    "#if browser.find_element_by_class_name(\"NextButton\").is_enabled():\n",
    "    #    browser.find_element_by_class_name(\"NextButton\").click()"
   ]
  },
  {
   "cell_type": "code",
   "execution_count": 87,
   "metadata": {
    "collapsed": true
   },
   "outputs": [],
   "source": [
    "import csv"
   ]
  },
  {
   "cell_type": "code",
   "execution_count": 88,
   "metadata": {
    "collapsed": true
   },
   "outputs": [],
   "source": [
    "cols = [\"col1\", \"col2\", \"col3\"]"
   ]
  },
  {
   "cell_type": "code",
   "execution_count": 91,
   "metadata": {
    "collapsed": false
   },
   "outputs": [],
   "source": [
    "with open('selen.csv', 'w') as f:\n",
    "    f.write(\"|\".join(cols) + \"\\n\")"
   ]
  },
  {
   "cell_type": "code",
   "execution_count": 92,
   "metadata": {
    "collapsed": true
   },
   "outputs": [],
   "source": [
    "row1 = [\"apple\", \"ball\", \"cat\"]\n",
    "row2 = [\"ain't nothing\", \"usa, england\", \"tour\"]"
   ]
  },
  {
   "cell_type": "code",
   "execution_count": 93,
   "metadata": {
    "collapsed": true
   },
   "outputs": [],
   "source": [
    "with open('selen.csv', 'a') as f:\n",
    "    f.write(\"|\".join(row1) + \"\\n\")\n",
    "    f.write(\"|\".join(row2) + \"\\n\")"
   ]
  },
  {
   "cell_type": "code",
   "execution_count": 95,
   "metadata": {
    "collapsed": false
   },
   "outputs": [
    {
     "name": "stdout",
     "output_type": "stream",
     "text": [
      "col1\n",
      "col2\n",
      "col3\n",
      "apple\n",
      "ball\n",
      "cat\n",
      "ain't nothing\n",
      "usa, england\n",
      "tour\n"
     ]
    }
   ],
   "source": [
    "with open('selen.csv', 'r') as f:\n",
    "    reader = csv.reader(f, delimiter=\"|\")\n",
    "    for row in reader:\n",
    "        for r in row:\n",
    "            print(r)"
   ]
  },
  {
   "cell_type": "code",
   "execution_count": null,
   "metadata": {
    "collapsed": true
   },
   "outputs": [],
   "source": []
  },
  {
   "cell_type": "code",
   "execution_count": null,
   "metadata": {
    "collapsed": true
   },
   "outputs": [],
   "source": []
  },
  {
   "cell_type": "code",
   "execution_count": null,
   "metadata": {
    "collapsed": true
   },
   "outputs": [],
   "source": []
  },
  {
   "cell_type": "code",
   "execution_count": null,
   "metadata": {
    "collapsed": true
   },
   "outputs": [],
   "source": [
    "inc_url = \"https://www.inc.com/profile/skillz\"\n",
    "browser = webdriver.Safari()  # object for Safari browser\n",
    "browser.get(inc_url)       # navigate to the page\n",
    "wait = WebDriverWait(browser, 100)\n",
    "\n",
    "try:\n",
    "    wait.until(EC.element_to_be_clickable((By.CLASS_NAME,'NextButton')))    \n",
    "    \n",
    "    time.sleep(30)\n",
    "    for i in range(1,60):\n",
    "        if i%40 == 0:\n",
    "            time.sleep(30)\n",
    "        wait.until(EC.element_to_be_clickable((By.CLASS_NAME,'NextButton')))    \n",
    "        browser.find_element_by_class_name(\"NextButton\").click()\n",
    "        time.sleep(3)\n",
    "    \n",
    "    inhtml = browser.execute_script(\"return document.body.innerHTML\") # extract inner HTML of the page as str\n",
    "    soup = BeautifulSoup(inhtml, 'html.parser') # parse with BeautifulSoup\n",
    "    details = soup.select(\"div[class='NextButton'] div[class='PreviewText']\")\n",
    "    print(details)\n",
    "    \n",
    "finally:\n",
    "    browser.quit()"
   ]
  }
 ],
 "metadata": {
  "kernelspec": {
   "display_name": "Python 3",
   "language": "python",
   "name": "python3"
  },
  "language_info": {
   "codemirror_mode": {
    "name": "ipython",
    "version": 3
   },
   "file_extension": ".py",
   "mimetype": "text/x-python",
   "name": "python",
   "nbconvert_exporter": "python",
   "pygments_lexer": "ipython3",
   "version": "3.6.0"
  }
 },
 "nbformat": 4,
 "nbformat_minor": 2
}
