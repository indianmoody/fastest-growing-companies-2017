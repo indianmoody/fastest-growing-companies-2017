{
 "cells": [
  {
   "cell_type": "code",
   "execution_count": 1,
   "metadata": {
    "collapsed": true
   },
   "outputs": [],
   "source": [
    "from bs4 import BeautifulSoup #for HTML parsing\n",
    "from selenium import webdriver #to scrape javascript code of page, 'requests' fails to scrap required data\n",
    "from selenium.common.exceptions import TimeoutException\n",
    "from selenium.webdriver.support.ui import WebDriverWait # available since 2.4.0\n",
    "from selenium.webdriver.common.by import By\n",
    "from selenium.webdriver.support import expected_conditions as EC\n",
    "import time"
   ]
  },
  {
   "cell_type": "code",
   "execution_count": 2,
   "metadata": {
    "collapsed": false
   },
   "outputs": [
    {
     "name": "stdout",
     "output_type": "stream",
     "text": [
      "it clicked!!! 1\n",
      "it clicked!!! 2\n",
      "it clicked!!! 3\n",
      "[<div class=\"PreviewText\">Gametime</div>]\n"
     ]
    }
   ],
   "source": [
    "inc_url = \"https://www.inc.com/profile/skillz\"\n",
    "browser = webdriver.Safari()  # object for Safari browser\n",
    "browser.get(inc_url)       # navigate to the page\n",
    "wait = WebDriverWait(browser, 100)\n",
    "\n",
    "try:\n",
    "    wait.until(EC.element_to_be_clickable((By.CLASS_NAME,'NextButton')))    \n",
    "    if browser.find_element_by_class_name(\"NextButton\").is_enabled():\n",
    "        browser.find_element_by_class_name(\"NextButton\").click()\n",
    "    print(\"it clicked!!! 1\")\n",
    "    time.sleep(30)\n",
    "    wait.until(EC.element_to_be_clickable((By.CLASS_NAME,'NextButton')))    \n",
    "    browser.find_element_by_class_name(\"NextButton\").click()\n",
    "    print(\"it clicked!!! 2\")\n",
    "    time.sleep(3)\n",
    "    wait.until(EC.element_to_be_clickable((By.CLASS_NAME,'NextButton')))    \n",
    "    browser.find_element_by_class_name(\"NextButton\").click()\n",
    "    print(\"it clicked!!! 3\")\n",
    "    \n",
    "    inhtml = browser.execute_script(\"return document.body.innerHTML\") # extract inner HTML of the page as str\n",
    "    soup3 = BeautifulSoup(inhtml, 'html.parser') # parse with BeautifulSoup\n",
    "    details = soup3.select(\"div[class='NextButton'] div[class='PreviewText']\")\n",
    "    print(details)\n",
    "    \n",
    "finally:\n",
    "    browser.quit()"
   ]
  },
  {
   "cell_type": "code",
   "execution_count": 3,
   "metadata": {
    "collapsed": false
   },
   "outputs": [
    {
     "data": {
      "text/plain": [
       "[<dd>#1</dd>,\n",
       " <dd>Andrew Paradise</dd>,\n",
       " <dd>$54.2 M</dd>,\n",
       " <dd>50,059%</dd>,\n",
       " <dd>Software</dd>,\n",
       " <dd>San Francisco, CA</dd>,\n",
       " <dd>2012</dd>,\n",
       " <dd>58</dd>,\n",
       " <dd><style>div.landerBody>div:not(.promo-panel)>*{padding-left:0;}</style><div class=\"ShareContainer landerBody\" id=\"share70866\" style=\"padding-bottom: 0;\"><div class=\"ShareBox PageShareBox\" id=\"ShareBox-66\"><div class=\"DisabledMask\"></div><div class=\"ShareBoxButtons\" style=\"padding-left:0\"><div class=\"ShareButton FacebookShareButton\" id=\"ShareButton-67\"></div><div class=\"ShareButton TwitterShareButton\" id=\"ShareButton-68\"><a class=\"ShareButtonAnchor\" href=\"https://twitter.com/intent/tweet?url=https%3A%2F%2Fwww.inc.com%2Fprofile%2Fskillz&amp;via=Inc&amp;text=Skillz&amp;related=Inc5000\"></a></div><div class=\"ShareButton LinkedInShareButton\" id=\"ShareButton-69\" onclick=\"window.open('http://www.linkedin.com/shareArticle?mini=true&amp;url=https%3A%2F%2Fwww.inc.com%2Fprofile%2Fskillz&amp;title=Skillz&amp;summary=The%20Inc.%205000%20celebrates%20America\\'s%20fastest-growing%20private%20companies.&amp;source=Inc.com','LinkedIn','width=750,height=465,location=no,menubar=no,status=no,toolbar=no');\"></div><div class=\"ShareButton RedditShareButton\" id=\"ShareButton-70\" onclick=\"window.open('//www.reddit.com/submit?url=&amp;title=','Reddit','width=800,height=400,location=no,menubar=no,status=no,toolbar=no');\"></div><div class=\"ShareButton StumbleuponShareButton\" id=\"ShareButton-71\" onclick=\"window.open('https://www.stumbleupon.com/submit?url=https%3A%2F%2Fwww.inc.com%2Fprofile%2Fskillz','Stumbleupon','width=800,height=400,location=no,menubar=no,status=no,toolbar=no');\"></div><i class=\"fa fa-envelope ShareButton MailShareButton\" id=\"ShareButton-72\"></i></div><div class=\"ShareBoxLabel\"></div></div></div></dd>,\n",
       " <dd class=\"website\">\n",
       " <a href=\"http://skillz.com\" target=\"_blank\">\n",
       "               skillz.com\n",
       "             </a>\n",
       " </dd>,\n",
       " <dd>#2</dd>,\n",
       " <dd>Abraham Issa</dd>,\n",
       " <dd>$37.4 M</dd>,\n",
       " <dd>36,065%</dd>,\n",
       " <dd>Energy</dd>,\n",
       " <dd>Fort Worth, TX</dd>,\n",
       " <dd>2012</dd>,\n",
       " <dd>85</dd>,\n",
       " <dd><style>div.landerBody>div:not(.promo-panel)>*{padding-left:0;}</style><div class=\"ShareContainer landerBody\" id=\"share70871\" style=\"padding-bottom: 0;\"><div class=\"ShareBox PageShareBox\" id=\"ShareBox-85\"><div class=\"DisabledMask\"></div><div class=\"ShareBoxButtons\" style=\"padding-left:0\"><div class=\"ShareButton FacebookShareButton\" id=\"ShareButton-86\"></div><div class=\"ShareButton TwitterShareButton\" id=\"ShareButton-87\"><a class=\"ShareButtonAnchor\" href=\"https://twitter.com/intent/tweet?url=https%3A%2F%2Fwww.inc.com%2Fprofile%2Fenvirosolar-power&amp;via=Inc&amp;text=EnviroSolar%20Power&amp;related=Inc5000\"></a></div><div class=\"ShareButton LinkedInShareButton\" id=\"ShareButton-88\" onclick=\"window.open('http://www.linkedin.com/shareArticle?mini=true&amp;url=https%3A%2F%2Fwww.inc.com%2Fprofile%2Fenvirosolar-power&amp;title=EnviroSolar%20Power&amp;summary=The%20Inc.%205000%20celebrates%20America\\'s%20fastest-growing%20private%20companies.&amp;source=Inc.com','LinkedIn','width=750,height=465,location=no,menubar=no,status=no,toolbar=no');\"></div><div class=\"ShareButton RedditShareButton\" id=\"ShareButton-89\" onclick=\"window.open('//www.reddit.com/submit?url=&amp;title=','Reddit','width=800,height=400,location=no,menubar=no,status=no,toolbar=no');\"></div><div class=\"ShareButton StumbleuponShareButton\" id=\"ShareButton-90\" onclick=\"window.open('https://www.stumbleupon.com/submit?url=https%3A%2F%2Fwww.inc.com%2Fprofile%2Fenvirosolar-power','Stumbleupon','width=800,height=400,location=no,menubar=no,status=no,toolbar=no');\"></div><i class=\"fa fa-envelope ShareButton MailShareButton\" id=\"ShareButton-91\"></i></div><div class=\"ShareBoxLabel\"></div></div></div></dd>,\n",
       " <dd class=\"website\">\n",
       " <a href=\"http://envirosolarpower.com\" target=\"_blank\">\n",
       "               envirosolarpower.com\n",
       "             </a>\n",
       " </dd>,\n",
       " <dd>#3</dd>,\n",
       " <dd>Brad Griffith</dd>,\n",
       " <dd>$48.8 M</dd>,\n",
       " <dd>34,021%</dd>,\n",
       " <dd>Consumer Products &amp; Services</dd>,\n",
       " <dd>San Francisco, CA</dd>,\n",
       " <dd>2013</dd>,\n",
       " <dd>75</dd>,\n",
       " <dd><style>div.landerBody>div:not(.promo-panel)>*{padding-left:0;}</style><div class=\"ShareContainer landerBody\" id=\"share70876\" style=\"padding-bottom: 0;\"><div class=\"ShareBox PageShareBox\" id=\"ShareBox-105\"><div class=\"DisabledMask\"></div><div class=\"ShareBoxButtons\" style=\"padding-left:0\"><div class=\"ShareButton FacebookShareButton\" id=\"ShareButton-106\"></div><div class=\"ShareButton TwitterShareButton\" id=\"ShareButton-107\"><a class=\"ShareButtonAnchor\" href=\"https://twitter.com/intent/tweet?url=https%3A%2F%2Fwww.inc.com%2Fprofile%2Fgametime&amp;via=Inc&amp;text=Gametime&amp;related=Inc5000\"></a></div><div class=\"ShareButton LinkedInShareButton\" id=\"ShareButton-108\" onclick=\"window.open('http://www.linkedin.com/shareArticle?mini=true&amp;url=https%3A%2F%2Fwww.inc.com%2Fprofile%2Fgametime&amp;title=Gametime&amp;summary=The%20Inc.%205000%20celebrates%20America\\'s%20fastest-growing%20private%20companies.&amp;source=Inc.com','LinkedIn','width=750,height=465,location=no,menubar=no,status=no,toolbar=no');\"></div><div class=\"ShareButton RedditShareButton\" id=\"ShareButton-109\" onclick=\"window.open('//www.reddit.com/submit?url=&amp;title=','Reddit','width=800,height=400,location=no,menubar=no,status=no,toolbar=no');\"></div><div class=\"ShareButton StumbleuponShareButton\" id=\"ShareButton-110\" onclick=\"window.open('https://www.stumbleupon.com/submit?url=https%3A%2F%2Fwww.inc.com%2Fprofile%2Fgametime','Stumbleupon','width=800,height=400,location=no,menubar=no,status=no,toolbar=no');\"></div><i class=\"fa fa-envelope ShareButton MailShareButton\" id=\"ShareButton-111\"></i></div><div class=\"ShareBoxLabel\"></div></div></div></dd>,\n",
       " <dd class=\"website\">\n",
       " <a href=\"http://gametime.co\" target=\"_blank\">\n",
       "               gametime.co\n",
       "             </a>\n",
       " </dd>]"
      ]
     },
     "execution_count": 3,
     "metadata": {},
     "output_type": "execute_result"
    }
   ],
   "source": [
    "soup3.select(\"article dl dd\")"
   ]
  },
  {
   "cell_type": "code",
   "execution_count": 20,
   "metadata": {
    "collapsed": false
   },
   "outputs": [
    {
     "data": {
      "text/plain": [
       "[]"
      ]
     },
     "execution_count": 20,
     "metadata": {},
     "output_type": "execute_result"
    }
   ],
   "source": []
  },
  {
   "cell_type": "code",
   "execution_count": null,
   "metadata": {
    "collapsed": true
   },
   "outputs": [],
   "source": []
  }
 ],
 "metadata": {
  "kernelspec": {
   "display_name": "Python 3",
   "language": "python",
   "name": "python3"
  },
  "language_info": {
   "codemirror_mode": {
    "name": "ipython",
    "version": 3
   },
   "file_extension": ".py",
   "mimetype": "text/x-python",
   "name": "python",
   "nbconvert_exporter": "python",
   "pygments_lexer": "ipython3",
   "version": "3.6.0"
  }
 },
 "nbformat": 4,
 "nbformat_minor": 2
}
