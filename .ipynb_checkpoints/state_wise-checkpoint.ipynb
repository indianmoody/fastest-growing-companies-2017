{
 "cells": [
  {
   "cell_type": "code",
   "execution_count": 1,
   "metadata": {
    "collapsed": true
   },
   "outputs": [],
   "source": [
    "import numpy as np\n",
    "import pandas as pd\n",
    "import matplotlib.pyplot as plt\n",
    "import seaborn as sns\n",
    "% matplotlib inline"
   ]
  },
  {
   "cell_type": "code",
   "execution_count": 2,
   "metadata": {
    "collapsed": true
   },
   "outputs": [],
   "source": [
    "# Read cleaned data\n",
    "state_df = pd.read_csv('inc_cleaned_data.csv', sep='|')"
   ]
  },
  {
   "cell_type": "code",
   "execution_count": 3,
   "metadata": {
    "collapsed": false
   },
   "outputs": [
    {
     "data": {
      "text/html": [
       "<div>\n",
       "<style>\n",
       "    .dataframe thead tr:only-child th {\n",
       "        text-align: right;\n",
       "    }\n",
       "\n",
       "    .dataframe thead th {\n",
       "        text-align: left;\n",
       "    }\n",
       "\n",
       "    .dataframe tbody tr th {\n",
       "        vertical-align: top;\n",
       "    }\n",
       "</style>\n",
       "<table border=\"1\" class=\"dataframe\">\n",
       "  <thead>\n",
       "    <tr style=\"text-align: right;\">\n",
       "      <th></th>\n",
       "      <th>rank</th>\n",
       "      <th>name</th>\n",
       "      <th>revenue</th>\n",
       "      <th>industry</th>\n",
       "      <th>employees</th>\n",
       "      <th>founded</th>\n",
       "      <th>growth</th>\n",
       "      <th>city</th>\n",
       "      <th>state</th>\n",
       "    </tr>\n",
       "  </thead>\n",
       "  <tbody>\n",
       "    <tr>\n",
       "      <th>0</th>\n",
       "      <td>1</td>\n",
       "      <td>Skillz</td>\n",
       "      <td>54.2</td>\n",
       "      <td>Software</td>\n",
       "      <td>58.0</td>\n",
       "      <td>2012.0</td>\n",
       "      <td>50059</td>\n",
       "      <td>San Francisco</td>\n",
       "      <td>CA</td>\n",
       "    </tr>\n",
       "    <tr>\n",
       "      <th>1</th>\n",
       "      <td>2</td>\n",
       "      <td>EnviroSolar Power</td>\n",
       "      <td>37.4</td>\n",
       "      <td>Energy</td>\n",
       "      <td>85.0</td>\n",
       "      <td>2012.0</td>\n",
       "      <td>36065</td>\n",
       "      <td>Fort Worth</td>\n",
       "      <td>TX</td>\n",
       "    </tr>\n",
       "    <tr>\n",
       "      <th>2</th>\n",
       "      <td>3</td>\n",
       "      <td>Gametime</td>\n",
       "      <td>48.8</td>\n",
       "      <td>Consumer Products &amp; Services</td>\n",
       "      <td>75.0</td>\n",
       "      <td>2013.0</td>\n",
       "      <td>34021</td>\n",
       "      <td>San Francisco</td>\n",
       "      <td>CA</td>\n",
       "    </tr>\n",
       "    <tr>\n",
       "      <th>3</th>\n",
       "      <td>4</td>\n",
       "      <td>Club Pilates Franchise</td>\n",
       "      <td>26.8</td>\n",
       "      <td>Consumer Products &amp; Services</td>\n",
       "      <td>31.0</td>\n",
       "      <td>2007.0</td>\n",
       "      <td>21319</td>\n",
       "      <td>Costa Mesa</td>\n",
       "      <td>CA</td>\n",
       "    </tr>\n",
       "    <tr>\n",
       "      <th>4</th>\n",
       "      <td>5</td>\n",
       "      <td>Halo Top Creamery</td>\n",
       "      <td>49.1</td>\n",
       "      <td>Food &amp; Beverage</td>\n",
       "      <td>10.0</td>\n",
       "      <td>2012.0</td>\n",
       "      <td>20944</td>\n",
       "      <td>Los Angeles</td>\n",
       "      <td>CA</td>\n",
       "    </tr>\n",
       "  </tbody>\n",
       "</table>\n",
       "</div>"
      ],
      "text/plain": [
       "   rank                    name  revenue                      industry  \\\n",
       "0     1                  Skillz     54.2                      Software   \n",
       "1     2       EnviroSolar Power     37.4                        Energy   \n",
       "2     3                Gametime     48.8  Consumer Products & Services   \n",
       "3     4  Club Pilates Franchise     26.8  Consumer Products & Services   \n",
       "4     5       Halo Top Creamery     49.1               Food & Beverage   \n",
       "\n",
       "   employees  founded  growth           city state  \n",
       "0       58.0   2012.0   50059  San Francisco    CA  \n",
       "1       85.0   2012.0   36065     Fort Worth    TX  \n",
       "2       75.0   2013.0   34021  San Francisco    CA  \n",
       "3       31.0   2007.0   21319     Costa Mesa    CA  \n",
       "4       10.0   2012.0   20944    Los Angeles    CA  "
      ]
     },
     "execution_count": 3,
     "metadata": {},
     "output_type": "execute_result"
    }
   ],
   "source": [
    "state_df.head()"
   ]
  },
  {
   "cell_type": "code",
   "execution_count": 4,
   "metadata": {
    "collapsed": true
   },
   "outputs": [],
   "source": [
    "# Calculate previous revenue for companies based on on current revenue and growth values. Create separate column\n",
    "# in dataframe.\n",
    "state_df.loc[:,('prev_revenue')] = state_df.apply(lambda x: (100/(x['growth']+100)) * x['revenue'], axis=1).values"
   ]
  },
  {
   "cell_type": "code",
   "execution_count": 5,
   "metadata": {
    "collapsed": false
   },
   "outputs": [
    {
     "name": "stdout",
     "output_type": "stream",
     "text": [
      "<class 'pandas.core.frame.DataFrame'>\n",
      "RangeIndex: 4997 entries, 0 to 4996\n",
      "Data columns (total 10 columns):\n",
      "rank            4997 non-null int64\n",
      "name            4997 non-null object\n",
      "revenue         4997 non-null float64\n",
      "industry        4993 non-null object\n",
      "employees       4861 non-null float64\n",
      "founded         4994 non-null float64\n",
      "growth          4997 non-null int64\n",
      "city            4996 non-null object\n",
      "state           4997 non-null object\n",
      "prev_revenue    4997 non-null float64\n",
      "dtypes: float64(4), int64(2), object(4)\n",
      "memory usage: 390.5+ KB\n"
     ]
    }
   ],
   "source": [
    "state_df.info()"
   ]
  },
  {
   "cell_type": "code",
   "execution_count": 6,
   "metadata": {
    "collapsed": false
   },
   "outputs": [
    {
     "data": {
      "text/html": [
       "<div>\n",
       "<style>\n",
       "    .dataframe thead tr:only-child th {\n",
       "        text-align: right;\n",
       "    }\n",
       "\n",
       "    .dataframe thead th {\n",
       "        text-align: left;\n",
       "    }\n",
       "\n",
       "    .dataframe tbody tr th {\n",
       "        vertical-align: top;\n",
       "    }\n",
       "</style>\n",
       "<table border=\"1\" class=\"dataframe\">\n",
       "  <thead>\n",
       "    <tr style=\"text-align: right;\">\n",
       "      <th></th>\n",
       "      <th>rank</th>\n",
       "      <th>name</th>\n",
       "      <th>revenue</th>\n",
       "      <th>industry</th>\n",
       "      <th>employees</th>\n",
       "      <th>founded</th>\n",
       "      <th>growth</th>\n",
       "      <th>city</th>\n",
       "      <th>state</th>\n",
       "      <th>prev_revenue</th>\n",
       "    </tr>\n",
       "  </thead>\n",
       "  <tbody>\n",
       "    <tr>\n",
       "      <th>0</th>\n",
       "      <td>1</td>\n",
       "      <td>Skillz</td>\n",
       "      <td>54.2</td>\n",
       "      <td>Software</td>\n",
       "      <td>58.0</td>\n",
       "      <td>2012.0</td>\n",
       "      <td>50059</td>\n",
       "      <td>San Francisco</td>\n",
       "      <td>CA</td>\n",
       "      <td>0.108056</td>\n",
       "    </tr>\n",
       "    <tr>\n",
       "      <th>1</th>\n",
       "      <td>2</td>\n",
       "      <td>EnviroSolar Power</td>\n",
       "      <td>37.4</td>\n",
       "      <td>Energy</td>\n",
       "      <td>85.0</td>\n",
       "      <td>2012.0</td>\n",
       "      <td>36065</td>\n",
       "      <td>Fort Worth</td>\n",
       "      <td>TX</td>\n",
       "      <td>0.103415</td>\n",
       "    </tr>\n",
       "    <tr>\n",
       "      <th>2</th>\n",
       "      <td>3</td>\n",
       "      <td>Gametime</td>\n",
       "      <td>48.8</td>\n",
       "      <td>Consumer Products &amp; Services</td>\n",
       "      <td>75.0</td>\n",
       "      <td>2013.0</td>\n",
       "      <td>34021</td>\n",
       "      <td>San Francisco</td>\n",
       "      <td>CA</td>\n",
       "      <td>0.143020</td>\n",
       "    </tr>\n",
       "    <tr>\n",
       "      <th>3</th>\n",
       "      <td>4</td>\n",
       "      <td>Club Pilates Franchise</td>\n",
       "      <td>26.8</td>\n",
       "      <td>Consumer Products &amp; Services</td>\n",
       "      <td>31.0</td>\n",
       "      <td>2007.0</td>\n",
       "      <td>21319</td>\n",
       "      <td>Costa Mesa</td>\n",
       "      <td>CA</td>\n",
       "      <td>0.125123</td>\n",
       "    </tr>\n",
       "    <tr>\n",
       "      <th>4</th>\n",
       "      <td>5</td>\n",
       "      <td>Halo Top Creamery</td>\n",
       "      <td>49.1</td>\n",
       "      <td>Food &amp; Beverage</td>\n",
       "      <td>10.0</td>\n",
       "      <td>2012.0</td>\n",
       "      <td>20944</td>\n",
       "      <td>Los Angeles</td>\n",
       "      <td>CA</td>\n",
       "      <td>0.233321</td>\n",
       "    </tr>\n",
       "  </tbody>\n",
       "</table>\n",
       "</div>"
      ],
      "text/plain": [
       "   rank                    name  revenue                      industry  \\\n",
       "0     1                  Skillz     54.2                      Software   \n",
       "1     2       EnviroSolar Power     37.4                        Energy   \n",
       "2     3                Gametime     48.8  Consumer Products & Services   \n",
       "3     4  Club Pilates Franchise     26.8  Consumer Products & Services   \n",
       "4     5       Halo Top Creamery     49.1               Food & Beverage   \n",
       "\n",
       "   employees  founded  growth           city state  prev_revenue  \n",
       "0       58.0   2012.0   50059  San Francisco    CA      0.108056  \n",
       "1       85.0   2012.0   36065     Fort Worth    TX      0.103415  \n",
       "2       75.0   2013.0   34021  San Francisco    CA      0.143020  \n",
       "3       31.0   2007.0   21319     Costa Mesa    CA      0.125123  \n",
       "4       10.0   2012.0   20944    Los Angeles    CA      0.233321  "
      ]
     },
     "execution_count": 6,
     "metadata": {},
     "output_type": "execute_result"
    }
   ],
   "source": [
    "state_df.head()"
   ]
  },
  {
   "cell_type": "code",
   "execution_count": 7,
   "metadata": {
    "collapsed": false
   },
   "outputs": [
    {
     "data": {
      "text/html": [
       "<div>\n",
       "<style>\n",
       "    .dataframe thead tr:only-child th {\n",
       "        text-align: right;\n",
       "    }\n",
       "\n",
       "    .dataframe thead th {\n",
       "        text-align: left;\n",
       "    }\n",
       "\n",
       "    .dataframe tbody tr th {\n",
       "        vertical-align: top;\n",
       "    }\n",
       "</style>\n",
       "<table border=\"1\" class=\"dataframe\">\n",
       "  <thead>\n",
       "    <tr style=\"text-align: right;\">\n",
       "      <th></th>\n",
       "      <th>revenue</th>\n",
       "      <th>prev_revenue</th>\n",
       "    </tr>\n",
       "    <tr>\n",
       "      <th>state</th>\n",
       "      <th></th>\n",
       "      <th></th>\n",
       "    </tr>\n",
       "  </thead>\n",
       "  <tbody>\n",
       "    <tr>\n",
       "      <th>CA</th>\n",
       "      <td>27032.8</td>\n",
       "      <td>10475.686546</td>\n",
       "    </tr>\n",
       "    <tr>\n",
       "      <th>CT</th>\n",
       "      <td>26770.6</td>\n",
       "      <td>15706.624367</td>\n",
       "    </tr>\n",
       "    <tr>\n",
       "      <th>TX</th>\n",
       "      <td>20308.9</td>\n",
       "      <td>8335.269555</td>\n",
       "    </tr>\n",
       "    <tr>\n",
       "      <th>NY</th>\n",
       "      <td>15536.3</td>\n",
       "      <td>7734.372436</td>\n",
       "    </tr>\n",
       "    <tr>\n",
       "      <th>FL</th>\n",
       "      <td>12557.1</td>\n",
       "      <td>5085.871478</td>\n",
       "    </tr>\n",
       "    <tr>\n",
       "      <th>VA</th>\n",
       "      <td>10166.9</td>\n",
       "      <td>4411.613214</td>\n",
       "    </tr>\n",
       "    <tr>\n",
       "      <th>OH</th>\n",
       "      <td>10159.1</td>\n",
       "      <td>5185.844466</td>\n",
       "    </tr>\n",
       "    <tr>\n",
       "      <th>GA</th>\n",
       "      <td>9029.9</td>\n",
       "      <td>4074.054640</td>\n",
       "    </tr>\n",
       "    <tr>\n",
       "      <th>IL</th>\n",
       "      <td>8885.0</td>\n",
       "      <td>4225.483529</td>\n",
       "    </tr>\n",
       "    <tr>\n",
       "      <th>AZ</th>\n",
       "      <td>8236.5</td>\n",
       "      <td>3535.102575</td>\n",
       "    </tr>\n",
       "    <tr>\n",
       "      <th>PA</th>\n",
       "      <td>8100.4</td>\n",
       "      <td>4059.669697</td>\n",
       "    </tr>\n",
       "    <tr>\n",
       "      <th>MA</th>\n",
       "      <td>8034.7</td>\n",
       "      <td>4427.318575</td>\n",
       "    </tr>\n",
       "    <tr>\n",
       "      <th>MN</th>\n",
       "      <td>6925.5</td>\n",
       "      <td>3501.500201</td>\n",
       "    </tr>\n",
       "    <tr>\n",
       "      <th>NC</th>\n",
       "      <td>5520.4</td>\n",
       "      <td>2029.796036</td>\n",
       "    </tr>\n",
       "    <tr>\n",
       "      <th>NJ</th>\n",
       "      <td>5436.5</td>\n",
       "      <td>2145.793149</td>\n",
       "    </tr>\n",
       "    <tr>\n",
       "      <th>TN</th>\n",
       "      <td>5074.5</td>\n",
       "      <td>2515.628659</td>\n",
       "    </tr>\n",
       "    <tr>\n",
       "      <th>UT</th>\n",
       "      <td>4201.2</td>\n",
       "      <td>1614.934960</td>\n",
       "    </tr>\n",
       "    <tr>\n",
       "      <th>CO</th>\n",
       "      <td>4159.9</td>\n",
       "      <td>2085.227856</td>\n",
       "    </tr>\n",
       "    <tr>\n",
       "      <th>MO</th>\n",
       "      <td>3838.2</td>\n",
       "      <td>1569.691479</td>\n",
       "    </tr>\n",
       "    <tr>\n",
       "      <th>MI</th>\n",
       "      <td>3821.5</td>\n",
       "      <td>1653.324983</td>\n",
       "    </tr>\n",
       "    <tr>\n",
       "      <th>MD</th>\n",
       "      <td>3500.0</td>\n",
       "      <td>1609.852044</td>\n",
       "    </tr>\n",
       "    <tr>\n",
       "      <th>WA</th>\n",
       "      <td>3137.6</td>\n",
       "      <td>1357.694205</td>\n",
       "    </tr>\n",
       "    <tr>\n",
       "      <th>KY</th>\n",
       "      <td>2762.4</td>\n",
       "      <td>1606.451864</td>\n",
       "    </tr>\n",
       "    <tr>\n",
       "      <th>IN</th>\n",
       "      <td>2453.7</td>\n",
       "      <td>1234.906905</td>\n",
       "    </tr>\n",
       "    <tr>\n",
       "      <th>OR</th>\n",
       "      <td>2397.5</td>\n",
       "      <td>949.997977</td>\n",
       "    </tr>\n",
       "    <tr>\n",
       "      <th>AL</th>\n",
       "      <td>2244.7</td>\n",
       "      <td>862.550923</td>\n",
       "    </tr>\n",
       "    <tr>\n",
       "      <th>SC</th>\n",
       "      <td>2046.7</td>\n",
       "      <td>817.881018</td>\n",
       "    </tr>\n",
       "    <tr>\n",
       "      <th>WI</th>\n",
       "      <td>1760.6</td>\n",
       "      <td>919.293749</td>\n",
       "    </tr>\n",
       "    <tr>\n",
       "      <th>KS</th>\n",
       "      <td>946.9</td>\n",
       "      <td>430.496023</td>\n",
       "    </tr>\n",
       "    <tr>\n",
       "      <th>NE</th>\n",
       "      <td>886.4</td>\n",
       "      <td>297.370023</td>\n",
       "    </tr>\n",
       "    <tr>\n",
       "      <th>DC</th>\n",
       "      <td>825.4</td>\n",
       "      <td>298.968013</td>\n",
       "    </tr>\n",
       "    <tr>\n",
       "      <th>LA</th>\n",
       "      <td>813.4</td>\n",
       "      <td>356.279631</td>\n",
       "    </tr>\n",
       "    <tr>\n",
       "      <th>SD</th>\n",
       "      <td>608.0</td>\n",
       "      <td>267.777114</td>\n",
       "    </tr>\n",
       "    <tr>\n",
       "      <th>IA</th>\n",
       "      <td>556.0</td>\n",
       "      <td>237.336067</td>\n",
       "    </tr>\n",
       "    <tr>\n",
       "      <th>ME</th>\n",
       "      <td>506.6</td>\n",
       "      <td>126.863756</td>\n",
       "    </tr>\n",
       "    <tr>\n",
       "      <th>NH</th>\n",
       "      <td>502.1</td>\n",
       "      <td>229.415213</td>\n",
       "    </tr>\n",
       "    <tr>\n",
       "      <th>OK</th>\n",
       "      <td>492.6</td>\n",
       "      <td>189.317301</td>\n",
       "    </tr>\n",
       "    <tr>\n",
       "      <th>NV</th>\n",
       "      <td>368.3</td>\n",
       "      <td>149.523619</td>\n",
       "    </tr>\n",
       "    <tr>\n",
       "      <th>DE</th>\n",
       "      <td>272.7</td>\n",
       "      <td>131.756876</td>\n",
       "    </tr>\n",
       "    <tr>\n",
       "      <th>AR</th>\n",
       "      <td>247.2</td>\n",
       "      <td>82.787318</td>\n",
       "    </tr>\n",
       "    <tr>\n",
       "      <th>RI</th>\n",
       "      <td>208.0</td>\n",
       "      <td>137.006370</td>\n",
       "    </tr>\n",
       "    <tr>\n",
       "      <th>ID</th>\n",
       "      <td>206.5</td>\n",
       "      <td>97.806378</td>\n",
       "    </tr>\n",
       "    <tr>\n",
       "      <th>WV</th>\n",
       "      <td>177.5</td>\n",
       "      <td>45.822316</td>\n",
       "    </tr>\n",
       "    <tr>\n",
       "      <th>ND</th>\n",
       "      <td>155.9</td>\n",
       "      <td>67.758473</td>\n",
       "    </tr>\n",
       "    <tr>\n",
       "      <th>HI</th>\n",
       "      <td>129.3</td>\n",
       "      <td>41.093097</td>\n",
       "    </tr>\n",
       "    <tr>\n",
       "      <th>MS</th>\n",
       "      <td>118.5</td>\n",
       "      <td>68.525502</td>\n",
       "    </tr>\n",
       "    <tr>\n",
       "      <th>NM</th>\n",
       "      <td>118.4</td>\n",
       "      <td>40.625280</td>\n",
       "    </tr>\n",
       "    <tr>\n",
       "      <th>VT</th>\n",
       "      <td>71.7</td>\n",
       "      <td>25.681240</td>\n",
       "    </tr>\n",
       "    <tr>\n",
       "      <th>MT</th>\n",
       "      <td>39.0</td>\n",
       "      <td>9.524859</td>\n",
       "    </tr>\n",
       "    <tr>\n",
       "      <th>WY</th>\n",
       "      <td>38.0</td>\n",
       "      <td>17.217512</td>\n",
       "    </tr>\n",
       "    <tr>\n",
       "      <th>AK</th>\n",
       "      <td>12.9</td>\n",
       "      <td>6.753927</td>\n",
       "    </tr>\n",
       "    <tr>\n",
       "      <th>PR</th>\n",
       "      <td>12.5</td>\n",
       "      <td>3.938566</td>\n",
       "    </tr>\n",
       "  </tbody>\n",
       "</table>\n",
       "</div>"
      ],
      "text/plain": [
       "       revenue  prev_revenue\n",
       "state                       \n",
       "CA     27032.8  10475.686546\n",
       "CT     26770.6  15706.624367\n",
       "TX     20308.9   8335.269555\n",
       "NY     15536.3   7734.372436\n",
       "FL     12557.1   5085.871478\n",
       "VA     10166.9   4411.613214\n",
       "OH     10159.1   5185.844466\n",
       "GA      9029.9   4074.054640\n",
       "IL      8885.0   4225.483529\n",
       "AZ      8236.5   3535.102575\n",
       "PA      8100.4   4059.669697\n",
       "MA      8034.7   4427.318575\n",
       "MN      6925.5   3501.500201\n",
       "NC      5520.4   2029.796036\n",
       "NJ      5436.5   2145.793149\n",
       "TN      5074.5   2515.628659\n",
       "UT      4201.2   1614.934960\n",
       "CO      4159.9   2085.227856\n",
       "MO      3838.2   1569.691479\n",
       "MI      3821.5   1653.324983\n",
       "MD      3500.0   1609.852044\n",
       "WA      3137.6   1357.694205\n",
       "KY      2762.4   1606.451864\n",
       "IN      2453.7   1234.906905\n",
       "OR      2397.5    949.997977\n",
       "AL      2244.7    862.550923\n",
       "SC      2046.7    817.881018\n",
       "WI      1760.6    919.293749\n",
       "KS       946.9    430.496023\n",
       "NE       886.4    297.370023\n",
       "DC       825.4    298.968013\n",
       "LA       813.4    356.279631\n",
       "SD       608.0    267.777114\n",
       "IA       556.0    237.336067\n",
       "ME       506.6    126.863756\n",
       "NH       502.1    229.415213\n",
       "OK       492.6    189.317301\n",
       "NV       368.3    149.523619\n",
       "DE       272.7    131.756876\n",
       "AR       247.2     82.787318\n",
       "RI       208.0    137.006370\n",
       "ID       206.5     97.806378\n",
       "WV       177.5     45.822316\n",
       "ND       155.9     67.758473\n",
       "HI       129.3     41.093097\n",
       "MS       118.5     68.525502\n",
       "NM       118.4     40.625280\n",
       "VT        71.7     25.681240\n",
       "MT        39.0      9.524859\n",
       "WY        38.0     17.217512\n",
       "AK        12.9      6.753927\n",
       "PR        12.5      3.938566"
      ]
     },
     "execution_count": 7,
     "metadata": {},
     "output_type": "execute_result"
    }
   ],
   "source": [
    "# calculate growth % state wise\n",
    "state_group_df = state_df.groupby('state').sum().sort_values(by='revenue', ascending=False)[['revenue','prev_revenue']]\n",
    "state_group_df"
   ]
  },
  {
   "cell_type": "code",
   "execution_count": 8,
   "metadata": {
    "collapsed": false
   },
   "outputs": [
    {
     "data": {
      "text/plain": [
       "state\n",
       "MT    309.454893\n",
       "ME    299.326029\n",
       "WV    287.365842\n",
       "PR    217.374408\n",
       "HI    214.651387\n",
       "AR    198.596460\n",
       "NE    198.079810\n",
       "NM    191.444143\n",
       "VT    179.192129\n",
       "DC    176.083047\n",
       "NC    171.968213\n",
       "AL    160.239708\n",
       "OK    160.198090\n",
       "UT    160.146700\n",
       "CA    158.052777\n",
       "NJ    153.356201\n",
       "OR    152.368959\n",
       "SC    150.244223\n",
       "FL    146.901638\n",
       "NV    146.315600\n",
       "MO    144.519388\n",
       "TX    143.650189\n",
       "IA    134.266965\n",
       "AZ    132.991825\n",
       "MI    131.140280\n",
       "WA    131.097694\n",
       "VA    130.457647\n",
       "ND    130.081927\n",
       "LA    128.303818\n",
       "SD    127.054504\n",
       "GA    121.644057\n",
       "WY    120.705523\n",
       "KS    119.955574\n",
       "NH    118.860813\n",
       "MD    117.411284\n",
       "ID    111.131426\n",
       "IL    110.271794\n",
       "DE    106.972120\n",
       "TN    101.718961\n",
       "NY    100.873440\n",
       "PA     99.533475\n",
       "CO     99.493786\n",
       "IN     98.695140\n",
       "MN     97.786652\n",
       "OH     95.900592\n",
       "WI     91.516586\n",
       "AK     91.000000\n",
       "MA     81.480051\n",
       "MS     72.928322\n",
       "KY     71.956600\n",
       "CT     70.441461\n",
       "RI     51.817758\n",
       "dtype: float64"
      ]
     },
     "execution_count": 8,
     "metadata": {},
     "output_type": "execute_result"
    }
   ],
   "source": [
    "state_growth = state_group_df.apply(lambda x: ((x['revenue']-x['prev_revenue'])/x['prev_revenue'])*100, axis=1).sort_values(ascending=False)\n",
    "state_growth"
   ]
  },
  {
   "cell_type": "code",
   "execution_count": 9,
   "metadata": {
    "collapsed": false
   },
   "outputs": [
    {
     "data": {
      "text/plain": [
       "state\n",
       "CA    670\n",
       "TX    425\n",
       "FL    368\n",
       "NY    307\n",
       "VA    289\n",
       "IL    238\n",
       "GA    233\n",
       "PA    185\n",
       "OH    172\n",
       "MA    146\n",
       "NJ    140\n",
       "NC    124\n",
       "MD    121\n",
       "AZ    120\n",
       "WA    116\n",
       "CO    114\n",
       "UT    110\n",
       "MI    101\n",
       "MN     86\n",
       "TN     86\n",
       "MO     81\n",
       "IN     67\n",
       "OR     66\n",
       "AL     59\n",
       "SC     58\n",
       "WI     53\n",
       "LA     46\n",
       "DC     44\n",
       "KY     36\n",
       "KS     35\n",
       "CT     34\n",
       "OK     28\n",
       "IA     28\n",
       "NV     28\n",
       "NE     25\n",
       "NH     22\n",
       "DE     16\n",
       "AR     14\n",
       "ID     14\n",
       "MS     13\n",
       "ME     12\n",
       "SD     11\n",
       "ND      9\n",
       "MT      8\n",
       "RI      8\n",
       "HI      7\n",
       "WV      6\n",
       "WY      4\n",
       "NM      4\n",
       "PR      3\n",
       "VT      2\n",
       "AK      1\n",
       "Name: industry, dtype: int64"
      ]
     },
     "execution_count": 9,
     "metadata": {},
     "output_type": "execute_result"
    }
   ],
   "source": [
    "state_df.groupby('state')['industry'].count().sort_values(ascending=False)"
   ]
  },
  {
   "cell_type": "code",
   "execution_count": 10,
   "metadata": {
    "collapsed": false
   },
   "outputs": [],
   "source": [
    "d = state_df.groupby('state')['industry'].value_counts()"
   ]
  },
  {
   "cell_type": "code",
   "execution_count": 11,
   "metadata": {
    "collapsed": false
   },
   "outputs": [
    {
     "name": "stdout",
     "output_type": "stream",
     "text": [
      "AK\tHealth\t\t\t\t91.0\n",
      "AL\tEnergy\t\t\t\t2732.0\n",
      "AR\tRetail\t\t\t\t3983.11500208\n",
      "AZ\tEducation\t\t\t\t874.0\n",
      "CA\tSecurity\t\t\t\t292.501102823\n",
      "CO\tLogistics & Transportation\t\t\t\t2074.16618911\n",
      "CT\tFood & Beverage\t\t\t\t665.0\n",
      "DC\tEnergy\t\t\t\t742.935803662\n",
      "DE\tBusiness Products & Services\t\t\t\t2441.0\n",
      "FL\tMedia\t\t\t\t415.728956256\n",
      "GA\tTravel & Hospitality\t\t\t\t542.662285792\n",
      "HI\tConstruction\t\t\t\t551.766172186\n",
      "IA\tEnergy\t\t\t\t550.0\n",
      "ID\tRetail\t\t\t\t606.920753279\n",
      "IL\tEnergy\t\t\t\t1316.96848989\n",
      "IN\tAdvertising & Marketing\t\t\t\t257.503804464\n",
      "KS\tHuman Resources\t\t\t\t296.012016285\n",
      "KY\tInsurance\t\t\t\t2231.0\n",
      "LA\tEnergy\t\t\t\t2079.0\n",
      "MA\tConsumer Products & Services\t\t\t\t646.197265625\n",
      "MD\tFood & Beverage\t\t\t\t438.538171536\n",
      "ME\tBusiness Products & Services\t\t\t\t9204.0\n",
      "MI\tEngineering\t\t\t\t1016.0\n",
      "MN\tConsumer Products & Services\t\t\t\t989.0\n",
      "MO\tEnergy\t\t\t\t1100.0\n",
      "MS\tComputer Hardware\t\t\t\t1122.0\n",
      "MT\tManufacturing\t\t\t\t2114.0\n",
      "NC\tReal Estate\t\t\t\t697.998935383\n",
      "ND\tReal Estate\t\t\t\t289.0\n",
      "NE\tAdvertising & Marketing\t\t\t\t737.0\n",
      "NH\tFinancial Services\t\t\t\t1361.0\n",
      "NJ\tMedia\t\t\t\t1161.0\n",
      "NM\tIT Services\t\t\t\t394.0\n",
      "NV\tGovernment Services\t\t\t\t3748.0\n",
      "NY\tRetail\t\t\t\t783.704513793\n",
      "OH\tInsurance\t\t\t\t11369.0\n",
      "OK\tSoftware\t\t\t\t1730.0\n",
      "OR\tGovernment Services\t\t\t\t929.0\n",
      "PA\tEnergy\t\t\t\t585.367681953\n",
      "PR\tInsurance\t\t\t\t375.384\n",
      "RI\tSoftware\t\t\t\t221.683417085\n",
      "SC\tAdvertising & Marketing\t\t\t\t477.145541862\n",
      "SD\tBusiness Products & Services\t\t\t\t413.491429134\n",
      "TN\tManufacturing\t\t\t\t433.686978892\n",
      "TX\tEducation\t\t\t\t1017.12041506\n",
      "UT\tEnergy\t\t\t\t2338.35228888\n",
      "VA\tInsurance\t\t\t\t729.0\n",
      "VT\tConstruction\t\t\t\t6611.0\n",
      "WA\tTravel & Hospitality\t\t\t\t674.843927865\n",
      "WI\tRetail\t\t\t\t863.997136713\n",
      "WV\tIT Services\t\t\t\t999.0\n",
      "WY\tConsumer Products & Services\t\t\t\t837.0\n"
     ]
    }
   ],
   "source": [
    "for x in state_df.groupby('state'):\n",
    "    #print(x[0] + \"\\t\" + str(x[1].sum()['revenue']))\n",
    "    temp = x[1].groupby('industry').apply(lambda y: ((y['revenue'].sum()-y['prev_revenue'].sum())/y['prev_revenue'].sum())*100).sort_values(ascending=False)\n",
    "    print(x[0] + \"\\t\" + str(temp.index[0]) + \"\\t\\t\\t\\t\" + str(temp.values[0]))"
   ]
  },
  {
   "cell_type": "code",
   "execution_count": null,
   "metadata": {
    "collapsed": false
   },
   "outputs": [],
   "source": []
  },
  {
   "cell_type": "code",
   "execution_count": 12,
   "metadata": {
    "collapsed": true
   },
   "outputs": [],
   "source": [
    "#MAPS"
   ]
  },
  {
   "cell_type": "code",
   "execution_count": 43,
   "metadata": {
    "collapsed": false
   },
   "outputs": [
    {
     "data": {
      "text/plain": [
       "\"\\nstate_codes = {\\n        'AK': 'Alaska', 'AL': 'Alabama', 'AR': 'Arkansas', 'AS': 'American Samoa', 'AZ': 'Arizona',\\n        'CA': 'California', 'CO': 'Colorado', 'CT': 'Connecticut', 'DC': 'District of Columbia', 'DE': 'Delaware',\\n        'FL': 'Florida', 'GA': 'Georgia', 'GU': 'Guam', 'HI': 'Hawaii', 'IA': 'Iowa', 'ID': 'Idaho', 'IL': 'Illinois',\\n        'IN': 'Indiana', 'KS': 'Kansas', 'KY': 'Kentucky', 'LA': 'Louisiana', 'MA': 'Massachusetts', 'MD': 'Maryland',\\n        'ME': 'Maine', 'MI': 'Michigan', 'MN': 'Minnesota', 'MO': 'Missouri', 'MP': 'Northern Mariana Islands',\\n        'MS': 'Mississippi', 'MT': 'Montana', 'NA': 'National', 'NC': 'North Carolina', 'ND': 'North Dakota',\\n        'NE': 'Nebraska', 'NH': 'New Hampshire', 'NJ': 'New Jersey', 'NM': 'New Mexico', 'NV': 'Nevada',\\n        'NY': 'New York', 'OH': 'Ohio', 'OK': 'Oklahoma', 'OR': 'Oregon', 'PA': 'Pennsylvania', 'PR': 'Puerto Rico',\\n        'RI': 'Rhode Island', 'SC': 'South Carolina', 'SD': 'South Dakota', 'TN': 'Tennessee', 'TX': 'Texas',\\n        'UT': 'Utah', 'VA': 'Virginia', 'VI': 'Virgin Islands', 'VT': 'Vermont', 'WA': 'Washington',\\n        'WI': 'Wisconsin', 'WV': 'West Virginia', 'WY': 'Wyoming'\\n}\\nlen(state_codes)\\n\""
      ]
     },
     "execution_count": 43,
     "metadata": {},
     "output_type": "execute_result"
    }
   ],
   "source": [
    "'''\n",
    "state_codes = {\n",
    "        'AK': 'Alaska', 'AL': 'Alabama', 'AR': 'Arkansas', 'AS': 'American Samoa', 'AZ': 'Arizona',\n",
    "        'CA': 'California', 'CO': 'Colorado', 'CT': 'Connecticut', 'DC': 'District of Columbia', 'DE': 'Delaware',\n",
    "        'FL': 'Florida', 'GA': 'Georgia', 'GU': 'Guam', 'HI': 'Hawaii', 'IA': 'Iowa', 'ID': 'Idaho', 'IL': 'Illinois',\n",
    "        'IN': 'Indiana', 'KS': 'Kansas', 'KY': 'Kentucky', 'LA': 'Louisiana', 'MA': 'Massachusetts', 'MD': 'Maryland',\n",
    "        'ME': 'Maine', 'MI': 'Michigan', 'MN': 'Minnesota', 'MO': 'Missouri', 'MP': 'Northern Mariana Islands',\n",
    "        'MS': 'Mississippi', 'MT': 'Montana', 'NA': 'National', 'NC': 'North Carolina', 'ND': 'North Dakota',\n",
    "        'NE': 'Nebraska', 'NH': 'New Hampshire', 'NJ': 'New Jersey', 'NM': 'New Mexico', 'NV': 'Nevada',\n",
    "        'NY': 'New York', 'OH': 'Ohio', 'OK': 'Oklahoma', 'OR': 'Oregon', 'PA': 'Pennsylvania', 'PR': 'Puerto Rico',\n",
    "        'RI': 'Rhode Island', 'SC': 'South Carolina', 'SD': 'South Dakota', 'TN': 'Tennessee', 'TX': 'Texas',\n",
    "        'UT': 'Utah', 'VA': 'Virginia', 'VI': 'Virgin Islands', 'VT': 'Vermont', 'WA': 'Washington',\n",
    "        'WI': 'Wisconsin', 'WV': 'West Virginia', 'WY': 'Wyoming'\n",
    "}\n",
    "len(state_codes)\n",
    "'''"
   ]
  },
  {
   "cell_type": "code",
   "execution_count": 44,
   "metadata": {
    "collapsed": true
   },
   "outputs": [],
   "source": [
    "state_codes = {\n",
    "    'Alabama': 'AL',\n",
    "    'Alaska': 'AK',\n",
    "    'Arizona': 'AZ',\n",
    "    'Arkansas': 'AR',\n",
    "    'American Samoa': 'AS',\n",
    "    'California': 'CA',\n",
    "    'Colorado': 'CO',\n",
    "    'Connecticut': 'CT',\n",
    "    'Delaware': 'DE',\n",
    "    'District of Columbia': 'DC',\n",
    "    'Florida': 'FL',\n",
    "    'Georgia': 'GA',\n",
    "    'Guam': 'GU',\n",
    "    'Hawaii': 'HI',\n",
    "    'Idaho': 'ID',\n",
    "    'Illinois': 'IL',\n",
    "    'Indiana': 'IN',\n",
    "    'Iowa': 'IA',\n",
    "    'Kansas': 'KS',\n",
    "    'Kentucky': 'KY',\n",
    "    'Louisiana': 'LA',\n",
    "    'Maine': 'ME',\n",
    "    'Maryland': 'MD',\n",
    "    'Massachusetts': 'MA',\n",
    "    'Michigan': 'MI',\n",
    "    'Minnesota': 'MN',\n",
    "    'Mississippi': 'MS',\n",
    "    'Missouri': 'MO',\n",
    "    'Montana': 'MT',\n",
    "    'National': 'NA',\n",
    "    'Nebraska': 'NE',\n",
    "    'Nevada': 'NV',\n",
    "    'New Hampshire': 'NH',\n",
    "    'New Jersey': 'NJ',\n",
    "    'New Mexico': 'NM',\n",
    "    'New York': 'NY',\n",
    "    'North Carolina': 'NC',\n",
    "    'North Dakota': 'ND',\n",
    "    'Northern Mariana Islands': 'MP',\n",
    "    'Ohio': 'OH',\n",
    "    'Oklahoma': 'OK',\n",
    "    'Oregon': 'OR',\n",
    "    'Pennsylvania': 'PA',\n",
    "    'Puerto Rico': 'PR',\n",
    "    'Rhode Island': 'RI',\n",
    "    'South Carolina': 'SC',\n",
    "    'South Dakota': 'SD',\n",
    "    'Tennessee': 'TN',\n",
    "    'Texas': 'TX',\n",
    "    'Utah': 'UT',\n",
    "    'Vermont': 'VT',\n",
    "    'Virginia': 'VA',\n",
    "    'Virgin Islands': 'VI',\n",
    "    'Washington': 'WA',\n",
    "    'West Virginia': 'WV',\n",
    "    'Wisconsin': 'WI',\n",
    "    'Wyoming': 'WY',\n",
    "}"
   ]
  },
  {
   "cell_type": "code",
   "execution_count": 45,
   "metadata": {
    "collapsed": true
   },
   "outputs": [],
   "source": [
    "from mpl_toolkits.basemap import Basemap\n",
    "from matplotlib.patches import Polygon\n",
    "from matplotlib.collections import PolyCollection"
   ]
  },
  {
   "cell_type": "code",
   "execution_count": 46,
   "metadata": {
    "collapsed": true
   },
   "outputs": [],
   "source": [
    "m = Basemap(llcrnrlon=-119,llcrnrlat=22,urcrnrlon=-64,urcrnrlat=49,projection='lcc',lat_1=33,lat_2=45,lon_0=-95)"
   ]
  },
  {
   "cell_type": "code",
   "execution_count": 28,
   "metadata": {
    "collapsed": false
   },
   "outputs": [
    {
     "data": {
      "text/plain": [
       "<matplotlib.colorbar.Colorbar at 0x10fa060f0>"
      ]
     },
     "execution_count": 28,
     "metadata": {},
     "output_type": "execute_result"
    },
    {
     "data": {
      "image/png": "[encoded data removed]",
      "text/plain": [
       "<matplotlib.figure.Figure at 0x10f9eeef0>"
      ]
     },
     "metadata": {},
     "output_type": "display_data"
    }
   ],
   "source": [
    "'''\n",
    "fig = plt.figure(figsize=(16,16))\n",
    "ax = fig.add_axes([0.1,0.1,0.9,0.9])\n",
    "m.readshapefile('shape_files/st99_d00', name='states', drawbounds=True)\n",
    "state_names = []\n",
    "for shape_dict in m.states_info:\n",
    "    state_names.append(shape_dict['NAME'])\n",
    "\n",
    "#ax = plt.gca() # get current axes instance\n",
    "\n",
    "state_index = []\n",
    "for s in list(state_growth.index):\n",
    "    state_index.append(m.states[state_names.index(state_codes[s])])\n",
    "\n",
    "values_array = state_growth.values\n",
    "\n",
    "coll = PolyCollection(state_index, array=values_array, cmap='viridis', edgecolors='none')\n",
    "ax.add_collection(coll)\n",
    "ax.autoscale_view()\n",
    "\n",
    "# Add a colorbar for the PolyCollection\n",
    "fig.colorbar(coll, ax=ax, shrink=0.52)\n",
    "'''"
   ]
  },
  {
   "cell_type": "code",
   "execution_count": 38,
   "metadata": {
    "collapsed": false
   },
   "outputs": [
    {
     "data": {
      "text/plain": [
       "array([ 309.45489306,  299.32602876,  287.36584195,  217.37440762,\n",
       "        214.65138704,  198.59646001,  198.07980996,  191.44414258,\n",
       "        179.19212889,  176.08304659,  171.96821261,  160.23970758,\n",
       "        160.19809   ,  160.14669973,  158.0527766 ,  153.3562008 ,\n",
       "        152.3689586 ,  150.24422327,  146.90163829,  146.31560002,\n",
       "        144.51938817,  143.6501887 ,  134.2669649 ,  132.99182489,\n",
       "        131.14028033,  131.09769406,  130.45764684,  130.08192735,\n",
       "        128.30381798,  127.05450435,  121.64405729,  120.70552261,\n",
       "        119.95557426,  118.86081317,  117.411284  ,  111.13142576,\n",
       "        110.27179351,  106.97212037,  101.71896126,  100.87344032,\n",
       "         99.53347451,   99.49378619,   98.69513972,   97.78665151,\n",
       "         95.90059181,   91.51658565,   91.        ,   81.48005081,\n",
       "         72.92832206,   71.95659962,   70.44146071,   51.81775817])"
      ]
     },
     "execution_count": 38,
     "metadata": {},
     "output_type": "execute_result"
    }
   ],
   "source": [
    "state_growth.values"
   ]
  },
  {
   "cell_type": "code",
   "execution_count": 70,
   "metadata": {
    "collapsed": true
   },
   "outputs": [],
   "source": [
    "sns.set_style(style='white')"
   ]
  },
  {
   "cell_type": "code",
   "execution_count": 71,
   "metadata": {
    "collapsed": false
   },
   "outputs": [
    {
     "data": {
      "text/plain": [
       "<matplotlib.colorbar.Colorbar at 0x1174f9358>"
      ]
     },
     "execution_count": 71,
     "metadata": {},
     "output_type": "execute_result"
    },
    {
     "data": {
      "image/png": "[encoded data removed]",
      "text/plain": [
       "<matplotlib.figure.Figure at 0x11015f198>"
      ]
     },
     "metadata": {},
     "output_type": "display_data"
    }
   ],
   "source": [
    "fig = plt.figure(figsize=(16,16))\n",
    "ax = fig.add_axes([0.1,0.1,0.9,0.9])\n",
    "m.readshapefile('shape_files/st99_d00', name='states', drawbounds=True)\n",
    "state_names = []\n",
    "for shape_dict in m.states_info:\n",
    "    state_names.append(shape_dict['NAME'])\n",
    "\n",
    "values_list = []\n",
    "for state in state_names:\n",
    "    values_list.append(state_growth[state_codes[state]])\n",
    "values_array = np.array(values_list)    \n",
    "\n",
    "coll = PolyCollection(m.states, array=values_array, cmap='viridis', edgecolors='none')\n",
    "ax.add_collection(coll)\n",
    "ax.autoscale_view()\n",
    "\n",
    "# Add a colorbar for the PolyCollection\n",
    "fig.colorbar(coll, ax=ax, shrink=0.52)"
   ]
  },
  {
   "cell_type": "code",
   "execution_count": 31,
   "metadata": {
    "collapsed": false
   },
   "outputs": [
    {
     "data": {
      "text/plain": [
       "['Alaska',\n",
       " 'Alaska',\n",
       " 'Alaska',\n",
       " 'Alaska',\n",
       " 'Alaska',\n",
       " 'Alaska',\n",
       " 'Alaska',\n",
       " 'Alaska',\n",
       " 'Alaska',\n",
       " 'Alaska',\n",
       " 'Alaska',\n",
       " 'Alaska',\n",
       " 'Alaska',\n",
       " 'Alaska',\n",
       " 'Alaska',\n",
       " 'Alaska',\n",
       " 'Alaska',\n",
       " 'Alaska',\n",
       " 'Alaska',\n",
       " 'Alaska',\n",
       " 'Alaska',\n",
       " 'Alaska',\n",
       " 'Alaska',\n",
       " 'Alaska',\n",
       " 'Alaska',\n",
       " 'Alaska',\n",
       " 'Alaska',\n",
       " 'Alaska',\n",
       " 'Alaska',\n",
       " 'Alaska',\n",
       " 'Alaska',\n",
       " 'Alaska',\n",
       " 'Alaska',\n",
       " 'Alaska',\n",
       " 'Alaska',\n",
       " 'Alaska',\n",
       " 'Alaska',\n",
       " 'Alaska',\n",
       " 'Alaska',\n",
       " 'Alaska',\n",
       " 'Alaska',\n",
       " 'Alaska',\n",
       " 'Alaska',\n",
       " 'Alaska',\n",
       " 'Alaska',\n",
       " 'Alaska',\n",
       " 'Alaska',\n",
       " 'Alaska',\n",
       " 'Alaska',\n",
       " 'Alaska',\n",
       " 'Alaska',\n",
       " 'Alaska',\n",
       " 'Alaska',\n",
       " 'Alaska',\n",
       " 'Alaska',\n",
       " 'Alaska',\n",
       " 'Alaska',\n",
       " 'Alaska',\n",
       " 'Alaska',\n",
       " 'Alaska',\n",
       " 'Alaska',\n",
       " 'Alaska',\n",
       " 'Alaska',\n",
       " 'Alaska',\n",
       " 'Alaska',\n",
       " 'Alaska',\n",
       " 'Alaska',\n",
       " 'Alaska',\n",
       " 'Alaska',\n",
       " 'Alaska',\n",
       " 'Alaska',\n",
       " 'Alaska',\n",
       " 'Alaska',\n",
       " 'Alaska',\n",
       " 'Alaska',\n",
       " 'Alaska',\n",
       " 'Alaska',\n",
       " 'Alaska',\n",
       " 'Alaska',\n",
       " 'Alaska',\n",
       " 'Alaska',\n",
       " 'Minnesota',\n",
       " 'Washington',\n",
       " 'Washington',\n",
       " 'Montana',\n",
       " 'Idaho',\n",
       " 'North Dakota',\n",
       " 'Washington',\n",
       " 'Washington',\n",
       " 'Washington',\n",
       " 'Washington',\n",
       " 'Washington',\n",
       " 'Washington',\n",
       " 'Washington',\n",
       " 'Washington',\n",
       " 'Michigan',\n",
       " 'Washington',\n",
       " 'Michigan',\n",
       " 'Maine',\n",
       " 'Wisconsin',\n",
       " 'Wisconsin',\n",
       " 'Wisconsin',\n",
       " 'Wisconsin',\n",
       " 'Oregon',\n",
       " 'South Dakota',\n",
       " 'Michigan',\n",
       " 'Michigan',\n",
       " 'Michigan',\n",
       " 'Wisconsin',\n",
       " 'New Hampshire',\n",
       " 'Michigan',\n",
       " 'Wisconsin',\n",
       " 'Michigan',\n",
       " 'Vermont',\n",
       " 'New York',\n",
       " 'Wyoming',\n",
       " 'Maine',\n",
       " 'Maine',\n",
       " 'Maine',\n",
       " 'Maine',\n",
       " 'Maine',\n",
       " 'Maine',\n",
       " 'Maine',\n",
       " 'Maine',\n",
       " 'Maine',\n",
       " 'Maine',\n",
       " 'Maine',\n",
       " 'Maine',\n",
       " 'Maine',\n",
       " 'Maine',\n",
       " 'Maine',\n",
       " 'Maine',\n",
       " 'Maine',\n",
       " 'Maine',\n",
       " 'Maine',\n",
       " 'Maine',\n",
       " 'Maine',\n",
       " 'Iowa',\n",
       " 'Nebraska',\n",
       " 'Massachusetts',\n",
       " 'Illinois',\n",
       " 'Pennsylvania',\n",
       " 'Connecticut',\n",
       " 'Rhode Island',\n",
       " 'California',\n",
       " 'Nevada',\n",
       " 'Utah',\n",
       " 'Ohio',\n",
       " 'Indiana',\n",
       " 'Ohio',\n",
       " 'Ohio',\n",
       " 'Rhode Island',\n",
       " 'Ohio',\n",
       " 'Rhode Island',\n",
       " 'Rhode Island',\n",
       " 'Ohio',\n",
       " 'Massachusetts',\n",
       " 'Rhode Island',\n",
       " 'Rhode Island',\n",
       " 'Massachusetts',\n",
       " 'Massachusetts',\n",
       " 'New Jersey',\n",
       " 'New York',\n",
       " 'Rhode Island',\n",
       " 'New York',\n",
       " 'Colorado',\n",
       " 'New York',\n",
       " 'New York',\n",
       " 'New York',\n",
       " 'New York',\n",
       " 'West Virginia',\n",
       " 'Missouri',\n",
       " 'Kansas',\n",
       " 'Delaware',\n",
       " 'Maryland',\n",
       " 'Delaware',\n",
       " 'Delaware',\n",
       " 'Virginia',\n",
       " 'Kentucky',\n",
       " 'District of Columbia',\n",
       " 'Maryland',\n",
       " 'Maryland',\n",
       " 'Virginia',\n",
       " 'Virginia',\n",
       " 'California',\n",
       " 'Virginia',\n",
       " 'California',\n",
       " 'California',\n",
       " 'Arizona',\n",
       " 'Oklahoma',\n",
       " 'New Mexico',\n",
       " 'Tennessee',\n",
       " 'North Carolina',\n",
       " 'Kentucky',\n",
       " 'Texas',\n",
       " 'Arkansas',\n",
       " 'North Carolina',\n",
       " 'North Carolina',\n",
       " 'South Carolina',\n",
       " 'Alabama',\n",
       " 'Georgia',\n",
       " 'Mississippi',\n",
       " 'California',\n",
       " 'California',\n",
       " 'California',\n",
       " 'California',\n",
       " 'California',\n",
       " 'California',\n",
       " 'California',\n",
       " 'Louisiana',\n",
       " 'Florida',\n",
       " 'Alabama',\n",
       " 'Mississippi',\n",
       " 'Mississippi',\n",
       " 'Mississippi',\n",
       " 'Mississippi',\n",
       " 'Louisiana',\n",
       " 'Florida',\n",
       " 'Florida',\n",
       " 'Hawaii',\n",
       " 'Texas',\n",
       " 'Florida',\n",
       " 'Hawaii',\n",
       " 'Hawaii',\n",
       " 'Hawaii',\n",
       " 'Hawaii',\n",
       " 'Hawaii',\n",
       " 'Hawaii',\n",
       " 'Florida',\n",
       " 'Hawaii',\n",
       " 'Hawaii',\n",
       " 'Florida',\n",
       " 'Hawaii',\n",
       " 'Florida',\n",
       " 'Florida',\n",
       " 'Florida',\n",
       " 'Florida',\n",
       " 'Florida',\n",
       " 'Florida',\n",
       " 'Florida',\n",
       " 'Florida',\n",
       " 'Hawaii',\n",
       " 'Hawaii',\n",
       " 'Hawaii',\n",
       " 'Hawaii',\n",
       " 'Hawaii',\n",
       " 'Hawaii',\n",
       " 'Hawaii',\n",
       " 'Hawaii',\n",
       " 'Hawaii',\n",
       " 'Hawaii',\n",
       " 'Hawaii',\n",
       " 'Hawaii',\n",
       " 'Hawaii',\n",
       " 'Hawaii',\n",
       " 'Hawaii',\n",
       " 'Hawaii',\n",
       " 'Hawaii',\n",
       " 'Puerto Rico',\n",
       " 'Puerto Rico',\n",
       " 'Puerto Rico',\n",
       " 'Puerto Rico',\n",
       " 'Puerto Rico',\n",
       " 'Puerto Rico',\n",
       " 'Puerto Rico',\n",
       " 'Puerto Rico',\n",
       " 'Puerto Rico',\n",
       " 'Puerto Rico',\n",
       " 'Puerto Rico',\n",
       " 'Puerto Rico',\n",
       " 'Puerto Rico',\n",
       " 'Puerto Rico',\n",
       " 'Puerto Rico']"
      ]
     },
     "execution_count": 31,
     "metadata": {},
     "output_type": "execute_result"
    }
   ],
   "source": [
    "state_names"
   ]
  },
  {
   "cell_type": "code",
   "execution_count": 33,
   "metadata": {
    "collapsed": false
   },
   "outputs": [
    {
     "data": {
      "text/plain": [
       "99.493786193450987"
      ]
     },
     "execution_count": 33,
     "metadata": {},
     "output_type": "execute_result"
    }
   ],
   "source": [
    "state_growth['CO']"
   ]
  },
  {
   "cell_type": "code",
   "execution_count": 41,
   "metadata": {
    "collapsed": false
   },
   "outputs": [
    {
     "data": {
      "text/plain": [
       "55"
      ]
     },
     "execution_count": 41,
     "metadata": {},
     "output_type": "execute_result"
    }
   ],
   "source": [
    "len(state_codes)"
   ]
  },
  {
   "cell_type": "code",
   "execution_count": null,
   "metadata": {
    "collapsed": true
   },
   "outputs": [],
   "source": []
  },
  {
   "cell_type": "code",
   "execution_count": null,
   "metadata": {
    "collapsed": false
   },
   "outputs": [],
   "source": []
  },
  {
   "cell_type": "code",
   "execution_count": null,
   "metadata": {
    "collapsed": false
   },
   "outputs": [],
   "source": []
  },
  {
   "cell_type": "code",
   "execution_count": 53,
   "metadata": {
    "collapsed": false
   },
   "outputs": [
    {
     "data": {
      "text/plain": [
       "52"
      ]
     },
     "execution_count": 53,
     "metadata": {},
     "output_type": "execute_result"
    }
   ],
   "source": [
    "len(state_growth.index)"
   ]
  },
  {
   "cell_type": "code",
   "execution_count": 55,
   "metadata": {
    "collapsed": false
   },
   "outputs": [
    {
     "data": {
      "text/plain": [
       "52"
      ]
     },
     "execution_count": 55,
     "metadata": {},
     "output_type": "execute_result"
    }
   ],
   "source": [
    "len(set(state_names))"
   ]
  },
  {
   "cell_type": "code",
   "execution_count": 68,
   "metadata": {
    "collapsed": false
   },
   "outputs": [
    {
     "data": {
      "text/plain": [
       "273"
      ]
     },
     "execution_count": 68,
     "metadata": {},
     "output_type": "execute_result"
    }
   ],
   "source": [
    "len(values_array)"
   ]
  },
  {
   "cell_type": "code",
   "execution_count": 67,
   "metadata": {
    "collapsed": false
   },
   "outputs": [
    {
     "data": {
      "text/plain": [
       "273"
      ]
     },
     "execution_count": 67,
     "metadata": {},
     "output_type": "execute_result"
    }
   ],
   "source": [
    "len(state_names)"
   ]
  },
  {
   "cell_type": "code",
   "execution_count": null,
   "metadata": {
    "collapsed": true
   },
   "outputs": [],
   "source": []
  }
 ],
 "metadata": {
  "kernelspec": {
   "display_name": "Python 3",
   "language": "python",
   "name": "python3"
  },
  "language_info": {
   "codemirror_mode": {
    "name": "ipython",
    "version": 3
   },
   "file_extension": ".py",
   "mimetype": "text/x-python",
   "name": "python",
   "nbconvert_exporter": "python",
   "pygments_lexer": "ipython3",
   "version": "3.6.0"
  }
 },
 "nbformat": 4,
 "nbformat_minor": 2
}
