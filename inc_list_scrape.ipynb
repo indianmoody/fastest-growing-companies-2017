{
 "cells": [
  {
   "cell_type": "code",
   "execution_count": 2,
   "metadata": {
    "collapsed": true
   },
   "outputs": [],
   "source": [
    "from bs4 import BeautifulSoup #for HTML parsing\n",
    "from selenium import webdriver #to scrape javascript code of page, 'requests' fails to scrap required data\n",
    "from selenium.common.exceptions import TimeoutException\n",
    "from selenium.webdriver.support.ui import WebDriverWait # available since 2.4.0\n",
    "from selenium.webdriver.common.by import By\n",
    "from selenium.webdriver.support import expected_conditions as EC\n",
    "import time"
   ]
  },
  {
   "cell_type": "code",
   "execution_count": 27,
   "metadata": {
    "collapsed": false
   },
   "outputs": [],
   "source": [
    "urls = []\n",
    "#60 per url\n",
    "urls.append(\"https://www.inc.com/profile/skillz\")\n",
    "urls.append(\"https://www.inc.com/profile/givingtons\")\n",
    "urls.append(\"https://www.inc.com/profile/ruby-has-fulfillment\")\n",
    "urls.append(\"https://www.inc.com/profile/stream-logistics\")\n",
    "urls.append(\"https://www.inc.com/profile/palmisano\")\n",
    "urls.append(\"https://www.inc.com/profile/cylance\")\n",
    "urls.append(\"https://www.inc.com/profile/ncino\")\n",
    "urls.append(\"https://www.inc.com/profile/midwest-corporate-credit\")\n",
    "urls.append(\"https://www.inc.com/profile/bahfed\")\n",
    "urls.append(\"https://www.inc.com/profile/auric-solar\") \n",
    "urls.append(\"https://www.inc.com/profile/black-book-research\") #upto 660 rank\n",
    "\n",
    "#120\n",
    "urls.append(\"https://www.inc.com/profile/whim-hospitality\") #780\n",
    "#60\n",
    "urls.append(\"https://www.inc.com/profile/easy-media\") #840\n",
    "urls.append(\"https://www.inc.com/profile/evoke-neuroscience\")\n",
    "urls.append(\"https://www.inc.com/profile/tara-wilson-agency\")\n",
    "urls.append(\"https://www.inc.com/profile/digital-media-solutions\")\n",
    "urls.append(\"https://www.inc.com/profile/smartsheet\") #1080\n",
    "urls.append(\"https://www.inc.com/profile/dgdean\")\n",
    "urls.append(\"https://www.inc.com/profile/smarterhq\")#1200\n",
    "urls.append(\"https://www.inc.com/profile/marksys\")\n",
    "urls.append(\"https://www.inc.com/profile/topsteptrader\")\n",
    "urls.append(\"https://www.inc.com/profile/auben-realty\")\n",
    "urls.append(\"https://www.inc.com/profile/premier-private-jets\")#1440\n",
    "urls.append(\"https://www.inc.com/profile/the-kenjya-trusant-group\")\n",
    "urls.append(\"https://www.inc.com/profile/track5media\")\n",
    "urls.append(\"https://www.inc.com/profile/festivals-unlimited\")\n",
    "urls.append(\"https://www.inc.com/profile/bolay-enterprises\")#1680\n",
    "urls.append(\"https://www.inc.com/profile/netrush\")\n",
    "urls.append(\"https://www.inc.com/profile/24hrsdeals\")#1820\n",
    "urls.append(\"https://www.inc.com/profile/worksite-medical\")#1741-1760 (missed earlier)\n",
    "# to be done\n",
    "urls.append(\"https://www.inc.com/profile/bayfirst-solutions\") #1821 30\n",
    "urls.append(\"https://www.inc.com/profile/savan-group\") #1851\n",
    "urls.append(\"https://www.inc.com/profile/popular-ink\") #1881\n",
    "urls.append(\"https://www.inc.com/profile/realmart-realty\") #1910\n",
    "urls.append(\"https://www.inc.com/profile/taoti-creative\") #1941\n",
    "urls.append(\"https://www.inc.com/profile/strategic-holdings-group\") #1971 done\n",
    "urls.append(\"https://www.inc.com/profile/universal-plant-services\") #2001\n",
    "urls.append(\"https://www.inc.com/profile/merritt-communications\") #2031\n",
    "urls.append(\"https://www.inc.com/profile/c2g-partners\") #2061\n",
    "urls.append(\"https://www.inc.com/profile/homefix-custom-remodeling\") #2091 done till 2120 39\n",
    "urls.append(\"https://www.inc.com/profile/gadellnet-it-consulting\") #2121 40\n",
    "urls.append(\"https://www.inc.com/profile/developertown\") #2151\n",
    "urls.append(\"https://www.inc.com/profile/staff-smart\") #2181\n",
    "urls.append(\"https://www.inc.com/profile/prosperity-organic-foods\") #2211\n",
    "urls.append(\"https://www.inc.com/profile/selling-simplified\") #2241\n",
    "urls.append(\"https://www.inc.com/profile/mid-atlantic-protel\") #2271\n",
    "urls.append(\"https://www.inc.com/profile/emazinglights-iheartraves-intotheam\") #2301\n",
    "urls.append(\"https://www.inc.com/profile/accountable-healthcare-staffing\") #2331\n",
    "urls.append(\"https://www.inc.com/profile/carson-group\") #2361\n",
    "urls.append(\"https://www.inc.com/profile/janus-international-group\") #2391\n",
    "urls.append(\"https://www.inc.com/profile/3-blind-mice-window-coverings\") #2421 50\n",
    "urls.append(\"https://www.inc.com/profile/kuykendall-solar\") #2451\n",
    "urls.append(\"https://www.inc.com/profile/chantel-ray-real-estate\") #2481"
   ]
  },
  {
   "cell_type": "code",
   "execution_count": 28,
   "metadata": {
    "collapsed": true
   },
   "outputs": [],
   "source": [
    "import csv"
   ]
  },
  {
   "cell_type": "code",
   "execution_count": 29,
   "metadata": {
    "collapsed": false
   },
   "outputs": [
    {
     "data": {
      "text/plain": [
       "'\\ncols = [\"Rank_2017\",\"Company_Name\",\"Revenue_2016\",\"Industry\",\"Employees\",\"Founded\",\"Growth_3_yrs\",\"Brief_Desc\",\"Leadership\",\"City\",\"State\",\"Website\",\"Description\"]\\nwith open(\\'inc_data.csv\\', \\'w\\') as f:\\n    f.write(\"|\".join(cols) + \"\\n\")\\n'"
      ]
     },
     "execution_count": 29,
     "metadata": {},
     "output_type": "execute_result"
    }
   ],
   "source": [
    "'''\n",
    "cols = [\"Rank_2017\",\"Company_Name\",\"Revenue_2016\",\"Industry\",\"Employees\",\"Founded\",\"Growth_3_yrs\",\"Brief_Desc\",\"Leadership\",\"City\",\"State\",\"Website\",\"Description\"]\n",
    "with open('inc_data.csv', 'w') as f:\n",
    "    f.write(\"|\".join(cols) + \"\\n\")\n",
    "'''"
   ]
  },
  {
   "cell_type": "code",
   "execution_count": 48,
   "metadata": {
    "collapsed": false
   },
   "outputs": [
    {
     "ename": "WebDriverException",
     "evalue": "Message: Could not create a session: The session timed out while connecting to a Safari instance.\n",
     "output_type": "error",
     "traceback": [
      "\u001b[0;31m---------------------------------------------------------------------------\u001b[0m",
      "\u001b[0;31mWebDriverException\u001b[0m                        Traceback (most recent call last)",
      "\u001b[0;32m<ipython-input-48-8aabfb1e7462>\u001b[0m in \u001b[0;36m<module>\u001b[0;34m()\u001b[0m\n\u001b[1;32m      2\u001b[0m \u001b[0;32mfor\u001b[0m \u001b[0mj\u001b[0m \u001b[0;32min\u001b[0m \u001b[0mrange\u001b[0m\u001b[0;34m(\u001b[0m\u001b[0;36m15\u001b[0m\u001b[0;34m)\u001b[0m\u001b[0;34m:\u001b[0m\u001b[0;34m\u001b[0m\u001b[0m\n\u001b[1;32m      3\u001b[0m     \u001b[0;31m#curr_url = urls[j]\u001b[0m\u001b[0;34m\u001b[0m\u001b[0;34m\u001b[0m\u001b[0m\n\u001b[0;32m----> 4\u001b[0;31m     \u001b[0mbrowser\u001b[0m \u001b[0;34m=\u001b[0m \u001b[0mwebdriver\u001b[0m\u001b[0;34m.\u001b[0m\u001b[0mSafari\u001b[0m\u001b[0;34m(\u001b[0m\u001b[0;34m)\u001b[0m\u001b[0;34m\u001b[0m\u001b[0m\n\u001b[0m\u001b[1;32m      5\u001b[0m     \u001b[0mbrowser\u001b[0m\u001b[0;34m.\u001b[0m\u001b[0mget\u001b[0m\u001b[0;34m(\u001b[0m\u001b[0mcurr_url\u001b[0m\u001b[0;34m)\u001b[0m\u001b[0;34m\u001b[0m\u001b[0m\n\u001b[1;32m      6\u001b[0m     \u001b[0mwait\u001b[0m \u001b[0;34m=\u001b[0m \u001b[0mWebDriverWait\u001b[0m\u001b[0;34m(\u001b[0m\u001b[0mbrowser\u001b[0m\u001b[0;34m,\u001b[0m \u001b[0;36m100\u001b[0m\u001b[0;34m)\u001b[0m\u001b[0;34m\u001b[0m\u001b[0m\n",
      "\u001b[0;32m/anaconda/lib/python3.6/site-packages/selenium/webdriver/safari/webdriver.py\u001b[0m in \u001b[0;36m__init__\u001b[0;34m(self, port, executable_path, desired_capabilities, quiet)\u001b[0m\n\u001b[1;32m     50\u001b[0m             \u001b[0mself\u001b[0m\u001b[0;34m,\u001b[0m\u001b[0;34m\u001b[0m\u001b[0m\n\u001b[1;32m     51\u001b[0m             \u001b[0mcommand_executor\u001b[0m\u001b[0;34m=\u001b[0m\u001b[0mself\u001b[0m\u001b[0;34m.\u001b[0m\u001b[0mservice\u001b[0m\u001b[0;34m.\u001b[0m\u001b[0mservice_url\u001b[0m\u001b[0;34m,\u001b[0m\u001b[0;34m\u001b[0m\u001b[0m\n\u001b[0;32m---> 52\u001b[0;31m             desired_capabilities=desired_capabilities)\n\u001b[0m\u001b[1;32m     53\u001b[0m         \u001b[0mself\u001b[0m\u001b[0;34m.\u001b[0m\u001b[0m_is_remote\u001b[0m \u001b[0;34m=\u001b[0m \u001b[0;32mFalse\u001b[0m\u001b[0;34m\u001b[0m\u001b[0m\n\u001b[1;32m     54\u001b[0m \u001b[0;34m\u001b[0m\u001b[0m\n",
      "\u001b[0;32m/anaconda/lib/python3.6/site-packages/selenium/webdriver/remote/webdriver.py\u001b[0m in \u001b[0;36m__init__\u001b[0;34m(self, command_executor, desired_capabilities, browser_profile, proxy, keep_alive, file_detector)\u001b[0m\n\u001b[1;32m    138\u001b[0m             warnings.warn(\"Please use FirefoxOptions to set browser profile\",\n\u001b[1;32m    139\u001b[0m                           DeprecationWarning)\n\u001b[0;32m--> 140\u001b[0;31m         \u001b[0mself\u001b[0m\u001b[0;34m.\u001b[0m\u001b[0mstart_session\u001b[0m\u001b[0;34m(\u001b[0m\u001b[0mdesired_capabilities\u001b[0m\u001b[0;34m,\u001b[0m \u001b[0mbrowser_profile\u001b[0m\u001b[0;34m)\u001b[0m\u001b[0;34m\u001b[0m\u001b[0m\n\u001b[0m\u001b[1;32m    141\u001b[0m         \u001b[0mself\u001b[0m\u001b[0;34m.\u001b[0m\u001b[0m_switch_to\u001b[0m \u001b[0;34m=\u001b[0m \u001b[0mSwitchTo\u001b[0m\u001b[0;34m(\u001b[0m\u001b[0mself\u001b[0m\u001b[0;34m)\u001b[0m\u001b[0;34m\u001b[0m\u001b[0m\n\u001b[1;32m    142\u001b[0m         \u001b[0mself\u001b[0m\u001b[0;34m.\u001b[0m\u001b[0m_mobile\u001b[0m \u001b[0;34m=\u001b[0m \u001b[0mMobile\u001b[0m\u001b[0;34m(\u001b[0m\u001b[0mself\u001b[0m\u001b[0;34m)\u001b[0m\u001b[0;34m\u001b[0m\u001b[0m\n",
      "\u001b[0;32m/anaconda/lib/python3.6/site-packages/selenium/webdriver/remote/webdriver.py\u001b[0m in \u001b[0;36mstart_session\u001b[0;34m(self, capabilities, browser_profile)\u001b[0m\n\u001b[1;32m    227\u001b[0m         parameters = {\"capabilities\": w3c_caps,\n\u001b[1;32m    228\u001b[0m                       \"desiredCapabilities\": capabilities}\n\u001b[0;32m--> 229\u001b[0;31m         \u001b[0mresponse\u001b[0m \u001b[0;34m=\u001b[0m \u001b[0mself\u001b[0m\u001b[0;34m.\u001b[0m\u001b[0mexecute\u001b[0m\u001b[0;34m(\u001b[0m\u001b[0mCommand\u001b[0m\u001b[0;34m.\u001b[0m\u001b[0mNEW_SESSION\u001b[0m\u001b[0;34m,\u001b[0m \u001b[0mparameters\u001b[0m\u001b[0;34m)\u001b[0m\u001b[0;34m\u001b[0m\u001b[0m\n\u001b[0m\u001b[1;32m    230\u001b[0m         \u001b[0;32mif\u001b[0m \u001b[0;34m'sessionId'\u001b[0m \u001b[0;32mnot\u001b[0m \u001b[0;32min\u001b[0m \u001b[0mresponse\u001b[0m\u001b[0;34m:\u001b[0m\u001b[0;34m\u001b[0m\u001b[0m\n\u001b[1;32m    231\u001b[0m             \u001b[0mresponse\u001b[0m \u001b[0;34m=\u001b[0m \u001b[0mresponse\u001b[0m\u001b[0;34m[\u001b[0m\u001b[0;34m'value'\u001b[0m\u001b[0;34m]\u001b[0m\u001b[0;34m\u001b[0m\u001b[0m\n",
      "\u001b[0;32m/anaconda/lib/python3.6/site-packages/selenium/webdriver/remote/webdriver.py\u001b[0m in \u001b[0;36mexecute\u001b[0;34m(self, driver_command, params)\u001b[0m\n\u001b[1;32m    295\u001b[0m         \u001b[0mresponse\u001b[0m \u001b[0;34m=\u001b[0m \u001b[0mself\u001b[0m\u001b[0;34m.\u001b[0m\u001b[0mcommand_executor\u001b[0m\u001b[0;34m.\u001b[0m\u001b[0mexecute\u001b[0m\u001b[0;34m(\u001b[0m\u001b[0mdriver_command\u001b[0m\u001b[0;34m,\u001b[0m \u001b[0mparams\u001b[0m\u001b[0;34m)\u001b[0m\u001b[0;34m\u001b[0m\u001b[0m\n\u001b[1;32m    296\u001b[0m         \u001b[0;32mif\u001b[0m \u001b[0mresponse\u001b[0m\u001b[0;34m:\u001b[0m\u001b[0;34m\u001b[0m\u001b[0m\n\u001b[0;32m--> 297\u001b[0;31m             \u001b[0mself\u001b[0m\u001b[0;34m.\u001b[0m\u001b[0merror_handler\u001b[0m\u001b[0;34m.\u001b[0m\u001b[0mcheck_response\u001b[0m\u001b[0;34m(\u001b[0m\u001b[0mresponse\u001b[0m\u001b[0;34m)\u001b[0m\u001b[0;34m\u001b[0m\u001b[0m\n\u001b[0m\u001b[1;32m    298\u001b[0m             response['value'] = self._unwrap_value(\n\u001b[1;32m    299\u001b[0m                 response.get('value', None))\n",
      "\u001b[0;32m/anaconda/lib/python3.6/site-packages/selenium/webdriver/remote/errorhandler.py\u001b[0m in \u001b[0;36mcheck_response\u001b[0;34m(self, response)\u001b[0m\n\u001b[1;32m    192\u001b[0m         \u001b[0;32melif\u001b[0m \u001b[0mexception_class\u001b[0m \u001b[0;34m==\u001b[0m \u001b[0mUnexpectedAlertPresentException\u001b[0m \u001b[0;32mand\u001b[0m \u001b[0;34m'alert'\u001b[0m \u001b[0;32min\u001b[0m \u001b[0mvalue\u001b[0m\u001b[0;34m:\u001b[0m\u001b[0;34m\u001b[0m\u001b[0m\n\u001b[1;32m    193\u001b[0m             \u001b[0;32mraise\u001b[0m \u001b[0mexception_class\u001b[0m\u001b[0;34m(\u001b[0m\u001b[0mmessage\u001b[0m\u001b[0;34m,\u001b[0m \u001b[0mscreen\u001b[0m\u001b[0;34m,\u001b[0m \u001b[0mstacktrace\u001b[0m\u001b[0;34m,\u001b[0m \u001b[0mvalue\u001b[0m\u001b[0;34m[\u001b[0m\u001b[0;34m'alert'\u001b[0m\u001b[0;34m]\u001b[0m\u001b[0;34m.\u001b[0m\u001b[0mget\u001b[0m\u001b[0;34m(\u001b[0m\u001b[0;34m'text'\u001b[0m\u001b[0;34m)\u001b[0m\u001b[0;34m)\u001b[0m\u001b[0;34m\u001b[0m\u001b[0m\n\u001b[0;32m--> 194\u001b[0;31m         \u001b[0;32mraise\u001b[0m \u001b[0mexception_class\u001b[0m\u001b[0;34m(\u001b[0m\u001b[0mmessage\u001b[0m\u001b[0;34m,\u001b[0m \u001b[0mscreen\u001b[0m\u001b[0;34m,\u001b[0m \u001b[0mstacktrace\u001b[0m\u001b[0;34m)\u001b[0m\u001b[0;34m\u001b[0m\u001b[0m\n\u001b[0m\u001b[1;32m    195\u001b[0m \u001b[0;34m\u001b[0m\u001b[0m\n\u001b[1;32m    196\u001b[0m     \u001b[0;32mdef\u001b[0m \u001b[0m_value_or_default\u001b[0m\u001b[0;34m(\u001b[0m\u001b[0mself\u001b[0m\u001b[0;34m,\u001b[0m \u001b[0mobj\u001b[0m\u001b[0;34m,\u001b[0m \u001b[0mkey\u001b[0m\u001b[0;34m,\u001b[0m \u001b[0mdefault\u001b[0m\u001b[0;34m)\u001b[0m\u001b[0;34m:\u001b[0m\u001b[0;34m\u001b[0m\u001b[0m\n",
      "\u001b[0;31mWebDriverException\u001b[0m: Message: Could not create a session: The session timed out while connecting to a Safari instance.\n"
     ]
    }
   ],
   "source": [
    "curr_url = \"https://www.inc.com/profile/priority-title-escrow\"\n",
    "for j in range(15):\n",
    "    #curr_url = urls[j]\n",
    "    browser = webdriver.Safari()\n",
    "    browser.get(curr_url)\n",
    "    wait = WebDriverWait(browser, 100)\n",
    "    time.sleep(3)\n",
    "    browser.maximize_window()\n",
    "    \n",
    "    try:\n",
    "        #wait.until(EC.element_to_be_clickable((By.CLASS_NAME,'NextButton')))\n",
    "        time.sleep(30)\n",
    "        \n",
    "        for i in range(1,30):\n",
    "            if i%15 == 0:\n",
    "                time.sleep(5)\n",
    "            wait.until(EC.element_to_be_clickable((By.CLASS_NAME,'NextButton')))\n",
    "            browser.find_element_by_class_name(\"NextButton\").click()\n",
    "            time.sleep(3)\n",
    "            \n",
    "        inhtml = browser.execute_script(\"return document.body.innerHTML\") # extract inner HTML of the page as str\n",
    "        soup = BeautifulSoup(inhtml, 'html.parser') # parse with BeautifulSoup\n",
    "        \n",
    "        articles = soup.select(\"article\")\n",
    "        \n",
    "        chunk_list = [] #list of lists corresponding to each company details\n",
    "        for article in articles[20:-1]:\n",
    "            row_list = []\n",
    "            #rank\n",
    "            row_list.append(article.select(\"dl[class='rank'] dd\")[0].text[1:])\n",
    "            #company name\n",
    "            row_list.append(article.select(\"header h1\")[0].text.strip())\n",
    "            #revenue\n",
    "            revenue = article.select(\"dl[class='revenue'] dd\")\n",
    "            if len(revenue) == 0:\n",
    "                row_list.append('')\n",
    "            else:\n",
    "                row_list.append(revenue[0].text.strip())\n",
    "            #industry\n",
    "            industry = article.select(\"dl[class='ifi_industry'] dd\")\n",
    "            if len(industry) == 0:\n",
    "                row_list.append('')\n",
    "            else:\n",
    "                row_list.append(industry[0].text.strip())\n",
    "            #employees\n",
    "            employees = article.select(\"dl[class='employees'] dd\")\n",
    "            if len(employees) == 0:\n",
    "                row_list.append('')\n",
    "            else:\n",
    "                row_list.append(employees[0].text.strip())\n",
    "            #founded\n",
    "            founded = article.select(\"dl[class='ifc_founded'] dd\")\n",
    "            if len(founded) == 0:\n",
    "                row_list.append('')\n",
    "            else:\n",
    "                row_list.append(founded[0].text.strip())\n",
    "            #growth\n",
    "            growth = article.select(\"dl[class='growth'] dd\")\n",
    "            if len(growth) == 0:\n",
    "                row_list.append('')\n",
    "            else:\n",
    "                row_list.append(growth[0].text.strip())\n",
    "            #brief description\n",
    "            brief_desc = article.select(\"header p\")\n",
    "            if len(brief_desc) == 0:\n",
    "                row_list.append('')\n",
    "            else:\n",
    "                row_list.append(brief_desc[0].text.strip())\n",
    "            #leadership\n",
    "            leadership = article.select(\"dl[class='leadership'] dd\")\n",
    "            if len(leadership) == 0:\n",
    "                row_list.append('')\n",
    "            else:\n",
    "                row_list.append(leadership[0].text.strip())\n",
    "            #city and state\n",
    "            location = article.select(\"dl[class='location'] dd\")\n",
    "            if len(location) == 0:\n",
    "                location = article.select(\"dl[class='address'] dd br\")\n",
    "            locss = location[0].text.strip().split(',')\n",
    "            city = locss[-2]\n",
    "            state = locss[-1]\n",
    "            city = city.strip()\n",
    "            state = state.strip()\n",
    "            row_list.append(city)\n",
    "            row_list.append(state)\n",
    "            #website\n",
    "            website = article.select(\"dd[class='website']\")\n",
    "            if len(website) == 0:\n",
    "                row_list.append('')\n",
    "            else:\n",
    "                row_list.append(website[0].text.strip())\n",
    "            #description\n",
    "            desc = article.select(\"div[class='description'] p\")\n",
    "            if len(desc) == 0:\n",
    "                row_list.append('')\n",
    "            else:\n",
    "                row_list.append(desc[0].text.strip())\n",
    "            \n",
    "            chunk_list.append(row_list)\n",
    "            \n",
    "        with open('inc_data.csv', 'a') as f:\n",
    "            for row in chunk_list:\n",
    "                f.write(\"|\".join(row) + \"\\n\")\n",
    "        \n",
    "        #get url for next page load from last article element\n",
    "        next_company = articles[-1].select(\"header h1\")[0].text.strip()\n",
    "        curr_url = \"https://www.inc.com/profile/\" + \"-\".join(next_company.split())\n",
    "        \n",
    "    finally:\n",
    "        browser.quit()\n",
    "        time.sleep(30)\n"
   ]
  },
  {
   "cell_type": "code",
   "execution_count": 21,
   "metadata": {
    "collapsed": false
   },
   "outputs": [
    {
     "data": {
      "text/plain": [
       "22"
      ]
     },
     "execution_count": 21,
     "metadata": {},
     "output_type": "execute_result"
    }
   ],
   "source": [
    "len(articles)"
   ]
  },
  {
   "cell_type": "code",
   "execution_count": 45,
   "metadata": {
    "collapsed": false
   },
   "outputs": [
    {
     "data": {
      "text/plain": [
       "'https://www.inc.com/profile/Atlantic-Tape-&-Packaging'"
      ]
     },
     "execution_count": 45,
     "metadata": {},
     "output_type": "execute_result"
    }
   ],
   "source": [
    "curr_url"
   ]
  },
  {
   "cell_type": "code",
   "execution_count": null,
   "metadata": {
    "collapsed": true
   },
   "outputs": [],
   "source": []
  },
  {
   "cell_type": "code",
   "execution_count": null,
   "metadata": {
    "collapsed": true
   },
   "outputs": [],
   "source": []
  },
  {
   "cell_type": "code",
   "execution_count": null,
   "metadata": {
    "collapsed": true
   },
   "outputs": [],
   "source": []
  },
  {
   "cell_type": "code",
   "execution_count": 9,
   "metadata": {
    "collapsed": false
   },
   "outputs": [
    {
     "data": {
      "text/plain": [
       "81"
      ]
     },
     "execution_count": 9,
     "metadata": {},
     "output_type": "execute_result"
    }
   ],
   "source": [
    "len(soup.select(\"article\"))"
   ]
  },
  {
   "cell_type": "code",
   "execution_count": 38,
   "metadata": {
    "collapsed": false
   },
   "outputs": [
    {
     "data": {
      "text/plain": [
       "'Provo, UT'"
      ]
     },
     "execution_count": 38,
     "metadata": {},
     "output_type": "execute_result"
    }
   ],
   "source": [
    "soup.select(\"article dl[class='address'] dd br\")[2].text"
   ]
  },
  {
   "cell_type": "code",
   "execution_count": 43,
   "metadata": {
    "collapsed": false
   },
   "outputs": [
    {
     "data": {
      "text/plain": [
       "'laurenjames.com'"
      ]
     },
     "execution_count": 43,
     "metadata": {},
     "output_type": "execute_result"
    }
   ],
   "source": [
    "soup.select(\"article dd[class='website']\")[52].text.strip()"
   ]
  },
  {
   "cell_type": "code",
   "execution_count": 49,
   "metadata": {
    "collapsed": false
   },
   "outputs": [
    {
     "data": {
      "text/plain": [
       "'James Moore'"
      ]
     },
     "execution_count": 49,
     "metadata": {},
     "output_type": "execute_result"
    }
   ],
   "source": [
    "#leadership\n",
    "soup.select(\"article dl[class='leadership'] dd\")[5].text"
   ]
  },
  {
   "cell_type": "code",
   "execution_count": 51,
   "metadata": {
    "collapsed": false
   },
   "outputs": [
    {
     "data": {
      "text/plain": [
       "'$19.7 M'"
      ]
     },
     "execution_count": 51,
     "metadata": {},
     "output_type": "execute_result"
    }
   ],
   "source": [
    "#revenue\n",
    "soup.select(\"article dl[class='revenue'] dd\")[5].text"
   ]
  },
  {
   "cell_type": "code",
   "execution_count": 53,
   "metadata": {
    "collapsed": false
   },
   "outputs": [
    {
     "data": {
      "text/plain": [
       "'6'"
      ]
     },
     "execution_count": 53,
     "metadata": {},
     "output_type": "execute_result"
    }
   ],
   "source": [
    "#rank\n",
    "soup.select(\"article dl[class='rank'] dd\")[5].text[1:]"
   ]
  },
  {
   "cell_type": "code",
   "execution_count": 56,
   "metadata": {
    "collapsed": false
   },
   "outputs": [
    {
     "data": {
      "text/plain": [
       "'19,352'"
      ]
     },
     "execution_count": 56,
     "metadata": {},
     "output_type": "execute_result"
    }
   ],
   "source": [
    "#growth in %\n",
    "soup3.select(\"article dl[class='growth'] dd\")[5].text[:-1]"
   ]
  },
  {
   "cell_type": "code",
   "execution_count": 57,
   "metadata": {
    "collapsed": false
   },
   "outputs": [
    {
     "data": {
      "text/plain": [
       "'Financial Services'"
      ]
     },
     "execution_count": 57,
     "metadata": {},
     "output_type": "execute_result"
    }
   ],
   "source": [
    "#industry\n",
    "soup.select(\"article dl[class='ifi_industry'] dd\")[5].text"
   ]
  },
  {
   "cell_type": "code",
   "execution_count": 62,
   "metadata": {
    "collapsed": false
   },
   "outputs": [
    {
     "data": {
      "text/plain": [
       "'2011'"
      ]
     },
     "execution_count": 62,
     "metadata": {},
     "output_type": "execute_result"
    }
   ],
   "source": [
    "#founded\n",
    "soup.select(\"article dl[class='ifc_founded'] dd\")[5].text"
   ]
  },
  {
   "cell_type": "code",
   "execution_count": 64,
   "metadata": {
    "collapsed": false
   },
   "outputs": [
    {
     "data": {
      "text/plain": [
       "59"
      ]
     },
     "execution_count": 64,
     "metadata": {},
     "output_type": "execute_result"
    }
   ],
   "source": [
    "#employees\n",
    "len(soup.select(\"article dl[class='employees'] dd\"))"
   ]
  },
  {
   "cell_type": "code",
   "execution_count": null,
   "metadata": {
    "collapsed": false
   },
   "outputs": [],
   "source": []
  },
  {
   "cell_type": "code",
   "execution_count": 76,
   "metadata": {
    "collapsed": false
   },
   "outputs": [
    {
     "data": {
      "text/plain": [
       "<dd>#61</dd>"
      ]
     },
     "execution_count": 76,
     "metadata": {},
     "output_type": "execute_result"
    }
   ],
   "source": [
    "soup.select(\"article dl[class='rank'] dd\")[60]"
   ]
  },
  {
   "cell_type": "code",
   "execution_count": 79,
   "metadata": {
    "collapsed": false
   },
   "outputs": [
    {
     "data": {
      "text/plain": [
       "\"Small Business Owners of America started in 2011 as a consulting firm, offering practical assistance to entrepreneurs for everything from writing business plans to incorporating startups. In 2013, founder James Moore added a financing wing to his business--offering alternative lending services along with investing directly in some client companies. That's when things really started to take off. In its first year of offering funding, the company bankrolled about $400,000 in deals. Last year, it funded over $15 million to more than 100 small businesses.\""
      ]
     },
     "execution_count": 79,
     "metadata": {},
     "output_type": "execute_result"
    }
   ],
   "source": [
    "#description\n",
    "soup.select(\"article div[class='description'] p\")[5].text"
   ]
  },
  {
   "cell_type": "code",
   "execution_count": 80,
   "metadata": {
    "collapsed": true
   },
   "outputs": [],
   "source": [
    "articles = soup.select(\"article\")"
   ]
  },
  {
   "cell_type": "code",
   "execution_count": 86,
   "metadata": {
    "collapsed": false
   },
   "outputs": [
    {
     "name": "stdout",
     "output_type": "stream",
     "text": [
      "Skillz\n",
      "EnviroSolar Power\n",
      "Gametime\n",
      "Club Pilates Franchise\n",
      "Halo Top Creamery\n",
      "Small Business Owners of America\n",
      "AutomotiveMastermind\n",
      "Liftoff\n",
      "Greenspire\n",
      "FormulaFolio Investments\n",
      "Single Serve Beverage Distribution\n",
      "ShipHawk\n",
      "Adva-Net\n",
      "DashBid\n",
      "Forward Financing\n",
      "Solera Specialty Pharmacy\n",
      "Strike Social\n",
      "Reverb.com\n",
      "Excel Impact\n",
      "DGC International\n",
      "Shofur\n",
      "GrowthPlay\n",
      "CalCom Solar\n",
      "ION Solar\n",
      "The Penny Hoarder\n",
      "Matterport\n",
      "Legend Solar\n",
      "SaviLinx\n",
      "TechAnax\n",
      "Spar Information Systems\n",
      "Big Block Realty\n",
      "RelationEdge\n",
      "Globalization Partners\n",
      "Carvana\n",
      "Axe Wellness\n",
      "Interactive Government Holdings\n",
      "Bay State Search\n",
      "Enhanced Veterans Solutions\n",
      "Dealer Inspire\n",
      "Na Ali'i Consulting and Sales\n",
      "Dyla\n",
      "BlackRock Construction\n",
      "MM.LaFleur\n",
      "Lever1\n",
      "TrackR\n",
      "ByteCubed\n",
      "Avant\n",
      "iBenzer\n",
      "Boost Marketing Group\n",
      "FedBiz IT Solutions\n",
      "BASX Solutions\n",
      "Discount Power Texas\n",
      "Lauren James Enterprises\n",
      "Boomsourcing\n",
      "ClearView\n",
      "Samba TV\n",
      "Thought Logic Consulting\n",
      "Chef's Cut Real Jerky\n",
      "InfoScout\n",
      "Infusion Express\n",
      "Givington's\n"
     ]
    }
   ],
   "source": [
    "for article in articles[20:]:\n",
    "    print(article.select(\"header h1\")[0].text)"
   ]
  },
  {
   "cell_type": "code",
   "execution_count": null,
   "metadata": {
    "collapsed": true
   },
   "outputs": [],
   "source": []
  },
  {
   "cell_type": "code",
   "execution_count": null,
   "metadata": {
    "collapsed": true
   },
   "outputs": [],
   "source": []
  },
  {
   "cell_type": "code",
   "execution_count": null,
   "metadata": {
    "collapsed": true
   },
   "outputs": [],
   "source": []
  },
  {
   "cell_type": "code",
   "execution_count": null,
   "metadata": {
    "collapsed": true
   },
   "outputs": [],
   "source": []
  },
  {
   "cell_type": "code",
   "execution_count": null,
   "metadata": {
    "collapsed": true
   },
   "outputs": [],
   "source": []
  },
  {
   "cell_type": "code",
   "execution_count": null,
   "metadata": {
    "collapsed": true
   },
   "outputs": [],
   "source": []
  },
  {
   "cell_type": "code",
   "execution_count": 68,
   "metadata": {
    "collapsed": true
   },
   "outputs": [],
   "source": [
    "#if browser.find_element_by_class_name(\"NextButton\").is_enabled():\n",
    "    #    browser.find_element_by_class_name(\"NextButton\").click()"
   ]
  },
  {
   "cell_type": "code",
   "execution_count": 87,
   "metadata": {
    "collapsed": true
   },
   "outputs": [],
   "source": [
    "import csv"
   ]
  },
  {
   "cell_type": "code",
   "execution_count": 88,
   "metadata": {
    "collapsed": true
   },
   "outputs": [],
   "source": [
    "cols = [\"col1\", \"col2\", \"col3\"]"
   ]
  },
  {
   "cell_type": "code",
   "execution_count": 91,
   "metadata": {
    "collapsed": false
   },
   "outputs": [],
   "source": [
    "with open('selen.csv', 'w') as f:\n",
    "    f.write(\"|\".join(cols) + \"\\n\")"
   ]
  },
  {
   "cell_type": "code",
   "execution_count": 92,
   "metadata": {
    "collapsed": true
   },
   "outputs": [],
   "source": [
    "row1 = [\"apple\", \"ball\", \"cat\"]\n",
    "row2 = [\"ain't nothing\", \"usa, england\", \"tour\"]"
   ]
  },
  {
   "cell_type": "code",
   "execution_count": 93,
   "metadata": {
    "collapsed": true
   },
   "outputs": [],
   "source": [
    "with open('selen.csv', 'a') as f:\n",
    "    f.write(\"|\".join(row1) + \"\\n\")\n",
    "    f.write(\"|\".join(row2) + \"\\n\")"
   ]
  },
  {
   "cell_type": "code",
   "execution_count": 95,
   "metadata": {
    "collapsed": false
   },
   "outputs": [
    {
     "name": "stdout",
     "output_type": "stream",
     "text": [
      "col1\n",
      "col2\n",
      "col3\n",
      "apple\n",
      "ball\n",
      "cat\n",
      "ain't nothing\n",
      "usa, england\n",
      "tour\n"
     ]
    }
   ],
   "source": [
    "with open('selen.csv', 'r') as f:\n",
    "    reader = csv.reader(f, delimiter=\"|\")\n",
    "    for row in reader:\n",
    "        for r in row:\n",
    "            print(r)"
   ]
  },
  {
   "cell_type": "code",
   "execution_count": null,
   "metadata": {
    "collapsed": true
   },
   "outputs": [],
   "source": []
  },
  {
   "cell_type": "code",
   "execution_count": null,
   "metadata": {
    "collapsed": true
   },
   "outputs": [],
   "source": []
  },
  {
   "cell_type": "code",
   "execution_count": null,
   "metadata": {
    "collapsed": true
   },
   "outputs": [],
   "source": []
  },
  {
   "cell_type": "code",
   "execution_count": null,
   "metadata": {
    "collapsed": true
   },
   "outputs": [],
   "source": [
    "inc_url = \"https://www.inc.com/profile/skillz\"\n",
    "browser = webdriver.Safari()  # object for Safari browser\n",
    "browser.get(inc_url)       # navigate to the page\n",
    "wait = WebDriverWait(browser, 100)\n",
    "\n",
    "try:\n",
    "    wait.until(EC.element_to_be_clickable((By.CLASS_NAME,'NextButton')))    \n",
    "    \n",
    "    time.sleep(30)\n",
    "    for i in range(1,60):\n",
    "        if i%40 == 0:\n",
    "            time.sleep(30)\n",
    "        wait.until(EC.element_to_be_clickable((By.CLASS_NAME,'NextButton')))    \n",
    "        browser.find_element_by_class_name(\"NextButton\").click()\n",
    "        time.sleep(3)\n",
    "    \n",
    "    inhtml = browser.execute_script(\"return document.body.innerHTML\") # extract inner HTML of the page as str\n",
    "    soup = BeautifulSoup(inhtml, 'html.parser') # parse with BeautifulSoup\n",
    "    details = soup.select(\"div[class='NextButton'] div[class='PreviewText']\")\n",
    "    print(details)\n",
    "    \n",
    "finally:\n",
    "    browser.quit()"
   ]
  }
 ],
 "metadata": {
  "kernelspec": {
   "display_name": "Python 3",
   "language": "python",
   "name": "python3"
  },
  "language_info": {
   "codemirror_mode": {
    "name": "ipython",
    "version": 3
   },
   "file_extension": ".py",
   "mimetype": "text/x-python",
   "name": "python",
   "nbconvert_exporter": "python",
   "pygments_lexer": "ipython3",
   "version": "3.6.0"
  }
 },
 "nbformat": 4,
 "nbformat_minor": 2
}
